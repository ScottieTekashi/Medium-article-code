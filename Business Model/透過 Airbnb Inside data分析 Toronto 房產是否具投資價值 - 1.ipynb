{
 "cells": [
  {
   "cell_type": "code",
   "execution_count": 1,
   "metadata": {},
   "outputs": [
    {
     "data": {
      "text/html": [
       "        <script type=\"text/javascript\">\n",
       "        window.PlotlyConfig = {MathJaxConfig: 'local'};\n",
       "        if (window.MathJax) {MathJax.Hub.Config({SVG: {font: \"STIX-Web\"}});}\n",
       "        if (typeof require !== 'undefined') {\n",
       "        require.undef(\"plotly\");\n",
       "        requirejs.config({\n",
       "            paths: {\n",
       "                'plotly': ['https://cdn.plot.ly/plotly-latest.min']\n",
       "            }\n",
       "        });\n",
       "        require(['plotly'], function(Plotly) {\n",
       "            window._Plotly = Plotly;\n",
       "        });\n",
       "        }\n",
       "        </script>\n",
       "        "
      ]
     },
     "metadata": {},
     "output_type": "display_data"
    },
    {
     "data": {
      "text/html": [
       "        <script type=\"text/javascript\">\n",
       "        window.PlotlyConfig = {MathJaxConfig: 'local'};\n",
       "        if (window.MathJax) {MathJax.Hub.Config({SVG: {font: \"STIX-Web\"}});}\n",
       "        if (typeof require !== 'undefined') {\n",
       "        require.undef(\"plotly\");\n",
       "        requirejs.config({\n",
       "            paths: {\n",
       "                'plotly': ['https://cdn.plot.ly/plotly-latest.min']\n",
       "            }\n",
       "        });\n",
       "        require(['plotly'], function(Plotly) {\n",
       "            window._Plotly = Plotly;\n",
       "        });\n",
       "        }\n",
       "        </script>\n",
       "        "
      ]
     },
     "metadata": {},
     "output_type": "display_data"
    }
   ],
   "source": [
    "import pandas as pd \n",
    "import numpy as np \n",
    "import matplotlib.pyplot as plt \n",
    "%matplotlib inline \n",
    "import plotly.offline as py \n",
    "py.init_notebook_mode(connected=True) # 為了能在本地端調用\n",
    "import plotly.graph_objs as go\n",
    "import plotly.tools as tls\n",
    "import chart_studio.plotly as py               #plotly.plotly module is deprecated\n",
    "import plotly.figure_factory as ff  #會噴error\n",
    "#from plotly.tools import FigureFactory as ff\n",
    "import cufflinks as cf  #這個mode\n",
    "import seaborn as sns\n",
    "import warnings\n",
    "warnings.filterwarnings(\"ignore\")\n",
    "plt.rcParams['font.sans-serif'] = ['SimHei']  # 黑體\n",
    "plt.rcParams['axes.unicode_minus'] = False    # 解決無法顯示符號\n",
    "sns.set(font='SimHei', font_scale=0.8)     # 解决Seaborn中文顯示問題"
   ]
  },
  {
   "cell_type": "markdown",
   "metadata": {},
   "source": [
    "import cufflinks error\n",
    "\n",
    "https://community.plotly.com/t/cufflinks-error-importerror-cannot-import-name-figurewidget/25610    \n",
    "\n",
    "Python一行代碼搞定炫酷可視化，Cufflinks值得擁有\n",
    "\n",
    "https://kknews.cc/code/gm9mjrm.html"
   ]
  },
  {
   "cell_type": "code",
   "execution_count": 2,
   "metadata": {},
   "outputs": [
    {
     "name": "stdout",
     "output_type": "stream",
     "text": [
      "資料總共有 369 天及 18265 不同的清單在我們的calendar中\n",
      "2021-01-02 2022-01-05\n",
      "資料共 6667637 列 及 7 欄\n"
     ]
    },
    {
     "data": {
      "text/html": [
       "<div>\n",
       "<style scoped>\n",
       "    .dataframe tbody tr th:only-of-type {\n",
       "        vertical-align: middle;\n",
       "    }\n",
       "\n",
       "    .dataframe tbody tr th {\n",
       "        vertical-align: top;\n",
       "    }\n",
       "\n",
       "    .dataframe thead th {\n",
       "        text-align: right;\n",
       "    }\n",
       "</style>\n",
       "<table border=\"1\" class=\"dataframe\">\n",
       "  <thead>\n",
       "    <tr style=\"text-align: right;\">\n",
       "      <th></th>\n",
       "      <th>listing_id</th>\n",
       "      <th>date</th>\n",
       "      <th>available</th>\n",
       "      <th>price</th>\n",
       "      <th>adjusted_price</th>\n",
       "      <th>minimum_nights</th>\n",
       "      <th>maximum_nights</th>\n",
       "    </tr>\n",
       "  </thead>\n",
       "  <tbody>\n",
       "    <tr>\n",
       "      <th>6667632</th>\n",
       "      <td>47076188</td>\n",
       "      <td>2021-12-29</td>\n",
       "      <td>f</td>\n",
       "      <td>$280.00</td>\n",
       "      <td>$252.00</td>\n",
       "      <td>1.0</td>\n",
       "      <td>1125.0</td>\n",
       "    </tr>\n",
       "    <tr>\n",
       "      <th>6667633</th>\n",
       "      <td>47076188</td>\n",
       "      <td>2021-12-30</td>\n",
       "      <td>f</td>\n",
       "      <td>$280.00</td>\n",
       "      <td>$252.00</td>\n",
       "      <td>1.0</td>\n",
       "      <td>1125.0</td>\n",
       "    </tr>\n",
       "    <tr>\n",
       "      <th>6667634</th>\n",
       "      <td>47076188</td>\n",
       "      <td>2021-12-31</td>\n",
       "      <td>f</td>\n",
       "      <td>$280.00</td>\n",
       "      <td>$252.00</td>\n",
       "      <td>1.0</td>\n",
       "      <td>1125.0</td>\n",
       "    </tr>\n",
       "    <tr>\n",
       "      <th>6667635</th>\n",
       "      <td>47076188</td>\n",
       "      <td>2022-01-01</td>\n",
       "      <td>f</td>\n",
       "      <td>$280.00</td>\n",
       "      <td>$252.00</td>\n",
       "      <td>1.0</td>\n",
       "      <td>1125.0</td>\n",
       "    </tr>\n",
       "    <tr>\n",
       "      <th>6667636</th>\n",
       "      <td>47076188</td>\n",
       "      <td>2022-01-02</td>\n",
       "      <td>f</td>\n",
       "      <td>$280.00</td>\n",
       "      <td>$252.00</td>\n",
       "      <td>1.0</td>\n",
       "      <td>1125.0</td>\n",
       "    </tr>\n",
       "  </tbody>\n",
       "</table>\n",
       "</div>"
      ],
      "text/plain": [
       "         listing_id        date available    price adjusted_price  \\\n",
       "6667632    47076188  2021-12-29         f  $280.00        $252.00   \n",
       "6667633    47076188  2021-12-30         f  $280.00        $252.00   \n",
       "6667634    47076188  2021-12-31         f  $280.00        $252.00   \n",
       "6667635    47076188  2022-01-01         f  $280.00        $252.00   \n",
       "6667636    47076188  2022-01-02         f  $280.00        $252.00   \n",
       "\n",
       "         minimum_nights  maximum_nights  \n",
       "6667632             1.0          1125.0  \n",
       "6667633             1.0          1125.0  \n",
       "6667634             1.0          1125.0  \n",
       "6667635             1.0          1125.0  \n",
       "6667636             1.0          1125.0  "
      ]
     },
     "execution_count": 2,
     "metadata": {},
     "output_type": "execute_result"
    }
   ],
   "source": [
    "calendar = pd.read_csv('C:/Users/user/Desktop/medium文案/Finformation當資料科學遇上財務金融/toranto house data/calendar.csv')\n",
    "print('資料總共有',calendar.date.nunique() , '天及' , calendar.listing_id.nunique() ,'不同的清單在我們的calendar中')\n",
    "print(calendar.date.min() , calendar.date.max())\n",
    "print('資料共',calendar.shape[0],'列','及',calendar.shape[1],'欄')\n",
    "calendar.tail()\n",
    "#calendar.info()\n"
   ]
  },
  {
   "cell_type": "markdown",
   "metadata": {},
   "source": [
    "資料描述:   \n",
    "listing_id  \n",
    "date   \n",
    "available   \n",
    "available t/f 為是否可以入住  t為可以訂房/f則為已被預訂  \n",
    "price   \n",
    "adjusted_price   \n",
    "minimum_nights  \n",
    "maximum_nights  "
   ]
  },
  {
   "cell_type": "code",
   "execution_count": 3,
   "metadata": {},
   "outputs": [
    {
     "data": {
      "text/plain": [
       "Text(0.5, 1.0, 'Available ratio')"
      ]
     },
     "execution_count": 3,
     "metadata": {},
     "output_type": "execute_result"
    },
    {
     "data": {
      "image/png": "[encoded data removed]",
      "text/plain": [
       "<Figure size 432x288 with 1 Axes>"
      ]
     },
     "metadata": {},
     "output_type": "display_data"
    }
   ],
   "source": [
    "color = [\"red\", \"yellow\"]\n",
    "labels = set([i for i in calendar['available'].values])\n",
    "plt.pie(calendar.available.value_counts(), labels = labels, colors = color,autopct='%.0f%%',shadow=True,radius=1) # 繪製圓餅圖\n",
    "#這邊看出空房率還是很高的\n",
    "plt.title(\"Available ratio\")"
   ]
  },
  {
   "cell_type": "code",
   "execution_count": 4,
   "metadata": {},
   "outputs": [
    {
     "data": {
      "text/plain": [
       "Text(0, 0.5, '%Busy')"
      ]
     },
     "execution_count": 4,
     "metadata": {},
     "output_type": "execute_result"
    },
    {
     "data": {
      "image/png": "[encoded data removed]",
      "text/plain": [
       "<Figure size 720x360 with 1 Axes>"
      ]
     },
     "metadata": {},
     "output_type": "display_data"
    }
   ],
   "source": [
    "#想了解一年中哪些時刻淡旺季,利用時間序列與 t/f看出哪段時間空房多,就是淡季(即t較高)\n",
    "#code前要先定義淡旺季的意思,數學上如何表示,再code出來\n",
    "#其實旅遊業的淡旺季是有特定指標稱為「滿房率」\n",
    "#因此在進行數據分析前,除了運用數學統計邏輯思考以外,可以針對資料領域的Domain knowhow進行了解再code,這樣站在巨人肩膀上\n",
    "#分析的專業度上會更加提升,且更能貼合,該領域習慣,原有的分析狀態,之後才會進而做改良,不論是指標上或是BI上\n",
    "\n",
    "new_calendar = calendar[['date' , 'available']]\n",
    "new_calendar['busy'] = new_calendar.available.map(lambda x:0 if x == 't' else 1)\n",
    "\n",
    "new_calendar = new_calendar.groupby('date')['busy'].mean().reset_index() #id每間房間在368天的 t/f加總平均為多少 0<X<1\n",
    "new_calendar['date'] = pd.to_datetime(new_calendar['date'])#轉換Dtype,畫x軸時會顯示日期(plt)\n",
    "\n",
    "plt.figure(figsize = (10 , 5))\n",
    "plt.plot(new_calendar['date'] , new_calendar['busy'])\n",
    "plt.title('Airbnb Toranto Calendar')\n",
    "plt.ylabel('%Busy')"
   ]
  },
  {
   "cell_type": "markdown",
   "metadata": {},
   "source": [
    "# 「滿房率」定義及公式"
   ]
  },
  {
   "cell_type": "code",
   "execution_count": 5,
   "metadata": {},
   "outputs": [
    {
     "data": {
      "text/plain": [
       "Text(0, 0.5, 'Month')"
      ]
     },
     "execution_count": 5,
     "metadata": {},
     "output_type": "execute_result"
    },
    {
     "data": {
      "image/png": "[encoded data removed]",
      "text/plain": [
       "<Figure size 1152x648 with 1 Axes>"
      ]
     },
     "metadata": {},
     "output_type": "display_data"
    }
   ],
   "source": [
    "#再來思考商業模式中的售價,售價會影響營收,因此切入分析\n",
    "#思考這筆投資在哪一月份中的 P 最高,再思考是否可以應用 Peak-load pricing 執行價格管控獲取最大利潤\n",
    "#除了管理學上的理論外,culture也是很重要的,BI中數據異常時透過對local culture的了解會有助於找出原因,進而催生出解決方案\n",
    "calendar['date'] = pd.to_datetime(calendar['date'])\n",
    "\n",
    "calendar['price'] = calendar['price'].str.replace(',','').str.replace('$' , '').astype(float) #處理數據 #這裡無法重複執行,再次執行要註解掉\n",
    "\n",
    "mean_of_month = calendar.groupby(calendar['date'].dt.strftime('%B') , sort = False)['price'].mean() #dt進階操作\n",
    "\n",
    "#其實這個平均價格可以考慮要不要分類,listing_id為不同的物件,價格有高有低,等級也會有所不同,可以考慮以價格區分出等級再計算每個區間的價格平均\n",
    "#就可以得到更細節的數據,至於價格區間如何訂定?,可以參考airbnb官網消費者選取價格的區間作為依據\n",
    "\n",
    "\n",
    "#mean_of_month.plot(kind = 'barh' , figsize = (12,7))\n",
    "plt.figure(figsize=(16,9)) #要先設定在數據前面\n",
    "sns.barplot(y=mean_of_month.index,x=mean_of_month.values,palette=\"flare\")\n",
    "plt.xlabel('average monthly price')\n",
    "plt.ylabel('Month')"
   ]
  },
  {
   "cell_type": "markdown",
   "metadata": {},
   "source": [
    "Python3 pandas库(25) 时间日期高效操作   \n",
    "https://zhuanlan.zhihu.com/p/31490318"
   ]
  },
  {
   "cell_type": "code",
   "execution_count": 6,
   "metadata": {},
   "outputs": [
    {
     "data": {
      "image/png": "[encoded data removed]",
      "text/plain": [
       "<Figure size 432x288 with 1 Axes>"
      ]
     },
     "metadata": {},
     "output_type": "display_data"
    }
   ],
   "source": [
    "#1,2月份普遍比較少人來價格較低,可以深入了解為甚麼,從質量分析去找原因,及量化分析找佐證\n",
    "#那我們再進一步了解週間熱門程度\n",
    "import datetime\n",
    "calendar['dayofweek'] = calendar.date.dt.weekday\n",
    "dayofweek = []\n",
    "week_days = [\"Monday\",\"Tuesday\",\"Wednesday\",\"Thursday\",\"Friday\",\"Saturday\",\"Sunday\"]\n",
    "\n",
    "for i  in calendar['dayofweek']:\n",
    "    a = week_days[i]\n",
    "    dayofweek.append(a)\n",
    " \n",
    "calendar['dayofweek'] = dayofweek\n",
    "\n",
    "price_week = calendar.groupby('dayofweek')['price'].mean().reindex(week_days)\n",
    "sns.lineplot(data=price_week,)\n",
    "sns.set_style('whitegrid')\n",
    "sns.set_palette(sns.color_palette('bright'))"
   ]
  },
  {
   "cell_type": "markdown",
   "metadata": {},
   "source": [
    "plotly   \n",
    "https://plotly.com/python/ipython-notebook-tutorial/"
   ]
  },
  {
   "cell_type": "code",
   "execution_count": 7,
   "metadata": {},
   "outputs": [
    {
     "name": "stdout",
     "output_type": "stream",
     "text": [
      "171.38018067341912 158.65259431489747\n"
     ]
    }
   ],
   "source": [
    "#上面的價格在週五~週六突然拉高,會不會是因為跨年,數據 head,tail拉出來看,確實2022年跨年是在週五~週六,進一步思考可以如何利用columns分析\n",
    "\n",
    "calendar.tail()\n",
    "calendar.head()\n",
    "s = calendar \n",
    "跨年 = s[s.date == '2021-12-31' ]['price'].mean() #指在12/31號當天的平均租房價\n",
    "整年 = s['price'].mean() #整年度平均租房價\n",
    "print(跨年,整年)\n"
   ]
  },
  {
   "cell_type": "code",
   "execution_count": 8,
   "metadata": {},
   "outputs": [
    {
     "name": "stdout",
     "output_type": "stream",
     "text": [
      "我們有 18265 筆資料\n"
     ]
    },
    {
     "data": {
      "text/html": [
       "<div>\n",
       "<style scoped>\n",
       "    .dataframe tbody tr th:only-of-type {\n",
       "        vertical-align: middle;\n",
       "    }\n",
       "\n",
       "    .dataframe tbody tr th {\n",
       "        vertical-align: top;\n",
       "    }\n",
       "\n",
       "    .dataframe thead th {\n",
       "        text-align: right;\n",
       "    }\n",
       "</style>\n",
       "<table border=\"1\" class=\"dataframe\">\n",
       "  <thead>\n",
       "    <tr style=\"text-align: right;\">\n",
       "      <th></th>\n",
       "      <th>id</th>\n",
       "      <th>listing_url</th>\n",
       "      <th>scrape_id</th>\n",
       "      <th>last_scraped</th>\n",
       "      <th>name</th>\n",
       "      <th>description</th>\n",
       "      <th>neighborhood_overview</th>\n",
       "      <th>picture_url</th>\n",
       "      <th>host_id</th>\n",
       "      <th>host_url</th>\n",
       "      <th>...</th>\n",
       "      <th>review_scores_communication</th>\n",
       "      <th>review_scores_location</th>\n",
       "      <th>review_scores_value</th>\n",
       "      <th>license</th>\n",
       "      <th>instant_bookable</th>\n",
       "      <th>calculated_host_listings_count</th>\n",
       "      <th>calculated_host_listings_count_entire_homes</th>\n",
       "      <th>calculated_host_listings_count_private_rooms</th>\n",
       "      <th>calculated_host_listings_count_shared_rooms</th>\n",
       "      <th>reviews_per_month</th>\n",
       "    </tr>\n",
       "  </thead>\n",
       "  <tbody>\n",
       "    <tr>\n",
       "      <th>0</th>\n",
       "      <td>1419</td>\n",
       "      <td>https://www.airbnb.com/rooms/1419</td>\n",
       "      <td>20210102020445</td>\n",
       "      <td>2021-01-02</td>\n",
       "      <td>Beautiful home in amazing area!</td>\n",
       "      <td>This large, family home is located in one of T...</td>\n",
       "      <td>The apartment is located in the Ossington stri...</td>\n",
       "      <td>https://a0.muscache.com/pictures/76206750/d643...</td>\n",
       "      <td>1565</td>\n",
       "      <td>https://www.airbnb.com/users/show/1565</td>\n",
       "      <td>...</td>\n",
       "      <td>10.0</td>\n",
       "      <td>10.0</td>\n",
       "      <td>10.0</td>\n",
       "      <td>NaN</td>\n",
       "      <td>f</td>\n",
       "      <td>1</td>\n",
       "      <td>1</td>\n",
       "      <td>0</td>\n",
       "      <td>0</td>\n",
       "      <td>0.11</td>\n",
       "    </tr>\n",
       "    <tr>\n",
       "      <th>1</th>\n",
       "      <td>8077</td>\n",
       "      <td>https://www.airbnb.com/rooms/8077</td>\n",
       "      <td>20210102020445</td>\n",
       "      <td>2021-01-04</td>\n",
       "      <td>Downtown Harbourfront Private Room</td>\n",
       "      <td>Guest room in a luxury condo with access to al...</td>\n",
       "      <td>NaN</td>\n",
       "      <td>https://a0.muscache.com/pictures/11780344/141c...</td>\n",
       "      <td>22795</td>\n",
       "      <td>https://www.airbnb.com/users/show/22795</td>\n",
       "      <td>...</td>\n",
       "      <td>10.0</td>\n",
       "      <td>10.0</td>\n",
       "      <td>10.0</td>\n",
       "      <td>NaN</td>\n",
       "      <td>t</td>\n",
       "      <td>2</td>\n",
       "      <td>1</td>\n",
       "      <td>1</td>\n",
       "      <td>0</td>\n",
       "      <td>1.22</td>\n",
       "    </tr>\n",
       "    <tr>\n",
       "      <th>2</th>\n",
       "      <td>12604</td>\n",
       "      <td>https://www.airbnb.com/rooms/12604</td>\n",
       "      <td>20210102020445</td>\n",
       "      <td>2021-01-02</td>\n",
       "      <td>Seaton Village Parlour Bedroom</td>\n",
       "      <td>Comfortable sofa bed in airy main floor parlou...</td>\n",
       "      <td>NaN</td>\n",
       "      <td>https://a0.muscache.com/pictures/5282025/91fca...</td>\n",
       "      <td>48239</td>\n",
       "      <td>https://www.airbnb.com/users/show/48239</td>\n",
       "      <td>...</td>\n",
       "      <td>NaN</td>\n",
       "      <td>NaN</td>\n",
       "      <td>NaN</td>\n",
       "      <td>NaN</td>\n",
       "      <td>f</td>\n",
       "      <td>1</td>\n",
       "      <td>0</td>\n",
       "      <td>1</td>\n",
       "      <td>0</td>\n",
       "      <td>NaN</td>\n",
       "    </tr>\n",
       "    <tr>\n",
       "      <th>3</th>\n",
       "      <td>23691</td>\n",
       "      <td>https://www.airbnb.com/rooms/23691</td>\n",
       "      <td>20210102020445</td>\n",
       "      <td>2021-01-03</td>\n",
       "      <td>Queen Bedroom close to downtown</td>\n",
       "      <td>&lt;b&gt;The space&lt;/b&gt;&lt;br /&gt;Nestled in the middle of...</td>\n",
       "      <td>NaN</td>\n",
       "      <td>https://a0.muscache.com/pictures/615528/d09ab3...</td>\n",
       "      <td>93825</td>\n",
       "      <td>https://www.airbnb.com/users/show/93825</td>\n",
       "      <td>...</td>\n",
       "      <td>10.0</td>\n",
       "      <td>9.0</td>\n",
       "      <td>10.0</td>\n",
       "      <td>NaN</td>\n",
       "      <td>t</td>\n",
       "      <td>2</td>\n",
       "      <td>0</td>\n",
       "      <td>2</td>\n",
       "      <td>0</td>\n",
       "      <td>1.68</td>\n",
       "    </tr>\n",
       "    <tr>\n",
       "      <th>4</th>\n",
       "      <td>27423</td>\n",
       "      <td>https://www.airbnb.com/rooms/27423</td>\n",
       "      <td>20210102020445</td>\n",
       "      <td>2021-01-05</td>\n",
       "      <td>Executive Studio Unit- Ideal for One Person</td>\n",
       "      <td>Brand new, fully furnished studio basement apa...</td>\n",
       "      <td>NaN</td>\n",
       "      <td>https://a0.muscache.com/pictures/176936/b687ed...</td>\n",
       "      <td>118124</td>\n",
       "      <td>https://www.airbnb.com/users/show/118124</td>\n",
       "      <td>...</td>\n",
       "      <td>10.0</td>\n",
       "      <td>10.0</td>\n",
       "      <td>10.0</td>\n",
       "      <td>NaN</td>\n",
       "      <td>f</td>\n",
       "      <td>1</td>\n",
       "      <td>1</td>\n",
       "      <td>0</td>\n",
       "      <td>0</td>\n",
       "      <td>0.20</td>\n",
       "    </tr>\n",
       "  </tbody>\n",
       "</table>\n",
       "<p>5 rows × 74 columns</p>\n",
       "</div>"
      ],
      "text/plain": [
       "      id                         listing_url       scrape_id last_scraped  \\\n",
       "0   1419   https://www.airbnb.com/rooms/1419  20210102020445   2021-01-02   \n",
       "1   8077   https://www.airbnb.com/rooms/8077  20210102020445   2021-01-04   \n",
       "2  12604  https://www.airbnb.com/rooms/12604  20210102020445   2021-01-02   \n",
       "3  23691  https://www.airbnb.com/rooms/23691  20210102020445   2021-01-03   \n",
       "4  27423  https://www.airbnb.com/rooms/27423  20210102020445   2021-01-05   \n",
       "\n",
       "                                          name  \\\n",
       "0              Beautiful home in amazing area!   \n",
       "1           Downtown Harbourfront Private Room   \n",
       "2               Seaton Village Parlour Bedroom   \n",
       "3              Queen Bedroom close to downtown   \n",
       "4  Executive Studio Unit- Ideal for One Person   \n",
       "\n",
       "                                         description  \\\n",
       "0  This large, family home is located in one of T...   \n",
       "1  Guest room in a luxury condo with access to al...   \n",
       "2  Comfortable sofa bed in airy main floor parlou...   \n",
       "3  <b>The space</b><br />Nestled in the middle of...   \n",
       "4  Brand new, fully furnished studio basement apa...   \n",
       "\n",
       "                               neighborhood_overview  \\\n",
       "0  The apartment is located in the Ossington stri...   \n",
       "1                                                NaN   \n",
       "2                                                NaN   \n",
       "3                                                NaN   \n",
       "4                                                NaN   \n",
       "\n",
       "                                         picture_url  host_id  \\\n",
       "0  https://a0.muscache.com/pictures/76206750/d643...     1565   \n",
       "1  https://a0.muscache.com/pictures/11780344/141c...    22795   \n",
       "2  https://a0.muscache.com/pictures/5282025/91fca...    48239   \n",
       "3  https://a0.muscache.com/pictures/615528/d09ab3...    93825   \n",
       "4  https://a0.muscache.com/pictures/176936/b687ed...   118124   \n",
       "\n",
       "                                   host_url  ... review_scores_communication  \\\n",
       "0    https://www.airbnb.com/users/show/1565  ...                        10.0   \n",
       "1   https://www.airbnb.com/users/show/22795  ...                        10.0   \n",
       "2   https://www.airbnb.com/users/show/48239  ...                         NaN   \n",
       "3   https://www.airbnb.com/users/show/93825  ...                        10.0   \n",
       "4  https://www.airbnb.com/users/show/118124  ...                        10.0   \n",
       "\n",
       "  review_scores_location review_scores_value license instant_bookable  \\\n",
       "0                   10.0                10.0     NaN                f   \n",
       "1                   10.0                10.0     NaN                t   \n",
       "2                    NaN                 NaN     NaN                f   \n",
       "3                    9.0                10.0     NaN                t   \n",
       "4                   10.0                10.0     NaN                f   \n",
       "\n",
       "  calculated_host_listings_count calculated_host_listings_count_entire_homes  \\\n",
       "0                              1                                           1   \n",
       "1                              2                                           1   \n",
       "2                              1                                           0   \n",
       "3                              2                                           0   \n",
       "4                              1                                           1   \n",
       "\n",
       "  calculated_host_listings_count_private_rooms  \\\n",
       "0                                            0   \n",
       "1                                            1   \n",
       "2                                            1   \n",
       "3                                            2   \n",
       "4                                            0   \n",
       "\n",
       "  calculated_host_listings_count_shared_rooms reviews_per_month  \n",
       "0                                           0              0.11  \n",
       "1                                           0              1.22  \n",
       "2                                           0               NaN  \n",
       "3                                           0              1.68  \n",
       "4                                           0              0.20  \n",
       "\n",
       "[5 rows x 74 columns]"
      ]
     },
     "execution_count": 8,
     "metadata": {},
     "output_type": "execute_result"
    }
   ],
   "source": [
    "listing = pd.read_csv('C:/Users/user/Desktop/medium文案/Finformation當資料科學遇上財務金融/toranto house data/listings.csv')\n",
    "listingsdeep = pd.read_csv('C:/Users/user/Desktop/medium文案/Finformation當資料科學遇上財務金融/toranto house data/listingsdeep.csv')\n",
    "print('我們有' , listing.id.nunique() , '筆資料')\n",
    "#listing.info()\n",
    "listing.head(3)\n",
    "listingsdeep.head()"
   ]
  },
  {
   "cell_type": "code",
   "execution_count": 9,
   "metadata": {},
   "outputs": [
    {
     "data": {
      "text/plain": [
       "(18265, 74)"
      ]
     },
     "execution_count": 9,
     "metadata": {},
     "output_type": "execute_result"
    }
   ],
   "source": [
    "listing.shape\n",
    "listingsdeep.shape"
   ]
  },
  {
   "cell_type": "code",
   "execution_count": 10,
   "metadata": {},
   "outputs": [
    {
     "data": {
      "text/plain": [
       "Index(['id', 'listing_url', 'scrape_id', 'last_scraped', 'name', 'description',\n",
       "       'neighborhood_overview', 'picture_url', 'host_id', 'host_url',\n",
       "       'host_name', 'host_since', 'host_location', 'host_about',\n",
       "       'host_response_time', 'host_response_rate', 'host_acceptance_rate',\n",
       "       'host_is_superhost', 'host_thumbnail_url', 'host_picture_url',\n",
       "       'host_neighbourhood', 'host_listings_count',\n",
       "       'host_total_listings_count', 'host_verifications',\n",
       "       'host_has_profile_pic', 'host_identity_verified', 'neighbourhood',\n",
       "       'neighbourhood_cleansed', 'neighbourhood_group_cleansed', 'latitude',\n",
       "       'longitude', 'property_type', 'room_type', 'accommodates', 'bathrooms',\n",
       "       'bathrooms_text', 'bedrooms', 'beds', 'amenities', 'price',\n",
       "       'minimum_nights', 'maximum_nights', 'minimum_minimum_nights',\n",
       "       'maximum_minimum_nights', 'minimum_maximum_nights',\n",
       "       'maximum_maximum_nights', 'minimum_nights_avg_ntm',\n",
       "       'maximum_nights_avg_ntm', 'calendar_updated', 'has_availability',\n",
       "       'availability_30', 'availability_60', 'availability_90',\n",
       "       'availability_365', 'calendar_last_scraped', 'number_of_reviews',\n",
       "       'number_of_reviews_ltm', 'number_of_reviews_l30d', 'first_review',\n",
       "       'last_review', 'review_scores_rating', 'review_scores_accuracy',\n",
       "       'review_scores_cleanliness', 'review_scores_checkin',\n",
       "       'review_scores_communication', 'review_scores_location',\n",
       "       'review_scores_value', 'license', 'instant_bookable',\n",
       "       'calculated_host_listings_count',\n",
       "       'calculated_host_listings_count_entire_homes',\n",
       "       'calculated_host_listings_count_private_rooms',\n",
       "       'calculated_host_listings_count_shared_rooms', 'reviews_per_month'],\n",
       "      dtype='object')"
      ]
     },
     "execution_count": 10,
     "metadata": {},
     "output_type": "execute_result"
    }
   ],
   "source": [
    "listing.columns\n",
    "listingsdeep.columns\n",
    "#listingsdeep.neighbourhood_cleansed"
   ]
  },
  {
   "cell_type": "markdown",
   "metadata": {},
   "source": [
    "Understandig Data - Airbnb listing popularity analysis based on Barcelona data   \n",
    "https://rstudio-pubs-static.s3.amazonaws.com/407929_afc5ef0f2ad648389447a6ca3f4a7cd4.html     \n",
    "Airbnb in Seattle — Data Analysis   \n",
    "https://jinglescode.github.io/2019/07/13/airbnb-in-seattle-data-analysis/    \n",
    "AirBnB Analysis   \n",
    "https://www.kaggle.com/aashirwad01/airbnb-analysis"
   ]
  },
  {
   "cell_type": "code",
   "execution_count": 11,
   "metadata": {},
   "outputs": [
    {
     "data": {
      "image/png": "[encoded data removed]",
      "text/plain": [
       "<Figure size 432x288 with 1 Axes>"
      ]
     },
     "metadata": {},
     "output_type": "display_data"
    }
   ],
   "source": [
    "grouped_df = listingsdeep.groupby('neighbourhood_cleansed').count()[['id']].sort_values('id' , ascending = True).tail(10)#哪一個區域中的房源比較多\n",
    "\n",
    "ticks = np.arange(len(grouped_df.id))\n",
    "plt.barh(grouped_df.index,grouped_df.id,alpha=0.7,)\n",
    "plt.show()\n",
    "#Waterfront Communities-The Island 擁有房源供給非常多,可以深入研究why?"
   ]
  },
  {
   "cell_type": "markdown",
   "metadata": {},
   "source": [
    "[Python 商業數據分析之可視化繪圖] 第6講：條形圖(Bar Chart)   \n",
    "https://medium.com/python-%E8%B3%87%E6%96%99%E8%A6%96%E8%A6%BA%E5%8C%96/python-%E5%95%86%E6%A5%AD%E6%95%B8%E6%93%9A%E5%88%86%E6%9E%90%E4%B9%8B%E5%8F%AF%E8%A6%96%E5%8C%96%E7%B9%AA%E5%9C%96-%E7%AC%AC6%E8%AC%9B-%E6%A2%9D%E5%BD%A2%E5%9C%96-bar-chart-cdb137fb4db0  "
   ]
  },
  {
   "cell_type": "code",
   "execution_count": 12,
   "metadata": {},
   "outputs": [
    {
     "data": {
      "image/png": "[encoded data removed]",
      "text/plain": [
       "<Figure size 864x432 with 1 Axes>"
      ]
     },
     "metadata": {},
     "output_type": "display_data"
    }
   ],
   "source": [
    "plt.style.use('ggplot')\n",
    "sns.set(font='SimHei', font_scale=0.8)\n",
    "plt.figure(figsize = (12 , 6))\n",
    "plt.title('評價分數分析' , fontsize = 15)\n",
    "sns.distplot(listingsdeep.review_scores_rating.dropna() , rug = True,)\n",
    "sns.despine()  "
   ]
  },
  {
   "cell_type": "code",
   "execution_count": 13,
   "metadata": {},
   "outputs": [
    {
     "name": "stdout",
     "output_type": "stream",
     "text": [
      "count    18265.000000\n",
      "mean       137.659667\n",
      "std        306.423240\n",
      "min          0.000000\n",
      "25%         60.000000\n",
      "50%         95.000000\n",
      "75%        149.000000\n",
      "max      13000.000000\n",
      "Name: price, dtype: float64\n"
     ]
    },
    {
     "data": {
      "image/png": "[encoded data removed]",
      "text/plain": [
       "<Figure size 864x432 with 1 Axes>"
      ]
     },
     "metadata": {},
     "output_type": "display_data"
    }
   ],
   "source": [
    "#當地房價分布\n",
    "listingsdeep['price'] = listingsdeep['price'].str.replace(',' , '').str.replace('$' , '').astype(float)\n",
    "sns.set(font='SimHei', font_scale=0.8)\n",
    "print(listingsdeep.price.describe())\n",
    "plt.figure(figsize = (12 , 6))\n",
    "plt.title('全部房價分佈' , fontsize = 15)\n",
    "sns.distplot(listingsdeep.price.dropna() , rug = True)\n",
    "sns.despine()"
   ]
  },
  {
   "cell_type": "code",
   "execution_count": 14,
   "metadata": {},
   "outputs": [],
   "source": [
    "# [i for i in listingsdeep.price if i >2000]\n",
    "# listingsdeep[listingsdeep.price > 2000]   #.description.iloc[0] #大於2000元的房子,\n",
    "# #我們可以透過description 觀察這些房子附近的生活機能,藉此了解什麼樣的房子開價這麼高~~\n",
    "# #listingsdeep[listingsdeep.price >2000].sort_values('price' , ascending = False)\n",
    "# listingsdeep[listingsdeep.price > 8000] #8000以上可能太貴,想排除觀察一下數據\n",
    "\n",
    "# plt.figure(figsize = (12 , 6))\n",
    "# plt.title('房價大致的分佈' , fontsize = 15)\n",
    "# sns.distplot(listingsdeep[listingsdeep.price < 8000].price.dropna() , rug = True)\n",
    "# sns.despine()"
   ]
  },
  {
   "cell_type": "code",
   "execution_count": 15,
   "metadata": {},
   "outputs": [
    {
     "data": {
      "image/png": "[encoded data removed]",
      "text/plain": [
       "<Figure size 864x432 with 1 Axes>"
      ]
     },
     "metadata": {},
     "output_type": "display_data"
    }
   ],
   "source": [
    "plt.figure(figsize = (12,6))\n",
    "listingsdeep.loc[(listingsdeep.price < 1000) & (listingsdeep.price > 0)].price.hist(bins  = 100)\n",
    "plt.ylabel('Count')\n",
    "plt.xlabel('Listing price')\n",
    "plt.title('便宜實惠房')\n",
    "plt.rcParams['font.sans-serif'] = ['KaiTi']"
   ]
  },
  {
   "cell_type": "markdown",
   "metadata": {},
   "source": [
    "資料來源:http://insideairbnb.com/get-the-data.html  "
   ]
  }
 ],
 "metadata": {
  "kernelspec": {
   "display_name": "Python 3",
   "language": "python",
   "name": "python3"
  },
  "language_info": {
   "codemirror_mode": {
    "name": "ipython",
    "version": 3
   },
   "file_extension": ".py",
   "mimetype": "text/x-python",
   "name": "python",
   "nbconvert_exporter": "python",
   "pygments_lexer": "ipython3",
   "version": "3.8.3"
  }
 },
 "nbformat": 4,
 "nbformat_minor": 4
}
