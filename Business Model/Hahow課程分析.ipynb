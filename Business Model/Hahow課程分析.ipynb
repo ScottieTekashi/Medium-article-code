{
 "cells": [
  {
   "cell_type": "markdown",
   "metadata": {},
   "source": [
    "https://medium.com/finformation%E7%95%B6%E7%A8%8B%E5%BC%8F%E9%81%87%E4%B8%8A%E8%B2%A1%E5%8B%99%E9%87%91%E8%9E%8D/%E5%AD%B8%E7%94%9F%E7%A4%BE%E5%9C%98%E7%9A%84%E6%95%B8%E6%93%9A%E5%88%86%E6%9E%90-python%E7%B7%9A%E4%B8%8A%E8%AA%B2%E7%A8%8B%E5%88%86%E6%9E%90%E5%AF%A6%E5%81%9A-%E4%B8%8A-69eaace14906"
   ]
  },
  {
   "cell_type": "code",
   "execution_count": 3,
   "metadata": {},
   "outputs": [],
   "source": [
    "import matplotlib.pylab as plt\n",
    "%matplotlib inline\n",
    "import seaborn as sns\n",
    "import plotly.offline as py \n",
    "import plotly.graph_objs as go \n",
    "import plotly.tools as tls\n",
    "import plotly.figure_factory as ff\n",
    "import pandas as pd "
   ]
  },
  {
   "cell_type": "code",
   "execution_count": 64,
   "metadata": {},
   "outputs": [
    {
     "name": "stdout",
     "output_type": "stream",
     "text": [
      "(384, 17)\n"
     ]
    },
    {
     "data": {
      "text/html": [
       "<div>\n",
       "<style scoped>\n",
       "    .dataframe tbody tr th:only-of-type {\n",
       "        vertical-align: middle;\n",
       "    }\n",
       "\n",
       "    .dataframe tbody tr th {\n",
       "        vertical-align: top;\n",
       "    }\n",
       "\n",
       "    .dataframe thead th {\n",
       "        text-align: right;\n",
       "    }\n",
       "</style>\n",
       "<table border=\"1\" class=\"dataframe\">\n",
       "  <thead>\n",
       "    <tr style=\"text-align: right;\">\n",
       "      <th></th>\n",
       "      <th>Unnamed: 0</th>\n",
       "      <th>title</th>\n",
       "      <th>author</th>\n",
       "      <th>proposal</th>\n",
       "      <th>incubate</th>\n",
       "      <th>estimateStart</th>\n",
       "      <th>startCapital</th>\n",
       "      <th>types</th>\n",
       "      <th>ratings</th>\n",
       "      <th>avg_ratings</th>\n",
       "      <th>isReject</th>\n",
       "      <th>successCriti</th>\n",
       "      <th>prePrice</th>\n",
       "      <th>price</th>\n",
       "      <th>review</th>\n",
       "      <th>status</th>\n",
       "      <th>solidTickets</th>\n",
       "    </tr>\n",
       "  </thead>\n",
       "  <tbody>\n",
       "    <tr>\n",
       "      <th>0</th>\n",
       "      <td>0</td>\n",
       "      <td>LeonTV 空中網球課 - 學會擊球，享受比賽</td>\n",
       "      <td>Leon Tsai</td>\n",
       "      <td>2019-11-07T16:00:00.000Z</td>\n",
       "      <td>2019-10-09T04:00:34.912Z</td>\n",
       "      <td>2020-01-06T16:00:00.000Z</td>\n",
       "      <td>2019-10-09T04:00:00.000Z</td>\n",
       "      <td>['DIGITAL']</td>\n",
       "      <td>0</td>\n",
       "      <td>0.0</td>\n",
       "      <td>False</td>\n",
       "      <td>30</td>\n",
       "      <td>1290</td>\n",
       "      <td>1990</td>\n",
       "      <td>False</td>\n",
       "      <td>INCUBATING</td>\n",
       "      <td>0</td>\n",
       "    </tr>\n",
       "    <tr>\n",
       "      <th>1</th>\n",
       "      <td>1</td>\n",
       "      <td>生活要清爽：讓空間煥然一新的整理收納課</td>\n",
       "      <td>欣講堂 xinforum</td>\n",
       "      <td>2019-11-06T16:00:00.000Z</td>\n",
       "      <td>2019-10-08T03:00:36.293Z</td>\n",
       "      <td>2020-01-05T16:00:00.000Z</td>\n",
       "      <td>2019-10-08T02:00:00.000Z</td>\n",
       "      <td>['DIGITAL']</td>\n",
       "      <td>0</td>\n",
       "      <td>0.0</td>\n",
       "      <td>False</td>\n",
       "      <td>30</td>\n",
       "      <td>1200</td>\n",
       "      <td>1580</td>\n",
       "      <td>False</td>\n",
       "      <td>INCUBATING</td>\n",
       "      <td>17</td>\n",
       "    </tr>\n",
       "    <tr>\n",
       "      <th>2</th>\n",
       "      <td>2</td>\n",
       "      <td>利息養成現金流：債券入門投資術</td>\n",
       "      <td>Z</td>\n",
       "      <td>2019-11-01T16:00:00.000Z</td>\n",
       "      <td>2019-10-03T04:00:13.830Z</td>\n",
       "      <td>2019-12-31T16:00:00.000Z</td>\n",
       "      <td>NaN</td>\n",
       "      <td>[]</td>\n",
       "      <td>0</td>\n",
       "      <td>0.0</td>\n",
       "      <td>False</td>\n",
       "      <td>30</td>\n",
       "      <td>1288</td>\n",
       "      <td>1990</td>\n",
       "      <td>False</td>\n",
       "      <td>INCUBATING</td>\n",
       "      <td>28</td>\n",
       "    </tr>\n",
       "    <tr>\n",
       "      <th>3</th>\n",
       "      <td>3</td>\n",
       "      <td>Dropshipping 電商創業 - 零庫存跨境電商</td>\n",
       "      <td>Michael Lin</td>\n",
       "      <td>2019-10-31T16:00:00.000Z</td>\n",
       "      <td>2019-10-02T04:00:32.590Z</td>\n",
       "      <td>2019-12-30T16:00:00.000Z</td>\n",
       "      <td>NaN</td>\n",
       "      <td>[]</td>\n",
       "      <td>0</td>\n",
       "      <td>0.0</td>\n",
       "      <td>False</td>\n",
       "      <td>30</td>\n",
       "      <td>1800</td>\n",
       "      <td>2900</td>\n",
       "      <td>False</td>\n",
       "      <td>INCUBATING</td>\n",
       "      <td>6</td>\n",
       "    </tr>\n",
       "    <tr>\n",
       "      <th>4</th>\n",
       "      <td>4</td>\n",
       "      <td>行銷業務動態儀表板與報告 - Power BI 應用</td>\n",
       "      <td>周勝輝</td>\n",
       "      <td>2019-10-30T16:00:00.000Z</td>\n",
       "      <td>2019-10-01T04:00:20.253Z</td>\n",
       "      <td>2019-12-29T16:00:00.000Z</td>\n",
       "      <td>NaN</td>\n",
       "      <td>[]</td>\n",
       "      <td>0</td>\n",
       "      <td>0.0</td>\n",
       "      <td>False</td>\n",
       "      <td>30</td>\n",
       "      <td>1450</td>\n",
       "      <td>2500</td>\n",
       "      <td>False</td>\n",
       "      <td>INCUBATING</td>\n",
       "      <td>5</td>\n",
       "    </tr>\n",
       "  </tbody>\n",
       "</table>\n",
       "</div>"
      ],
      "text/plain": [
       "   Unnamed: 0                        title        author  \\\n",
       "0           0     LeonTV 空中網球課 - 學會擊球，享受比賽     Leon Tsai   \n",
       "1           1          生活要清爽：讓空間煥然一新的整理收納課  欣講堂 xinforum   \n",
       "2           2              利息養成現金流：債券入門投資術             Z   \n",
       "3           3  Dropshipping 電商創業 - 零庫存跨境電商   Michael Lin   \n",
       "4           4   行銷業務動態儀表板與報告 - Power BI 應用           周勝輝   \n",
       "\n",
       "                   proposal                  incubate  \\\n",
       "0  2019-11-07T16:00:00.000Z  2019-10-09T04:00:34.912Z   \n",
       "1  2019-11-06T16:00:00.000Z  2019-10-08T03:00:36.293Z   \n",
       "2  2019-11-01T16:00:00.000Z  2019-10-03T04:00:13.830Z   \n",
       "3  2019-10-31T16:00:00.000Z  2019-10-02T04:00:32.590Z   \n",
       "4  2019-10-30T16:00:00.000Z  2019-10-01T04:00:20.253Z   \n",
       "\n",
       "              estimateStart              startCapital        types  ratings  \\\n",
       "0  2020-01-06T16:00:00.000Z  2019-10-09T04:00:00.000Z  ['DIGITAL']        0   \n",
       "1  2020-01-05T16:00:00.000Z  2019-10-08T02:00:00.000Z  ['DIGITAL']        0   \n",
       "2  2019-12-31T16:00:00.000Z                       NaN           []        0   \n",
       "3  2019-12-30T16:00:00.000Z                       NaN           []        0   \n",
       "4  2019-12-29T16:00:00.000Z                       NaN           []        0   \n",
       "\n",
       "   avg_ratings  isReject  successCriti  prePrice  price  review      status  \\\n",
       "0          0.0     False            30      1290   1990   False  INCUBATING   \n",
       "1          0.0     False            30      1200   1580   False  INCUBATING   \n",
       "2          0.0     False            30      1288   1990   False  INCUBATING   \n",
       "3          0.0     False            30      1800   2900   False  INCUBATING   \n",
       "4          0.0     False            30      1450   2500   False  INCUBATING   \n",
       "\n",
       "   solidTickets  \n",
       "0             0  \n",
       "1            17  \n",
       "2            28  \n",
       "3             6  \n",
       "4             5  "
      ]
     },
     "execution_count": 64,
     "metadata": {},
     "output_type": "execute_result"
    }
   ],
   "source": [
    "df = pd.read_csv(\"C:/Users/user/Desktop/medium文案/Finformation當資料科學遇上財務金融/hahow_course.csv\")\n",
    "print(df.shape)\n",
    "df.head(5)"
   ]
  },
  {
   "cell_type": "code",
   "execution_count": 123,
   "metadata": {},
   "outputs": [
    {
     "data": {
      "text/html": [
       "<div>\n",
       "<style scoped>\n",
       "    .dataframe tbody tr th:only-of-type {\n",
       "        vertical-align: middle;\n",
       "    }\n",
       "\n",
       "    .dataframe tbody tr th {\n",
       "        vertical-align: top;\n",
       "    }\n",
       "\n",
       "    .dataframe thead th {\n",
       "        text-align: right;\n",
       "    }\n",
       "</style>\n",
       "<table border=\"1\" class=\"dataframe\">\n",
       "  <thead>\n",
       "    <tr style=\"text-align: right;\">\n",
       "      <th></th>\n",
       "      <th>Unnamed: 0</th>\n",
       "      <th>title</th>\n",
       "      <th>author</th>\n",
       "      <th>proposal</th>\n",
       "      <th>incubate</th>\n",
       "      <th>estimateStart</th>\n",
       "      <th>startCapital</th>\n",
       "      <th>types</th>\n",
       "      <th>ratings</th>\n",
       "      <th>avg_ratings</th>\n",
       "      <th>isReject</th>\n",
       "      <th>successCriti</th>\n",
       "      <th>prePrice</th>\n",
       "      <th>price</th>\n",
       "      <th>review</th>\n",
       "      <th>status</th>\n",
       "      <th>solidTickets</th>\n",
       "      <th>pro_month</th>\n",
       "      <th>have</th>\n",
       "      <th>feedback_ratio</th>\n",
       "    </tr>\n",
       "  </thead>\n",
       "  <tbody>\n",
       "    <tr>\n",
       "      <th>0</th>\n",
       "      <td>0</td>\n",
       "      <td>LeonTV 空中網球課 - 學會擊球，享受比賽</td>\n",
       "      <td>Leon Tsai</td>\n",
       "      <td>2019-11-07</td>\n",
       "      <td>2019-10-09</td>\n",
       "      <td>2020-01-06</td>\n",
       "      <td>2019-10-09T04:00:00.000Z</td>\n",
       "      <td>['DIGITAL']</td>\n",
       "      <td>0</td>\n",
       "      <td>0.00</td>\n",
       "      <td>False</td>\n",
       "      <td>30</td>\n",
       "      <td>1290</td>\n",
       "      <td>1990</td>\n",
       "      <td>False</td>\n",
       "      <td>INCUBATING</td>\n",
       "      <td>0</td>\n",
       "      <td>11</td>\n",
       "      <td>1</td>\n",
       "      <td>NaN</td>\n",
       "    </tr>\n",
       "    <tr>\n",
       "      <th>1</th>\n",
       "      <td>1</td>\n",
       "      <td>生活要清爽：讓空間煥然一新的整理收納課</td>\n",
       "      <td>欣講堂 xinforum</td>\n",
       "      <td>2019-11-06</td>\n",
       "      <td>2019-10-08</td>\n",
       "      <td>2020-01-05</td>\n",
       "      <td>2019-10-08T02:00:00.000Z</td>\n",
       "      <td>['DIGITAL']</td>\n",
       "      <td>0</td>\n",
       "      <td>0.00</td>\n",
       "      <td>False</td>\n",
       "      <td>30</td>\n",
       "      <td>1200</td>\n",
       "      <td>1580</td>\n",
       "      <td>False</td>\n",
       "      <td>INCUBATING</td>\n",
       "      <td>17</td>\n",
       "      <td>11</td>\n",
       "      <td>1</td>\n",
       "      <td>0.000000</td>\n",
       "    </tr>\n",
       "    <tr>\n",
       "      <th>2</th>\n",
       "      <td>2</td>\n",
       "      <td>利息養成現金流：債券入門投資術</td>\n",
       "      <td>Z</td>\n",
       "      <td>2019-11-01</td>\n",
       "      <td>2019-10-03</td>\n",
       "      <td>2019-12-31</td>\n",
       "      <td>NaN</td>\n",
       "      <td>[]</td>\n",
       "      <td>0</td>\n",
       "      <td>0.00</td>\n",
       "      <td>False</td>\n",
       "      <td>30</td>\n",
       "      <td>1288</td>\n",
       "      <td>1990</td>\n",
       "      <td>False</td>\n",
       "      <td>INCUBATING</td>\n",
       "      <td>28</td>\n",
       "      <td>11</td>\n",
       "      <td>1</td>\n",
       "      <td>0.000000</td>\n",
       "    </tr>\n",
       "    <tr>\n",
       "      <th>3</th>\n",
       "      <td>3</td>\n",
       "      <td>Dropshipping 電商創業 - 零庫存跨境電商</td>\n",
       "      <td>Michael Lin</td>\n",
       "      <td>2019-10-31</td>\n",
       "      <td>2019-10-02</td>\n",
       "      <td>2019-12-30</td>\n",
       "      <td>NaN</td>\n",
       "      <td>[]</td>\n",
       "      <td>0</td>\n",
       "      <td>0.00</td>\n",
       "      <td>False</td>\n",
       "      <td>30</td>\n",
       "      <td>1800</td>\n",
       "      <td>2900</td>\n",
       "      <td>False</td>\n",
       "      <td>INCUBATING</td>\n",
       "      <td>6</td>\n",
       "      <td>10</td>\n",
       "      <td>1</td>\n",
       "      <td>0.000000</td>\n",
       "    </tr>\n",
       "    <tr>\n",
       "      <th>4</th>\n",
       "      <td>4</td>\n",
       "      <td>行銷業務動態儀表板與報告 - Power BI 應用</td>\n",
       "      <td>周勝輝</td>\n",
       "      <td>2019-10-30</td>\n",
       "      <td>2019-10-01</td>\n",
       "      <td>2019-12-29</td>\n",
       "      <td>NaN</td>\n",
       "      <td>[]</td>\n",
       "      <td>0</td>\n",
       "      <td>0.00</td>\n",
       "      <td>False</td>\n",
       "      <td>30</td>\n",
       "      <td>1450</td>\n",
       "      <td>2500</td>\n",
       "      <td>False</td>\n",
       "      <td>INCUBATING</td>\n",
       "      <td>5</td>\n",
       "      <td>10</td>\n",
       "      <td>1</td>\n",
       "      <td>0.000000</td>\n",
       "    </tr>\n",
       "    <tr>\n",
       "      <th>...</th>\n",
       "      <td>...</td>\n",
       "      <td>...</td>\n",
       "      <td>...</td>\n",
       "      <td>...</td>\n",
       "      <td>...</td>\n",
       "      <td>...</td>\n",
       "      <td>...</td>\n",
       "      <td>...</td>\n",
       "      <td>...</td>\n",
       "      <td>...</td>\n",
       "      <td>...</td>\n",
       "      <td>...</td>\n",
       "      <td>...</td>\n",
       "      <td>...</td>\n",
       "      <td>...</td>\n",
       "      <td>...</td>\n",
       "      <td>...</td>\n",
       "      <td>...</td>\n",
       "      <td>...</td>\n",
       "      <td>...</td>\n",
       "    </tr>\n",
       "    <tr>\n",
       "      <th>379</th>\n",
       "      <td>379</td>\n",
       "      <td>為申請學校或工作寫好英文自傳</td>\n",
       "      <td>Hans Harn</td>\n",
       "      <td>2015-05-13</td>\n",
       "      <td>2015-04-13</td>\n",
       "      <td>2015-05-20</td>\n",
       "      <td>NaN</td>\n",
       "      <td>[]</td>\n",
       "      <td>17</td>\n",
       "      <td>4.88</td>\n",
       "      <td>False</td>\n",
       "      <td>30</td>\n",
       "      <td>450</td>\n",
       "      <td>600</td>\n",
       "      <td>False</td>\n",
       "      <td>PUBLISHED</td>\n",
       "      <td>176</td>\n",
       "      <td>5</td>\n",
       "      <td>1</td>\n",
       "      <td>0.096591</td>\n",
       "    </tr>\n",
       "    <tr>\n",
       "      <th>380</th>\n",
       "      <td>380</td>\n",
       "      <td>療癒感手繪插畫食譜</td>\n",
       "      <td>楊姍姍</td>\n",
       "      <td>2015-05-10</td>\n",
       "      <td>2015-04-10</td>\n",
       "      <td>2015-05-24</td>\n",
       "      <td>NaN</td>\n",
       "      <td>[]</td>\n",
       "      <td>7</td>\n",
       "      <td>4.29</td>\n",
       "      <td>False</td>\n",
       "      <td>30</td>\n",
       "      <td>100</td>\n",
       "      <td>200</td>\n",
       "      <td>False</td>\n",
       "      <td>PUBLISHED</td>\n",
       "      <td>125</td>\n",
       "      <td>5</td>\n",
       "      <td>1</td>\n",
       "      <td>0.056000</td>\n",
       "    </tr>\n",
       "    <tr>\n",
       "      <th>381</th>\n",
       "      <td>381</td>\n",
       "      <td>教你用免費軟體 混音組曲當 DJ！</td>\n",
       "      <td>Ken Lin</td>\n",
       "      <td>2015-04-29</td>\n",
       "      <td>2015-03-27</td>\n",
       "      <td>2015-05-26</td>\n",
       "      <td>NaN</td>\n",
       "      <td>[]</td>\n",
       "      <td>17</td>\n",
       "      <td>4.76</td>\n",
       "      <td>False</td>\n",
       "      <td>30</td>\n",
       "      <td>200</td>\n",
       "      <td>1000</td>\n",
       "      <td>False</td>\n",
       "      <td>PUBLISHED</td>\n",
       "      <td>358</td>\n",
       "      <td>4</td>\n",
       "      <td>1</td>\n",
       "      <td>0.047486</td>\n",
       "    </tr>\n",
       "    <tr>\n",
       "      <th>382</th>\n",
       "      <td>382</td>\n",
       "      <td>剛買了蘋果不會用嗎?</td>\n",
       "      <td>林大班</td>\n",
       "      <td>2015-04-07</td>\n",
       "      <td>2015-03-27</td>\n",
       "      <td>2015-05-19</td>\n",
       "      <td>NaN</td>\n",
       "      <td>[]</td>\n",
       "      <td>20</td>\n",
       "      <td>4.45</td>\n",
       "      <td>False</td>\n",
       "      <td>30</td>\n",
       "      <td>200</td>\n",
       "      <td>350</td>\n",
       "      <td>False</td>\n",
       "      <td>PUBLISHED</td>\n",
       "      <td>185</td>\n",
       "      <td>4</td>\n",
       "      <td>1</td>\n",
       "      <td>0.108108</td>\n",
       "    </tr>\n",
       "    <tr>\n",
       "      <th>383</th>\n",
       "      <td>383</td>\n",
       "      <td>不一樣的西洋美術史</td>\n",
       "      <td>洪筱筑</td>\n",
       "      <td>2015-03-30</td>\n",
       "      <td>2015-03-27</td>\n",
       "      <td>2015-05-29</td>\n",
       "      <td>NaN</td>\n",
       "      <td>[]</td>\n",
       "      <td>29</td>\n",
       "      <td>4.79</td>\n",
       "      <td>False</td>\n",
       "      <td>30</td>\n",
       "      <td>100</td>\n",
       "      <td>288</td>\n",
       "      <td>False</td>\n",
       "      <td>PUBLISHED</td>\n",
       "      <td>206</td>\n",
       "      <td>3</td>\n",
       "      <td>1</td>\n",
       "      <td>0.140777</td>\n",
       "    </tr>\n",
       "  </tbody>\n",
       "</table>\n",
       "<p>384 rows × 20 columns</p>\n",
       "</div>"
      ],
      "text/plain": [
       "     Unnamed: 0                        title        author    proposal  \\\n",
       "0             0     LeonTV 空中網球課 - 學會擊球，享受比賽     Leon Tsai  2019-11-07   \n",
       "1             1          生活要清爽：讓空間煥然一新的整理收納課  欣講堂 xinforum  2019-11-06   \n",
       "2             2              利息養成現金流：債券入門投資術             Z  2019-11-01   \n",
       "3             3  Dropshipping 電商創業 - 零庫存跨境電商   Michael Lin  2019-10-31   \n",
       "4             4   行銷業務動態儀表板與報告 - Power BI 應用           周勝輝  2019-10-30   \n",
       "..          ...                          ...           ...         ...   \n",
       "379         379               為申請學校或工作寫好英文自傳     Hans Harn  2015-05-13   \n",
       "380         380                    療癒感手繪插畫食譜           楊姍姍  2015-05-10   \n",
       "381         381            教你用免費軟體 混音組曲當 DJ！       Ken Lin  2015-04-29   \n",
       "382         382                   剛買了蘋果不會用嗎?           林大班  2015-04-07   \n",
       "383         383                    不一樣的西洋美術史           洪筱筑  2015-03-30   \n",
       "\n",
       "       incubate estimateStart              startCapital        types  ratings  \\\n",
       "0    2019-10-09    2020-01-06  2019-10-09T04:00:00.000Z  ['DIGITAL']        0   \n",
       "1    2019-10-08    2020-01-05  2019-10-08T02:00:00.000Z  ['DIGITAL']        0   \n",
       "2    2019-10-03    2019-12-31                       NaN           []        0   \n",
       "3    2019-10-02    2019-12-30                       NaN           []        0   \n",
       "4    2019-10-01    2019-12-29                       NaN           []        0   \n",
       "..          ...           ...                       ...          ...      ...   \n",
       "379  2015-04-13    2015-05-20                       NaN           []       17   \n",
       "380  2015-04-10    2015-05-24                       NaN           []        7   \n",
       "381  2015-03-27    2015-05-26                       NaN           []       17   \n",
       "382  2015-03-27    2015-05-19                       NaN           []       20   \n",
       "383  2015-03-27    2015-05-29                       NaN           []       29   \n",
       "\n",
       "     avg_ratings  isReject  successCriti  prePrice  price  review      status  \\\n",
       "0           0.00     False            30      1290   1990   False  INCUBATING   \n",
       "1           0.00     False            30      1200   1580   False  INCUBATING   \n",
       "2           0.00     False            30      1288   1990   False  INCUBATING   \n",
       "3           0.00     False            30      1800   2900   False  INCUBATING   \n",
       "4           0.00     False            30      1450   2500   False  INCUBATING   \n",
       "..           ...       ...           ...       ...    ...     ...         ...   \n",
       "379         4.88     False            30       450    600   False   PUBLISHED   \n",
       "380         4.29     False            30       100    200   False   PUBLISHED   \n",
       "381         4.76     False            30       200   1000   False   PUBLISHED   \n",
       "382         4.45     False            30       200    350   False   PUBLISHED   \n",
       "383         4.79     False            30       100    288   False   PUBLISHED   \n",
       "\n",
       "     solidTickets  pro_month  have  feedback_ratio  \n",
       "0               0         11     1             NaN  \n",
       "1              17         11     1        0.000000  \n",
       "2              28         11     1        0.000000  \n",
       "3               6         10     1        0.000000  \n",
       "4               5         10     1        0.000000  \n",
       "..            ...        ...   ...             ...  \n",
       "379           176          5     1        0.096591  \n",
       "380           125          5     1        0.056000  \n",
       "381           358          4     1        0.047486  \n",
       "382           185          4     1        0.108108  \n",
       "383           206          3     1        0.140777  \n",
       "\n",
       "[384 rows x 20 columns]"
      ]
     },
     "execution_count": 123,
     "metadata": {},
     "output_type": "execute_result"
    }
   ],
   "source": [
    "df.proposal = pd.to_datetime(df.proposal).apply(lambda x:x.date())\n",
    "df.incubate = pd.to_datetime(df.incubate).apply(lambda x:x.date())\n",
    "df.estimateStart = pd.to_datetime(df.estimateStart).apply(lambda x:x.date())\n",
    "df['pro_month'] = df.proposal.apply(lambda x:x.month) #提取到時間的月份\n",
    "df['have'] = 1\n",
    "df"
   ]
  },
  {
   "cell_type": "code",
   "execution_count": 22,
   "metadata": {},
   "outputs": [
    {
     "data": {
      "application/vnd.plotly.v1+json": {
       "config": {
        "linkText": "Export to plot.ly",
        "plotlyServerURL": "https://plot.ly",
        "showLink": false
       },
       "data": [
        {
         "type": "scatter",
         "x": [
          1,
          2,
          3,
          4,
          5,
          6,
          7,
          8,
          9,
          10,
          11,
          12
         ],
         "y": [
          31,
          30,
          25,
          25,
          32,
          34,
          40,
          35,
          37,
          45,
          29,
          21
         ]
        }
       ],
       "layout": {
        "template": {
         "data": {
          "bar": [
           {
            "error_x": {
             "color": "#2a3f5f"
            },
            "error_y": {
             "color": "#2a3f5f"
            },
            "marker": {
             "line": {
              "color": "#E5ECF6",
              "width": 0.5
             }
            },
            "type": "bar"
           }
          ],
          "barpolar": [
           {
            "marker": {
             "line": {
              "color": "#E5ECF6",
              "width": 0.5
             }
            },
            "type": "barpolar"
           }
          ],
          "carpet": [
           {
            "aaxis": {
             "endlinecolor": "#2a3f5f",
             "gridcolor": "white",
             "linecolor": "white",
             "minorgridcolor": "white",
             "startlinecolor": "#2a3f5f"
            },
            "baxis": {
             "endlinecolor": "#2a3f5f",
             "gridcolor": "white",
             "linecolor": "white",
             "minorgridcolor": "white",
             "startlinecolor": "#2a3f5f"
            },
            "type": "carpet"
           }
          ],
          "choropleth": [
           {
            "colorbar": {
             "outlinewidth": 0,
             "ticks": ""
            },
            "type": "choropleth"
           }
          ],
          "contour": [
           {
            "colorbar": {
             "outlinewidth": 0,
             "ticks": ""
            },
            "colorscale": [
             [
              0,
              "#0d0887"
             ],
             [
              0.1111111111111111,
              "#46039f"
             ],
             [
              0.2222222222222222,
              "#7201a8"
             ],
             [
              0.3333333333333333,
              "#9c179e"
             ],
             [
              0.4444444444444444,
              "#bd3786"
             ],
             [
              0.5555555555555556,
              "#d8576b"
             ],
             [
              0.6666666666666666,
              "#ed7953"
             ],
             [
              0.7777777777777778,
              "#fb9f3a"
             ],
             [
              0.8888888888888888,
              "#fdca26"
             ],
             [
              1,
              "#f0f921"
             ]
            ],
            "type": "contour"
           }
          ],
          "contourcarpet": [
           {
            "colorbar": {
             "outlinewidth": 0,
             "ticks": ""
            },
            "type": "contourcarpet"
           }
          ],
          "heatmap": [
           {
            "colorbar": {
             "outlinewidth": 0,
             "ticks": ""
            },
            "colorscale": [
             [
              0,
              "#0d0887"
             ],
             [
              0.1111111111111111,
              "#46039f"
             ],
             [
              0.2222222222222222,
              "#7201a8"
             ],
             [
              0.3333333333333333,
              "#9c179e"
             ],
             [
              0.4444444444444444,
              "#bd3786"
             ],
             [
              0.5555555555555556,
              "#d8576b"
             ],
             [
              0.6666666666666666,
              "#ed7953"
             ],
             [
              0.7777777777777778,
              "#fb9f3a"
             ],
             [
              0.8888888888888888,
              "#fdca26"
             ],
             [
              1,
              "#f0f921"
             ]
            ],
            "type": "heatmap"
           }
          ],
          "heatmapgl": [
           {
            "colorbar": {
             "outlinewidth": 0,
             "ticks": ""
            },
            "colorscale": [
             [
              0,
              "#0d0887"
             ],
             [
              0.1111111111111111,
              "#46039f"
             ],
             [
              0.2222222222222222,
              "#7201a8"
             ],
             [
              0.3333333333333333,
              "#9c179e"
             ],
             [
              0.4444444444444444,
              "#bd3786"
             ],
             [
              0.5555555555555556,
              "#d8576b"
             ],
             [
              0.6666666666666666,
              "#ed7953"
             ],
             [
              0.7777777777777778,
              "#fb9f3a"
             ],
             [
              0.8888888888888888,
              "#fdca26"
             ],
             [
              1,
              "#f0f921"
             ]
            ],
            "type": "heatmapgl"
           }
          ],
          "histogram": [
           {
            "marker": {
             "colorbar": {
              "outlinewidth": 0,
              "ticks": ""
             }
            },
            "type": "histogram"
           }
          ],
          "histogram2d": [
           {
            "colorbar": {
             "outlinewidth": 0,
             "ticks": ""
            },
            "colorscale": [
             [
              0,
              "#0d0887"
             ],
             [
              0.1111111111111111,
              "#46039f"
             ],
             [
              0.2222222222222222,
              "#7201a8"
             ],
             [
              0.3333333333333333,
              "#9c179e"
             ],
             [
              0.4444444444444444,
              "#bd3786"
             ],
             [
              0.5555555555555556,
              "#d8576b"
             ],
             [
              0.6666666666666666,
              "#ed7953"
             ],
             [
              0.7777777777777778,
              "#fb9f3a"
             ],
             [
              0.8888888888888888,
              "#fdca26"
             ],
             [
              1,
              "#f0f921"
             ]
            ],
            "type": "histogram2d"
           }
          ],
          "histogram2dcontour": [
           {
            "colorbar": {
             "outlinewidth": 0,
             "ticks": ""
            },
            "colorscale": [
             [
              0,
              "#0d0887"
             ],
             [
              0.1111111111111111,
              "#46039f"
             ],
             [
              0.2222222222222222,
              "#7201a8"
             ],
             [
              0.3333333333333333,
              "#9c179e"
             ],
             [
              0.4444444444444444,
              "#bd3786"
             ],
             [
              0.5555555555555556,
              "#d8576b"
             ],
             [
              0.6666666666666666,
              "#ed7953"
             ],
             [
              0.7777777777777778,
              "#fb9f3a"
             ],
             [
              0.8888888888888888,
              "#fdca26"
             ],
             [
              1,
              "#f0f921"
             ]
            ],
            "type": "histogram2dcontour"
           }
          ],
          "mesh3d": [
           {
            "colorbar": {
             "outlinewidth": 0,
             "ticks": ""
            },
            "type": "mesh3d"
           }
          ],
          "parcoords": [
           {
            "line": {
             "colorbar": {
              "outlinewidth": 0,
              "ticks": ""
             }
            },
            "type": "parcoords"
           }
          ],
          "scatter": [
           {
            "marker": {
             "colorbar": {
              "outlinewidth": 0,
              "ticks": ""
             }
            },
            "type": "scatter"
           }
          ],
          "scatter3d": [
           {
            "line": {
             "colorbar": {
              "outlinewidth": 0,
              "ticks": ""
             }
            },
            "marker": {
             "colorbar": {
              "outlinewidth": 0,
              "ticks": ""
             }
            },
            "type": "scatter3d"
           }
          ],
          "scattercarpet": [
           {
            "marker": {
             "colorbar": {
              "outlinewidth": 0,
              "ticks": ""
             }
            },
            "type": "scattercarpet"
           }
          ],
          "scattergeo": [
           {
            "marker": {
             "colorbar": {
              "outlinewidth": 0,
              "ticks": ""
             }
            },
            "type": "scattergeo"
           }
          ],
          "scattergl": [
           {
            "marker": {
             "colorbar": {
              "outlinewidth": 0,
              "ticks": ""
             }
            },
            "type": "scattergl"
           }
          ],
          "scattermapbox": [
           {
            "marker": {
             "colorbar": {
              "outlinewidth": 0,
              "ticks": ""
             }
            },
            "type": "scattermapbox"
           }
          ],
          "scatterpolar": [
           {
            "marker": {
             "colorbar": {
              "outlinewidth": 0,
              "ticks": ""
             }
            },
            "type": "scatterpolar"
           }
          ],
          "scatterpolargl": [
           {
            "marker": {
             "colorbar": {
              "outlinewidth": 0,
              "ticks": ""
             }
            },
            "type": "scatterpolargl"
           }
          ],
          "scatterternary": [
           {
            "marker": {
             "colorbar": {
              "outlinewidth": 0,
              "ticks": ""
             }
            },
            "type": "scatterternary"
           }
          ],
          "surface": [
           {
            "colorbar": {
             "outlinewidth": 0,
             "ticks": ""
            },
            "colorscale": [
             [
              0,
              "#0d0887"
             ],
             [
              0.1111111111111111,
              "#46039f"
             ],
             [
              0.2222222222222222,
              "#7201a8"
             ],
             [
              0.3333333333333333,
              "#9c179e"
             ],
             [
              0.4444444444444444,
              "#bd3786"
             ],
             [
              0.5555555555555556,
              "#d8576b"
             ],
             [
              0.6666666666666666,
              "#ed7953"
             ],
             [
              0.7777777777777778,
              "#fb9f3a"
             ],
             [
              0.8888888888888888,
              "#fdca26"
             ],
             [
              1,
              "#f0f921"
             ]
            ],
            "type": "surface"
           }
          ],
          "table": [
           {
            "cells": {
             "fill": {
              "color": "#EBF0F8"
             },
             "line": {
              "color": "white"
             }
            },
            "header": {
             "fill": {
              "color": "#C8D4E3"
             },
             "line": {
              "color": "white"
             }
            },
            "type": "table"
           }
          ]
         },
         "layout": {
          "annotationdefaults": {
           "arrowcolor": "#2a3f5f",
           "arrowhead": 0,
           "arrowwidth": 1
          },
          "colorscale": {
           "diverging": [
            [
             0,
             "#8e0152"
            ],
            [
             0.1,
             "#c51b7d"
            ],
            [
             0.2,
             "#de77ae"
            ],
            [
             0.3,
             "#f1b6da"
            ],
            [
             0.4,
             "#fde0ef"
            ],
            [
             0.5,
             "#f7f7f7"
            ],
            [
             0.6,
             "#e6f5d0"
            ],
            [
             0.7,
             "#b8e186"
            ],
            [
             0.8,
             "#7fbc41"
            ],
            [
             0.9,
             "#4d9221"
            ],
            [
             1,
             "#276419"
            ]
           ],
           "sequential": [
            [
             0,
             "#0d0887"
            ],
            [
             0.1111111111111111,
             "#46039f"
            ],
            [
             0.2222222222222222,
             "#7201a8"
            ],
            [
             0.3333333333333333,
             "#9c179e"
            ],
            [
             0.4444444444444444,
             "#bd3786"
            ],
            [
             0.5555555555555556,
             "#d8576b"
            ],
            [
             0.6666666666666666,
             "#ed7953"
            ],
            [
             0.7777777777777778,
             "#fb9f3a"
            ],
            [
             0.8888888888888888,
             "#fdca26"
            ],
            [
             1,
             "#f0f921"
            ]
           ],
           "sequentialminus": [
            [
             0,
             "#0d0887"
            ],
            [
             0.1111111111111111,
             "#46039f"
            ],
            [
             0.2222222222222222,
             "#7201a8"
            ],
            [
             0.3333333333333333,
             "#9c179e"
            ],
            [
             0.4444444444444444,
             "#bd3786"
            ],
            [
             0.5555555555555556,
             "#d8576b"
            ],
            [
             0.6666666666666666,
             "#ed7953"
            ],
            [
             0.7777777777777778,
             "#fb9f3a"
            ],
            [
             0.8888888888888888,
             "#fdca26"
            ],
            [
             1,
             "#f0f921"
            ]
           ]
          },
          "colorway": [
           "#636efa",
           "#EF553B",
           "#00cc96",
           "#ab63fa",
           "#FFA15A",
           "#19d3f3",
           "#FF6692",
           "#B6E880",
           "#FF97FF",
           "#FECB52"
          ],
          "font": {
           "color": "#2a3f5f"
          },
          "geo": {
           "bgcolor": "white",
           "lakecolor": "white",
           "landcolor": "#E5ECF6",
           "showlakes": true,
           "showland": true,
           "subunitcolor": "white"
          },
          "hoverlabel": {
           "align": "left"
          },
          "hovermode": "closest",
          "mapbox": {
           "style": "light"
          },
          "paper_bgcolor": "white",
          "plot_bgcolor": "#E5ECF6",
          "polar": {
           "angularaxis": {
            "gridcolor": "white",
            "linecolor": "white",
            "ticks": ""
           },
           "bgcolor": "#E5ECF6",
           "radialaxis": {
            "gridcolor": "white",
            "linecolor": "white",
            "ticks": ""
           }
          },
          "scene": {
           "xaxis": {
            "backgroundcolor": "#E5ECF6",
            "gridcolor": "white",
            "gridwidth": 2,
            "linecolor": "white",
            "showbackground": true,
            "ticks": "",
            "zerolinecolor": "white"
           },
           "yaxis": {
            "backgroundcolor": "#E5ECF6",
            "gridcolor": "white",
            "gridwidth": 2,
            "linecolor": "white",
            "showbackground": true,
            "ticks": "",
            "zerolinecolor": "white"
           },
           "zaxis": {
            "backgroundcolor": "#E5ECF6",
            "gridcolor": "white",
            "gridwidth": 2,
            "linecolor": "white",
            "showbackground": true,
            "ticks": "",
            "zerolinecolor": "white"
           }
          },
          "shapedefaults": {
           "line": {
            "color": "#2a3f5f"
           }
          },
          "ternary": {
           "aaxis": {
            "gridcolor": "white",
            "linecolor": "white",
            "ticks": ""
           },
           "baxis": {
            "gridcolor": "white",
            "linecolor": "white",
            "ticks": ""
           },
           "bgcolor": "#E5ECF6",
           "caxis": {
            "gridcolor": "white",
            "linecolor": "white",
            "ticks": ""
           }
          },
          "title": {
           "x": 0.05
          },
          "xaxis": {
           "automargin": true,
           "gridcolor": "white",
           "linecolor": "white",
           "ticks": "",
           "zerolinecolor": "white",
           "zerolinewidth": 2
          },
          "yaxis": {
           "automargin": true,
           "gridcolor": "white",
           "linecolor": "white",
           "ticks": "",
           "zerolinecolor": "white",
           "zerolinewidth": 2
          }
         }
        },
        "title": {
         "text": "提案數據分佈"
        }
       }
      },
      "text/html": [
       "<div>\n",
       "        \n",
       "        \n",
       "            <div id=\"1fa49a6a-7f56-4521-b951-c96ec99975b7\" class=\"plotly-graph-div\" style=\"height:525px; width:100%;\"></div>\n",
       "            <script type=\"text/javascript\">\n",
       "                require([\"plotly\"], function(Plotly) {\n",
       "                    window.PLOTLYENV=window.PLOTLYENV || {};\n",
       "                    \n",
       "                if (document.getElementById(\"1fa49a6a-7f56-4521-b951-c96ec99975b7\")) {\n",
       "                    Plotly.newPlot(\n",
       "                        '1fa49a6a-7f56-4521-b951-c96ec99975b7',\n",
       "                        [{\"type\": \"scatter\", \"x\": [1, 2, 3, 4, 5, 6, 7, 8, 9, 10, 11, 12], \"y\": [31, 30, 25, 25, 32, 34, 40, 35, 37, 45, 29, 21]}],\n",
       "                        {\"template\": {\"data\": {\"bar\": [{\"error_x\": {\"color\": \"#2a3f5f\"}, \"error_y\": {\"color\": \"#2a3f5f\"}, \"marker\": {\"line\": {\"color\": \"#E5ECF6\", \"width\": 0.5}}, \"type\": \"bar\"}], \"barpolar\": [{\"marker\": {\"line\": {\"color\": \"#E5ECF6\", \"width\": 0.5}}, \"type\": \"barpolar\"}], \"carpet\": [{\"aaxis\": {\"endlinecolor\": \"#2a3f5f\", \"gridcolor\": \"white\", \"linecolor\": \"white\", \"minorgridcolor\": \"white\", \"startlinecolor\": \"#2a3f5f\"}, \"baxis\": {\"endlinecolor\": \"#2a3f5f\", \"gridcolor\": \"white\", \"linecolor\": \"white\", \"minorgridcolor\": \"white\", \"startlinecolor\": \"#2a3f5f\"}, \"type\": \"carpet\"}], \"choropleth\": [{\"colorbar\": {\"outlinewidth\": 0, \"ticks\": \"\"}, \"type\": \"choropleth\"}], \"contour\": [{\"colorbar\": {\"outlinewidth\": 0, \"ticks\": \"\"}, \"colorscale\": [[0.0, \"#0d0887\"], [0.1111111111111111, \"#46039f\"], [0.2222222222222222, \"#7201a8\"], [0.3333333333333333, \"#9c179e\"], [0.4444444444444444, \"#bd3786\"], [0.5555555555555556, \"#d8576b\"], [0.6666666666666666, \"#ed7953\"], [0.7777777777777778, \"#fb9f3a\"], [0.8888888888888888, \"#fdca26\"], [1.0, \"#f0f921\"]], \"type\": \"contour\"}], \"contourcarpet\": [{\"colorbar\": {\"outlinewidth\": 0, \"ticks\": \"\"}, \"type\": \"contourcarpet\"}], \"heatmap\": [{\"colorbar\": {\"outlinewidth\": 0, \"ticks\": \"\"}, \"colorscale\": [[0.0, \"#0d0887\"], [0.1111111111111111, \"#46039f\"], [0.2222222222222222, \"#7201a8\"], [0.3333333333333333, \"#9c179e\"], [0.4444444444444444, \"#bd3786\"], [0.5555555555555556, \"#d8576b\"], [0.6666666666666666, \"#ed7953\"], [0.7777777777777778, \"#fb9f3a\"], [0.8888888888888888, \"#fdca26\"], [1.0, \"#f0f921\"]], \"type\": \"heatmap\"}], \"heatmapgl\": [{\"colorbar\": {\"outlinewidth\": 0, \"ticks\": \"\"}, \"colorscale\": [[0.0, \"#0d0887\"], [0.1111111111111111, \"#46039f\"], [0.2222222222222222, \"#7201a8\"], [0.3333333333333333, \"#9c179e\"], [0.4444444444444444, \"#bd3786\"], [0.5555555555555556, \"#d8576b\"], [0.6666666666666666, \"#ed7953\"], [0.7777777777777778, \"#fb9f3a\"], [0.8888888888888888, \"#fdca26\"], [1.0, \"#f0f921\"]], \"type\": \"heatmapgl\"}], \"histogram\": [{\"marker\": {\"colorbar\": {\"outlinewidth\": 0, \"ticks\": \"\"}}, \"type\": \"histogram\"}], \"histogram2d\": [{\"colorbar\": {\"outlinewidth\": 0, \"ticks\": \"\"}, \"colorscale\": [[0.0, \"#0d0887\"], [0.1111111111111111, \"#46039f\"], [0.2222222222222222, \"#7201a8\"], [0.3333333333333333, \"#9c179e\"], [0.4444444444444444, \"#bd3786\"], [0.5555555555555556, \"#d8576b\"], [0.6666666666666666, \"#ed7953\"], [0.7777777777777778, \"#fb9f3a\"], [0.8888888888888888, \"#fdca26\"], [1.0, \"#f0f921\"]], \"type\": \"histogram2d\"}], \"histogram2dcontour\": [{\"colorbar\": {\"outlinewidth\": 0, \"ticks\": \"\"}, \"colorscale\": [[0.0, \"#0d0887\"], [0.1111111111111111, \"#46039f\"], [0.2222222222222222, \"#7201a8\"], [0.3333333333333333, \"#9c179e\"], [0.4444444444444444, \"#bd3786\"], [0.5555555555555556, \"#d8576b\"], [0.6666666666666666, \"#ed7953\"], [0.7777777777777778, \"#fb9f3a\"], [0.8888888888888888, \"#fdca26\"], [1.0, \"#f0f921\"]], \"type\": \"histogram2dcontour\"}], \"mesh3d\": [{\"colorbar\": {\"outlinewidth\": 0, \"ticks\": \"\"}, \"type\": \"mesh3d\"}], \"parcoords\": [{\"line\": {\"colorbar\": {\"outlinewidth\": 0, \"ticks\": \"\"}}, \"type\": \"parcoords\"}], \"scatter\": [{\"marker\": {\"colorbar\": {\"outlinewidth\": 0, \"ticks\": \"\"}}, \"type\": \"scatter\"}], \"scatter3d\": [{\"line\": {\"colorbar\": {\"outlinewidth\": 0, \"ticks\": \"\"}}, \"marker\": {\"colorbar\": {\"outlinewidth\": 0, \"ticks\": \"\"}}, \"type\": \"scatter3d\"}], \"scattercarpet\": [{\"marker\": {\"colorbar\": {\"outlinewidth\": 0, \"ticks\": \"\"}}, \"type\": \"scattercarpet\"}], \"scattergeo\": [{\"marker\": {\"colorbar\": {\"outlinewidth\": 0, \"ticks\": \"\"}}, \"type\": \"scattergeo\"}], \"scattergl\": [{\"marker\": {\"colorbar\": {\"outlinewidth\": 0, \"ticks\": \"\"}}, \"type\": \"scattergl\"}], \"scattermapbox\": [{\"marker\": {\"colorbar\": {\"outlinewidth\": 0, \"ticks\": \"\"}}, \"type\": \"scattermapbox\"}], \"scatterpolar\": [{\"marker\": {\"colorbar\": {\"outlinewidth\": 0, \"ticks\": \"\"}}, \"type\": \"scatterpolar\"}], \"scatterpolargl\": [{\"marker\": {\"colorbar\": {\"outlinewidth\": 0, \"ticks\": \"\"}}, \"type\": \"scatterpolargl\"}], \"scatterternary\": [{\"marker\": {\"colorbar\": {\"outlinewidth\": 0, \"ticks\": \"\"}}, \"type\": \"scatterternary\"}], \"surface\": [{\"colorbar\": {\"outlinewidth\": 0, \"ticks\": \"\"}, \"colorscale\": [[0.0, \"#0d0887\"], [0.1111111111111111, \"#46039f\"], [0.2222222222222222, \"#7201a8\"], [0.3333333333333333, \"#9c179e\"], [0.4444444444444444, \"#bd3786\"], [0.5555555555555556, \"#d8576b\"], [0.6666666666666666, \"#ed7953\"], [0.7777777777777778, \"#fb9f3a\"], [0.8888888888888888, \"#fdca26\"], [1.0, \"#f0f921\"]], \"type\": \"surface\"}], \"table\": [{\"cells\": {\"fill\": {\"color\": \"#EBF0F8\"}, \"line\": {\"color\": \"white\"}}, \"header\": {\"fill\": {\"color\": \"#C8D4E3\"}, \"line\": {\"color\": \"white\"}}, \"type\": \"table\"}]}, \"layout\": {\"annotationdefaults\": {\"arrowcolor\": \"#2a3f5f\", \"arrowhead\": 0, \"arrowwidth\": 1}, \"colorscale\": {\"diverging\": [[0, \"#8e0152\"], [0.1, \"#c51b7d\"], [0.2, \"#de77ae\"], [0.3, \"#f1b6da\"], [0.4, \"#fde0ef\"], [0.5, \"#f7f7f7\"], [0.6, \"#e6f5d0\"], [0.7, \"#b8e186\"], [0.8, \"#7fbc41\"], [0.9, \"#4d9221\"], [1, \"#276419\"]], \"sequential\": [[0.0, \"#0d0887\"], [0.1111111111111111, \"#46039f\"], [0.2222222222222222, \"#7201a8\"], [0.3333333333333333, \"#9c179e\"], [0.4444444444444444, \"#bd3786\"], [0.5555555555555556, \"#d8576b\"], [0.6666666666666666, \"#ed7953\"], [0.7777777777777778, \"#fb9f3a\"], [0.8888888888888888, \"#fdca26\"], [1.0, \"#f0f921\"]], \"sequentialminus\": [[0.0, \"#0d0887\"], [0.1111111111111111, \"#46039f\"], [0.2222222222222222, \"#7201a8\"], [0.3333333333333333, \"#9c179e\"], [0.4444444444444444, \"#bd3786\"], [0.5555555555555556, \"#d8576b\"], [0.6666666666666666, \"#ed7953\"], [0.7777777777777778, \"#fb9f3a\"], [0.8888888888888888, \"#fdca26\"], [1.0, \"#f0f921\"]]}, \"colorway\": [\"#636efa\", \"#EF553B\", \"#00cc96\", \"#ab63fa\", \"#FFA15A\", \"#19d3f3\", \"#FF6692\", \"#B6E880\", \"#FF97FF\", \"#FECB52\"], \"font\": {\"color\": \"#2a3f5f\"}, \"geo\": {\"bgcolor\": \"white\", \"lakecolor\": \"white\", \"landcolor\": \"#E5ECF6\", \"showlakes\": true, \"showland\": true, \"subunitcolor\": \"white\"}, \"hoverlabel\": {\"align\": \"left\"}, \"hovermode\": \"closest\", \"mapbox\": {\"style\": \"light\"}, \"paper_bgcolor\": \"white\", \"plot_bgcolor\": \"#E5ECF6\", \"polar\": {\"angularaxis\": {\"gridcolor\": \"white\", \"linecolor\": \"white\", \"ticks\": \"\"}, \"bgcolor\": \"#E5ECF6\", \"radialaxis\": {\"gridcolor\": \"white\", \"linecolor\": \"white\", \"ticks\": \"\"}}, \"scene\": {\"xaxis\": {\"backgroundcolor\": \"#E5ECF6\", \"gridcolor\": \"white\", \"gridwidth\": 2, \"linecolor\": \"white\", \"showbackground\": true, \"ticks\": \"\", \"zerolinecolor\": \"white\"}, \"yaxis\": {\"backgroundcolor\": \"#E5ECF6\", \"gridcolor\": \"white\", \"gridwidth\": 2, \"linecolor\": \"white\", \"showbackground\": true, \"ticks\": \"\", \"zerolinecolor\": \"white\"}, \"zaxis\": {\"backgroundcolor\": \"#E5ECF6\", \"gridcolor\": \"white\", \"gridwidth\": 2, \"linecolor\": \"white\", \"showbackground\": true, \"ticks\": \"\", \"zerolinecolor\": \"white\"}}, \"shapedefaults\": {\"line\": {\"color\": \"#2a3f5f\"}}, \"ternary\": {\"aaxis\": {\"gridcolor\": \"white\", \"linecolor\": \"white\", \"ticks\": \"\"}, \"baxis\": {\"gridcolor\": \"white\", \"linecolor\": \"white\", \"ticks\": \"\"}, \"bgcolor\": \"#E5ECF6\", \"caxis\": {\"gridcolor\": \"white\", \"linecolor\": \"white\", \"ticks\": \"\"}}, \"title\": {\"x\": 0.05}, \"xaxis\": {\"automargin\": true, \"gridcolor\": \"white\", \"linecolor\": \"white\", \"ticks\": \"\", \"zerolinecolor\": \"white\", \"zerolinewidth\": 2}, \"yaxis\": {\"automargin\": true, \"gridcolor\": \"white\", \"linecolor\": \"white\", \"ticks\": \"\", \"zerolinecolor\": \"white\", \"zerolinewidth\": 2}}}, \"title\": {\"text\": \"\\u63d0\\u6848\\u6578\\u64da\\u5206\\u4f48\"}},\n",
       "                        {\"responsive\": true}\n",
       "                    ).then(function(){\n",
       "                            \n",
       "var gd = document.getElementById('1fa49a6a-7f56-4521-b951-c96ec99975b7');\n",
       "var x = new MutationObserver(function (mutations, observer) {{\n",
       "        var display = window.getComputedStyle(gd).display;\n",
       "        if (!display || display === 'none') {{\n",
       "            console.log([gd, 'removed!']);\n",
       "            Plotly.purge(gd);\n",
       "            observer.disconnect();\n",
       "        }}\n",
       "}});\n",
       "\n",
       "// Listen for the removal of the full notebook cells\n",
       "var notebookContainer = gd.closest('#notebook-container');\n",
       "if (notebookContainer) {{\n",
       "    x.observe(notebookContainer, {childList: true});\n",
       "}}\n",
       "\n",
       "// Listen for the clearing of the current output cell\n",
       "var outputEl = gd.closest('.output');\n",
       "if (outputEl) {{\n",
       "    x.observe(outputEl, {childList: true});\n",
       "}}\n",
       "\n",
       "                        })\n",
       "                };\n",
       "                });\n",
       "            </script>\n",
       "        </div>"
      ]
     },
     "metadata": {},
     "output_type": "display_data"
    }
   ],
   "source": [
    "data = [go.Scatter(\n",
    "        x=df.groupby(df.pro_month).have.sum().index,\n",
    "        y = df.groupby(df.pro_month).have.sum())]\n",
    "\n",
    "layout = dict(title='提案數據分佈') #表格想顯示的資訊\n",
    "\n",
    "#py.ipolt(data)\n",
    "fig = dict(data=data,layout=layout)\n",
    "py.iplot(fig)"
   ]
  },
  {
   "cell_type": "code",
   "execution_count": 29,
   "metadata": {},
   "outputs": [
    {
     "data": {
      "text/plain": [
       "Text(0.5, 6.79999999999999, '門檻')"
      ]
     },
     "execution_count": 29,
     "metadata": {},
     "output_type": "execute_result"
    },
    {
     "data": {
      "text/plain": [
       "<Figure size 1080x432 with 0 Axes>"
      ]
     },
     "metadata": {},
     "output_type": "display_data"
    },
    {
     "data": {
      "image/png": "[encoded data removed]",
      "text/plain": [
       "<Figure size 360x360 with 1 Axes>"
      ]
     },
     "metadata": {},
     "output_type": "display_data"
    }
   ],
   "source": [
    "plt.style.use('ggplot')\n",
    "plt.figure(figsize=(15,6))\n",
    "sns.displot(df.successCriti,kde=True)\n",
    "plt.title('大部分的募資人數都是30、50、100為臨界點',fontsize=30,family = \"SimSun\") #family解決文字亂碼"
   ]
  },
  {
   "cell_type": "markdown",
   "metadata": {},
   "source": [
    "## 文字雲分析介紹\n",
    "關鍵字計算的概念叫做 TF-IDF 演算法  \n",
    "數據分析技術-文字探勘(Text Mining)的文字雲(Word Cloud)與關鍵字分析(Keyword Extraction)   \n",
    "\n",
    "\n",
    "https://medium.com/@artofdatascience/%E8%B3%87%E6%96%99%E5%88%86%E6%9E%90%E5%B0%8F%E7%9F%A5%E8%AD%98-%E6%96%87%E5%AD%97%E9%9B%B2%E8%88%87%E9%97%9C%E9%8D%B5%E5%AD%97%E5%88%86%E6%9E%90-3f3695195298   \n",
    "https://medium.com/@artofdatascience/ptt%E5%A4%A7%E6%95%B8%E6%93%9A-boy-girl%E5%85%A9%E6%80%A7%E7%89%88%E4%B9%8B%E9%84%89%E6%B0%91%E7%96%91%E9%9B%A3%E9%9B%9C%E7%97%87%E8%A7%A3%E6%9E%90-57b7fccb08c2   "
   ]
  },
  {
   "cell_type": "code",
   "execution_count": 56,
   "metadata": {},
   "outputs": [
    {
     "data": {
      "text/plain": [
       "<Figure size 432x288 with 0 Axes>"
      ]
     },
     "execution_count": 56,
     "metadata": {},
     "output_type": "execute_result"
    },
    {
     "data": {
      "image/png": "[encoded data removed]",
      "text/plain": [
       "<Figure size 432x288 with 1 Axes>"
      ]
     },
     "metadata": {},
     "output_type": "display_data"
    },
    {
     "data": {
      "text/plain": [
       "<Figure size 432x288 with 0 Axes>"
      ]
     },
     "metadata": {},
     "output_type": "display_data"
    }
   ],
   "source": [
    "from wordcloud import WordCloud\n",
    "import jieba\n",
    "high_gate_proposal = df[df.successCriti > 90]\n",
    "title = ''\n",
    "for name in high_gate_proposal.title:\n",
    "    title += name\n",
    "removeword = []\n",
    "for word in removeword:\n",
    "    title = title.replace(word,'')\n",
    "    \n",
    "font_path = 'C:/Users/user/Desktop/medium文案/Finformation當資料科學遇上財務金融/微軟正黑體-1.ttf'\n",
    "wordcloud = WordCloud(font_path = font_path).generate(title)\n",
    "plt.title('課程名字!',fontsize = 40,family = \"SimSun\" )\n",
    "plt.imshow(wordcloud,interpolation='bilinear',extent=[0, 15, 0, 10],aspect = 1.5)\n",
    "plt.axis('off')\n",
    "plt.figure()"
   ]
  },
  {
   "cell_type": "code",
   "execution_count": 60,
   "metadata": {},
   "outputs": [
    {
     "data": {
      "text/plain": [
       "<Figure size 432x288 with 0 Axes>"
      ]
     },
     "execution_count": 60,
     "metadata": {},
     "output_type": "execute_result"
    },
    {
     "data": {
      "image/png": "[encoded data removed]",
      "text/plain": [
       "<Figure size 432x288 with 1 Axes>"
      ]
     },
     "metadata": {},
     "output_type": "display_data"
    },
    {
     "data": {
      "text/plain": [
       "<Figure size 432x288 with 0 Axes>"
      ]
     },
     "metadata": {},
     "output_type": "display_data"
    }
   ],
   "source": [
    "df['await'] = df.solidTickets/df.successCriti\n",
    "df.sort_values('await',ascending=False).head(20)\n",
    "\n",
    "\n",
    "rank_20 = df.sort_values('await',ascending=False).head(20)\n",
    "\n",
    "coursename = []\n",
    "\n",
    "for name in rank_20.title:  #程式碼精簡\n",
    "      coursename.append(name)\n",
    "    \n",
    "font_path = 'C:/Users/user/Desktop/medium文案/Finformation當資料科學遇上財務金融/微軟正黑體-1.ttf'\n",
    "wordcloud = WordCloud(font_path = font_path).generate(title)\n",
    "plt.title('課程名字!',fontsize = 40,family = \"SimSun\" )\n",
    "plt.imshow(wordcloud,interpolation='bilinear',extent=[0, 15, 0, 10],aspect = 1.5)\n",
    "plt.axis('off')\n",
    "plt.figure()"
   ]
  },
  {
   "cell_type": "code",
   "execution_count": 67,
   "metadata": {},
   "outputs": [
    {
     "data": {
      "text/html": [
       "<div>\n",
       "<style scoped>\n",
       "    .dataframe tbody tr th:only-of-type {\n",
       "        vertical-align: middle;\n",
       "    }\n",
       "\n",
       "    .dataframe tbody tr th {\n",
       "        vertical-align: top;\n",
       "    }\n",
       "\n",
       "    .dataframe thead th {\n",
       "        text-align: right;\n",
       "    }\n",
       "</style>\n",
       "<table border=\"1\" class=\"dataframe\">\n",
       "  <thead>\n",
       "    <tr style=\"text-align: right;\">\n",
       "      <th></th>\n",
       "      <th>Unnamed: 0</th>\n",
       "      <th>title</th>\n",
       "      <th>author</th>\n",
       "      <th>proposal</th>\n",
       "      <th>incubate</th>\n",
       "      <th>estimateStart</th>\n",
       "      <th>startCapital</th>\n",
       "      <th>types</th>\n",
       "      <th>ratings</th>\n",
       "      <th>avg_ratings</th>\n",
       "      <th>isReject</th>\n",
       "      <th>successCriti</th>\n",
       "      <th>prePrice</th>\n",
       "      <th>price</th>\n",
       "      <th>review</th>\n",
       "      <th>status</th>\n",
       "      <th>solidTickets</th>\n",
       "      <th>pro_month</th>\n",
       "      <th>have</th>\n",
       "      <th>await</th>\n",
       "    </tr>\n",
       "  </thead>\n",
       "  <tbody>\n",
       "    <tr>\n",
       "      <th>31</th>\n",
       "      <td>31</td>\n",
       "      <td>金融市場 x 程式交易：通往財富自由之路</td>\n",
       "      <td>Allen 劉曣全</td>\n",
       "      <td>2019-08-14</td>\n",
       "      <td>2019-07-16</td>\n",
       "      <td>2019-10-13</td>\n",
       "      <td>NaN</td>\n",
       "      <td>[]</td>\n",
       "      <td>0</td>\n",
       "      <td>0.0</td>\n",
       "      <td>False</td>\n",
       "      <td>30</td>\n",
       "      <td>2950</td>\n",
       "      <td>4200</td>\n",
       "      <td>False</td>\n",
       "      <td>SUCCESS</td>\n",
       "      <td>518</td>\n",
       "      <td>8</td>\n",
       "      <td>1</td>\n",
       "      <td>0.057915</td>\n",
       "    </tr>\n",
       "    <tr>\n",
       "      <th>18</th>\n",
       "      <td>18</td>\n",
       "      <td>不用動腦的攝影課-七堂課拍出有質感的照片</td>\n",
       "      <td>peterhuang</td>\n",
       "      <td>2019-09-20</td>\n",
       "      <td>2019-08-22</td>\n",
       "      <td>2019-11-19</td>\n",
       "      <td>2019-08-22T04:00:00.000Z</td>\n",
       "      <td>['DIGITAL']</td>\n",
       "      <td>0</td>\n",
       "      <td>0.0</td>\n",
       "      <td>False</td>\n",
       "      <td>50</td>\n",
       "      <td>490</td>\n",
       "      <td>790</td>\n",
       "      <td>False</td>\n",
       "      <td>SUCCESS</td>\n",
       "      <td>473</td>\n",
       "      <td>9</td>\n",
       "      <td>1</td>\n",
       "      <td>0.105708</td>\n",
       "    </tr>\n",
       "    <tr>\n",
       "      <th>19</th>\n",
       "      <td>19</td>\n",
       "      <td>英雄之旅：自己的故事，別當配角</td>\n",
       "      <td>子雍 Tzu-Yung</td>\n",
       "      <td>2019-09-18</td>\n",
       "      <td>2019-08-20</td>\n",
       "      <td>2019-11-17</td>\n",
       "      <td>NaN</td>\n",
       "      <td>[]</td>\n",
       "      <td>0</td>\n",
       "      <td>0.0</td>\n",
       "      <td>False</td>\n",
       "      <td>100</td>\n",
       "      <td>1490</td>\n",
       "      <td>2049</td>\n",
       "      <td>False</td>\n",
       "      <td>SUCCESS</td>\n",
       "      <td>444</td>\n",
       "      <td>9</td>\n",
       "      <td>1</td>\n",
       "      <td>0.225225</td>\n",
       "    </tr>\n",
       "    <tr>\n",
       "      <th>16</th>\n",
       "      <td>16</td>\n",
       "      <td>illustrator 入門：從形狀到美麗的向量插畫</td>\n",
       "      <td>Iris Lee</td>\n",
       "      <td>2019-09-26</td>\n",
       "      <td>2019-08-28</td>\n",
       "      <td>2019-11-25</td>\n",
       "      <td>NaN</td>\n",
       "      <td>[]</td>\n",
       "      <td>0</td>\n",
       "      <td>0.0</td>\n",
       "      <td>False</td>\n",
       "      <td>30</td>\n",
       "      <td>980</td>\n",
       "      <td>1960</td>\n",
       "      <td>False</td>\n",
       "      <td>SUCCESS</td>\n",
       "      <td>319</td>\n",
       "      <td>9</td>\n",
       "      <td>1</td>\n",
       "      <td>0.094044</td>\n",
       "    </tr>\n",
       "    <tr>\n",
       "      <th>23</th>\n",
       "      <td>23</td>\n",
       "      <td>區塊鏈應用敲門磚：行動支付到商業案例</td>\n",
       "      <td>區塊勢｜許明恩</td>\n",
       "      <td>2019-09-05</td>\n",
       "      <td>2019-08-07</td>\n",
       "      <td>2019-11-04</td>\n",
       "      <td>2019-08-07T04:00:00.000Z</td>\n",
       "      <td>['DIGITAL']</td>\n",
       "      <td>0</td>\n",
       "      <td>0.0</td>\n",
       "      <td>False</td>\n",
       "      <td>50</td>\n",
       "      <td>1800</td>\n",
       "      <td>2399</td>\n",
       "      <td>False</td>\n",
       "      <td>SUCCESS</td>\n",
       "      <td>285</td>\n",
       "      <td>9</td>\n",
       "      <td>1</td>\n",
       "      <td>0.175439</td>\n",
       "    </tr>\n",
       "  </tbody>\n",
       "</table>\n",
       "</div>"
      ],
      "text/plain": [
       "    Unnamed: 0                       title       author    proposal  \\\n",
       "31          31        金融市場 x 程式交易：通往財富自由之路    Allen 劉曣全  2019-08-14   \n",
       "18          18        不用動腦的攝影課-七堂課拍出有質感的照片   peterhuang  2019-09-20   \n",
       "19          19             英雄之旅：自己的故事，別當配角  子雍 Tzu-Yung  2019-09-18   \n",
       "16          16  illustrator 入門：從形狀到美麗的向量插畫     Iris Lee  2019-09-26   \n",
       "23          23          區塊鏈應用敲門磚：行動支付到商業案例      區塊勢｜許明恩  2019-09-05   \n",
       "\n",
       "      incubate estimateStart              startCapital        types  ratings  \\\n",
       "31  2019-07-16    2019-10-13                       NaN           []        0   \n",
       "18  2019-08-22    2019-11-19  2019-08-22T04:00:00.000Z  ['DIGITAL']        0   \n",
       "19  2019-08-20    2019-11-17                       NaN           []        0   \n",
       "16  2019-08-28    2019-11-25                       NaN           []        0   \n",
       "23  2019-08-07    2019-11-04  2019-08-07T04:00:00.000Z  ['DIGITAL']        0   \n",
       "\n",
       "    avg_ratings  isReject  successCriti  prePrice  price  review   status  \\\n",
       "31          0.0     False            30      2950   4200   False  SUCCESS   \n",
       "18          0.0     False            50       490    790   False  SUCCESS   \n",
       "19          0.0     False           100      1490   2049   False  SUCCESS   \n",
       "16          0.0     False            30       980   1960   False  SUCCESS   \n",
       "23          0.0     False            50      1800   2399   False  SUCCESS   \n",
       "\n",
       "    solidTickets  pro_month  have     await  \n",
       "31           518          8     1  0.057915  \n",
       "18           473          9     1  0.105708  \n",
       "19           444          9     1  0.225225  \n",
       "16           319          9     1  0.094044  \n",
       "23           285          9     1  0.175439  "
      ]
     },
     "execution_count": 67,
     "metadata": {},
     "output_type": "execute_result"
    }
   ],
   "source": [
    "# 如果想要更精準地比較，資料欄位中有時間欄位，我們可以把他們與分析日期結合，\n",
    "# 計算出「開課天數」，將上課人數 / 開課天數來放到同一個時間尺度下比較！\n",
    "check_start = df[df.status =='SUCCESS']\n",
    "check_start['await'] = check_start.successCriti/check_start.solidTickets\n",
    "check_start.sort_values('solidTickets',ascending = False).head()"
   ]
  },
  {
   "cell_type": "code",
   "execution_count": 75,
   "metadata": {},
   "outputs": [
    {
     "data": {
      "text/html": [
       "<div>\n",
       "<style scoped>\n",
       "    .dataframe tbody tr th:only-of-type {\n",
       "        vertical-align: middle;\n",
       "    }\n",
       "\n",
       "    .dataframe tbody tr th {\n",
       "        vertical-align: top;\n",
       "    }\n",
       "\n",
       "    .dataframe thead th {\n",
       "        text-align: right;\n",
       "    }\n",
       "</style>\n",
       "<table border=\"1\" class=\"dataframe\">\n",
       "  <thead>\n",
       "    <tr style=\"text-align: right;\">\n",
       "      <th></th>\n",
       "      <th>have</th>\n",
       "    </tr>\n",
       "    <tr>\n",
       "      <th>author</th>\n",
       "      <th></th>\n",
       "    </tr>\n",
       "  </thead>\n",
       "  <tbody>\n",
       "    <tr>\n",
       "      <th>藍 國峰</th>\n",
       "      <td>5</td>\n",
       "    </tr>\n",
       "    <tr>\n",
       "      <th>Weihang Lidance Chou</th>\n",
       "      <td>4</td>\n",
       "    </tr>\n",
       "    <tr>\n",
       "      <th>李柏鋒</th>\n",
       "      <td>4</td>\n",
       "    </tr>\n",
       "    <tr>\n",
       "      <th>圖文不符</th>\n",
       "      <td>4</td>\n",
       "    </tr>\n",
       "    <tr>\n",
       "      <th>1MustLearn</th>\n",
       "      <td>4</td>\n",
       "    </tr>\n",
       "    <tr>\n",
       "      <th>Chang Hong Lin</th>\n",
       "      <td>4</td>\n",
       "    </tr>\n",
       "    <tr>\n",
       "      <th>Rainie Chiang</th>\n",
       "      <td>3</td>\n",
       "    </tr>\n",
       "    <tr>\n",
       "      <th>Tina Wu</th>\n",
       "      <td>3</td>\n",
       "    </tr>\n",
       "    <tr>\n",
       "      <th>Hank Tom</th>\n",
       "      <td>3</td>\n",
       "    </tr>\n",
       "    <tr>\n",
       "      <th>Lien  Ted</th>\n",
       "      <td>3</td>\n",
       "    </tr>\n",
       "    <tr>\n",
       "      <th>彭毅弘 Bill</th>\n",
       "      <td>3</td>\n",
       "    </tr>\n",
       "    <tr>\n",
       "      <th>聯經出版</th>\n",
       "      <td>3</td>\n",
       "    </tr>\n",
       "    <tr>\n",
       "      <th>程威誌</th>\n",
       "      <td>2</td>\n",
       "    </tr>\n",
       "    <tr>\n",
       "      <th>老別</th>\n",
       "      <td>2</td>\n",
       "    </tr>\n",
       "    <tr>\n",
       "      <th>Nuomi</th>\n",
       "      <td>2</td>\n",
       "    </tr>\n",
       "  </tbody>\n",
       "</table>\n",
       "</div>"
      ],
      "text/plain": [
       "                      have\n",
       "author                    \n",
       "藍 國峰                     5\n",
       "Weihang Lidance Chou     4\n",
       "李柏鋒                      4\n",
       "圖文不符                     4\n",
       "1MustLearn               4\n",
       "Chang Hong Lin           4\n",
       "Rainie Chiang            3\n",
       "Tina Wu                  3\n",
       "Hank Tom                 3\n",
       "Lien  Ted                3\n",
       "彭毅弘 Bill                 3\n",
       "聯經出版                     3\n",
       "程威誌                      2\n",
       "老別                       2\n",
       "Nuomi                    2"
      ]
     },
     "execution_count": 75,
     "metadata": {},
     "output_type": "execute_result"
    }
   ],
   "source": [
    "#看看有沒有人很喜歡開課\n",
    "pd.DataFrame(df.groupby(df.author).have.sum()).sort_values('have',ascending=False).head(15)\n"
   ]
  },
  {
   "cell_type": "code",
   "execution_count": 78,
   "metadata": {},
   "outputs": [
    {
     "data": {
      "text/plain": [
       "author\n",
       "圖文不符                    23990\n",
       "吳哲宇                      8786\n",
       "FinLab                   7861\n",
       "阿滴 x 圖文不符                7619\n",
       "Yan-K                    4727\n",
       "林育聖                      4412\n",
       "藍 國峰                     3952\n",
       "Rachel Chen              3706\n",
       "Weihang Lidance Chou     3544\n",
       "王稚鈞                      3530\n",
       "Name: solidTickets, dtype: int64"
      ]
     },
     "execution_count": 78,
     "metadata": {},
     "output_type": "execute_result"
    }
   ],
   "source": [
    "#統計學生人數\n",
    "df.groupby(df.author).solidTickets.sum().nlargest(10)"
   ]
  },
  {
   "cell_type": "code",
   "execution_count": 81,
   "metadata": {
    "scrolled": true
   },
   "outputs": [
    {
     "name": "stderr",
     "output_type": "stream",
     "text": [
      "C:\\Users\\user\\anaconda3\\lib\\site-packages\\seaborn\\distributions.py:2557: FutureWarning:\n",
      "\n",
      "`distplot` is a deprecated function and will be removed in a future version. Please adapt your code to use either `displot` (a figure-level function with similar flexibility) or `histplot` (an axes-level function for histograms).\n",
      "\n"
     ]
    },
    {
     "data": {
      "text/plain": [
       "Text(0.5, 0, '平均評分')"
      ]
     },
     "execution_count": 81,
     "metadata": {},
     "output_type": "execute_result"
    },
    {
     "data": {
      "image/png": "[encoded data removed]",
      "text/plain": [
       "<Figure size 1080x432 with 1 Axes>"
      ]
     },
     "metadata": {},
     "output_type": "display_data"
    }
   ],
   "source": [
    "#學生人數的角度去切入「熱門」這件事情\n",
    "#利用「評分」來檢視課程！\n",
    "plt.style.use('ggplot')\n",
    "plt.figure(figsize=(15,6))\n",
    "sns.distplot(df.avg_ratings,kde=True)\n",
    "plt.title('課程評價',fontsize=30,family=\"SimSun\")\n",
    "plt.xlabel('平均評分',fontsize=20,family=\"SimSun\")"
   ]
  },
  {
   "cell_type": "code",
   "execution_count": 82,
   "metadata": {},
   "outputs": [
    {
     "data": {
      "text/html": [
       "<div>\n",
       "<style scoped>\n",
       "    .dataframe tbody tr th:only-of-type {\n",
       "        vertical-align: middle;\n",
       "    }\n",
       "\n",
       "    .dataframe tbody tr th {\n",
       "        vertical-align: top;\n",
       "    }\n",
       "\n",
       "    .dataframe thead th {\n",
       "        text-align: right;\n",
       "    }\n",
       "</style>\n",
       "<table border=\"1\" class=\"dataframe\">\n",
       "  <thead>\n",
       "    <tr style=\"text-align: right;\">\n",
       "      <th></th>\n",
       "      <th>Unnamed: 0</th>\n",
       "      <th>title</th>\n",
       "      <th>author</th>\n",
       "      <th>proposal</th>\n",
       "      <th>incubate</th>\n",
       "      <th>estimateStart</th>\n",
       "      <th>startCapital</th>\n",
       "      <th>types</th>\n",
       "      <th>ratings</th>\n",
       "      <th>avg_ratings</th>\n",
       "      <th>isReject</th>\n",
       "      <th>successCriti</th>\n",
       "      <th>prePrice</th>\n",
       "      <th>price</th>\n",
       "      <th>review</th>\n",
       "      <th>status</th>\n",
       "      <th>solidTickets</th>\n",
       "      <th>pro_month</th>\n",
       "      <th>have</th>\n",
       "    </tr>\n",
       "  </thead>\n",
       "  <tbody>\n",
       "    <tr>\n",
       "      <th>264</th>\n",
       "      <td>264</td>\n",
       "      <td>Node.js 網站開發 with React.js</td>\n",
       "      <td>yicheng</td>\n",
       "      <td>2017-01-26</td>\n",
       "      <td>2016-12-27</td>\n",
       "      <td>2017-02-25</td>\n",
       "      <td>NaN</td>\n",
       "      <td>[]</td>\n",
       "      <td>16</td>\n",
       "      <td>2.75</td>\n",
       "      <td>False</td>\n",
       "      <td>40</td>\n",
       "      <td>1680</td>\n",
       "      <td>1980</td>\n",
       "      <td>False</td>\n",
       "      <td>PUBLISHED</td>\n",
       "      <td>219</td>\n",
       "      <td>1</td>\n",
       "      <td>1</td>\n",
       "    </tr>\n",
       "  </tbody>\n",
       "</table>\n",
       "</div>"
      ],
      "text/plain": [
       "     Unnamed: 0                       title   author    proposal    incubate  \\\n",
       "264         264  Node.js 網站開發 with React.js  yicheng  2017-01-26  2016-12-27   \n",
       "\n",
       "    estimateStart startCapital types  ratings  avg_ratings  isReject  \\\n",
       "264    2017-02-25          NaN    []       16         2.75     False   \n",
       "\n",
       "     successCriti  prePrice  price  review     status  solidTickets  \\\n",
       "264            40      1680   1980   False  PUBLISHED           219   \n",
       "\n",
       "     pro_month  have  \n",
       "264          1     1  "
      ]
     },
     "execution_count": 82,
     "metadata": {},
     "output_type": "execute_result"
    }
   ],
   "source": [
    "df[(df.avg_ratings > 0) & (df.avg_ratings<3)]\n",
    "# 1. 不要用過於基礎、網路上就能查到的資料來上課\n",
    "# 2. 內容枯燥，技術性的課程只講技術很容易流於無趣，老師需要多帶一點個人、實務經驗\n",
    "# 3. 缺乏對學生背景認知，跳太快，過於進階就不太適合。"
   ]
  },
  {
   "cell_type": "markdown",
   "metadata": {},
   "source": [
    "那麼評價風氣如何？"
   ]
  },
  {
   "cell_type": "code",
   "execution_count": 85,
   "metadata": {},
   "outputs": [
    {
     "name": "stdout",
     "output_type": "stream",
     "text": [
      "count    384.000000\n",
      "mean      31.208333\n",
      "std       45.461008\n",
      "min        0.000000\n",
      "25%        6.000000\n",
      "50%       15.000000\n",
      "75%       36.250000\n",
      "max      425.000000\n",
      "Name: ratings, dtype: float64\n"
     ]
    },
    {
     "name": "stderr",
     "output_type": "stream",
     "text": [
      "C:\\Users\\user\\anaconda3\\lib\\site-packages\\seaborn\\distributions.py:2557: FutureWarning:\n",
      "\n",
      "`distplot` is a deprecated function and will be removed in a future version. Please adapt your code to use either `displot` (a figure-level function with similar flexibility) or `histplot` (an axes-level function for histograms).\n",
      "\n"
     ]
    },
    {
     "data": {
      "text/plain": [
       "Text(0.5, 0, '平均留言數')"
      ]
     },
     "execution_count": 85,
     "metadata": {},
     "output_type": "execute_result"
    },
    {
     "data": {
      "image/png": "[encoded data removed]",
      "text/plain": [
       "<Figure size 1080x432 with 1 Axes>"
      ]
     },
     "metadata": {},
     "output_type": "display_data"
    }
   ],
   "source": [
    "plt.style.use('ggplot')\n",
    "print(df.ratings.describe())\n",
    "plt.figure(figsize=(15,6))\n",
    "sns.distplot(df.ratings,kde=True)\n",
    "plt.title('留言情況',fontsize=30,family=\"SimSun\")\n",
    "plt.xlabel('平均留言數',fontsize=20,family=\"SimSun\")\n"
   ]
  },
  {
   "cell_type": "code",
   "execution_count": 97,
   "metadata": {},
   "outputs": [
    {
     "data": {
      "text/html": [
       "<div>\n",
       "<style scoped>\n",
       "    .dataframe tbody tr th:only-of-type {\n",
       "        vertical-align: middle;\n",
       "    }\n",
       "\n",
       "    .dataframe tbody tr th {\n",
       "        vertical-align: top;\n",
       "    }\n",
       "\n",
       "    .dataframe thead th {\n",
       "        text-align: right;\n",
       "    }\n",
       "</style>\n",
       "<table border=\"1\" class=\"dataframe\">\n",
       "  <thead>\n",
       "    <tr style=\"text-align: right;\">\n",
       "      <th></th>\n",
       "      <th>Unnamed: 0</th>\n",
       "      <th>title</th>\n",
       "      <th>author</th>\n",
       "      <th>proposal</th>\n",
       "      <th>incubate</th>\n",
       "      <th>estimateStart</th>\n",
       "      <th>startCapital</th>\n",
       "      <th>types</th>\n",
       "      <th>ratings</th>\n",
       "      <th>avg_ratings</th>\n",
       "      <th>isReject</th>\n",
       "      <th>successCriti</th>\n",
       "      <th>prePrice</th>\n",
       "      <th>price</th>\n",
       "      <th>review</th>\n",
       "      <th>status</th>\n",
       "      <th>solidTickets</th>\n",
       "      <th>pro_month</th>\n",
       "      <th>have</th>\n",
       "    </tr>\n",
       "  </thead>\n",
       "  <tbody>\n",
       "    <tr>\n",
       "      <th>209</th>\n",
       "      <td>209</td>\n",
       "      <td>打動人心的創作秘密，畫出個性的角色設計</td>\n",
       "      <td>水晶孔</td>\n",
       "      <td>2017-10-25</td>\n",
       "      <td>2017-09-26</td>\n",
       "      <td>2017-11-30</td>\n",
       "      <td>NaN</td>\n",
       "      <td>[]</td>\n",
       "      <td>168</td>\n",
       "      <td>4.99</td>\n",
       "      <td>False</td>\n",
       "      <td>100</td>\n",
       "      <td>880</td>\n",
       "      <td>1280</td>\n",
       "      <td>False</td>\n",
       "      <td>PUBLISHED</td>\n",
       "      <td>3262</td>\n",
       "      <td>10</td>\n",
       "      <td>1</td>\n",
       "    </tr>\n",
       "    <tr>\n",
       "      <th>240</th>\n",
       "      <td>240</td>\n",
       "      <td>不必下蠱的人心攻略術 — 小說實戰技術</td>\n",
       "      <td>朱宥勳</td>\n",
       "      <td>2017-06-04</td>\n",
       "      <td>2017-05-05</td>\n",
       "      <td>2017-08-03</td>\n",
       "      <td>NaN</td>\n",
       "      <td>[]</td>\n",
       "      <td>101</td>\n",
       "      <td>4.98</td>\n",
       "      <td>False</td>\n",
       "      <td>30</td>\n",
       "      <td>800</td>\n",
       "      <td>1500</td>\n",
       "      <td>False</td>\n",
       "      <td>PUBLISHED</td>\n",
       "      <td>1642</td>\n",
       "      <td>6</td>\n",
       "      <td>1</td>\n",
       "    </tr>\n",
       "    <tr>\n",
       "      <th>180</th>\n",
       "      <td>180</td>\n",
       "      <td>用 Python 理財：打造小資族選股策略</td>\n",
       "      <td>FinLab</td>\n",
       "      <td>2018-03-23</td>\n",
       "      <td>2018-02-22</td>\n",
       "      <td>2018-05-22</td>\n",
       "      <td>NaN</td>\n",
       "      <td>[]</td>\n",
       "      <td>425</td>\n",
       "      <td>4.98</td>\n",
       "      <td>False</td>\n",
       "      <td>30</td>\n",
       "      <td>1999</td>\n",
       "      <td>3200</td>\n",
       "      <td>False</td>\n",
       "      <td>PUBLISHED</td>\n",
       "      <td>5529</td>\n",
       "      <td>3</td>\n",
       "      <td>1</td>\n",
       "    </tr>\n",
       "    <tr>\n",
       "      <th>314</th>\n",
       "      <td>314</td>\n",
       "      <td>動畫互動網頁程式入門 (HTML/CSS/JS)</td>\n",
       "      <td>吳哲宇</td>\n",
       "      <td>2016-07-03</td>\n",
       "      <td>2016-06-03</td>\n",
       "      <td>2016-09-01</td>\n",
       "      <td>NaN</td>\n",
       "      <td>[]</td>\n",
       "      <td>262</td>\n",
       "      <td>4.97</td>\n",
       "      <td>False</td>\n",
       "      <td>50</td>\n",
       "      <td>1000</td>\n",
       "      <td>2000</td>\n",
       "      <td>False</td>\n",
       "      <td>PUBLISHED</td>\n",
       "      <td>5933</td>\n",
       "      <td>7</td>\n",
       "      <td>1</td>\n",
       "    </tr>\n",
       "    <tr>\n",
       "      <th>216</th>\n",
       "      <td>216</td>\n",
       "      <td>當個水彩甜點師 — 雪莉的午茶繪畫課</td>\n",
       "      <td>Sherry雪莉</td>\n",
       "      <td>2017-09-27</td>\n",
       "      <td>2017-08-29</td>\n",
       "      <td>2017-11-26</td>\n",
       "      <td>NaN</td>\n",
       "      <td>[]</td>\n",
       "      <td>139</td>\n",
       "      <td>4.96</td>\n",
       "      <td>False</td>\n",
       "      <td>30</td>\n",
       "      <td>880</td>\n",
       "      <td>1200</td>\n",
       "      <td>False</td>\n",
       "      <td>PUBLISHED</td>\n",
       "      <td>1135</td>\n",
       "      <td>9</td>\n",
       "      <td>1</td>\n",
       "    </tr>\n",
       "    <tr>\n",
       "      <th>329</th>\n",
       "      <td>329</td>\n",
       "      <td>Cartoon 插畫 - 人物篇 (●—●)</td>\n",
       "      <td>JUN CHIU</td>\n",
       "      <td>2016-05-09</td>\n",
       "      <td>2016-04-09</td>\n",
       "      <td>2016-07-08</td>\n",
       "      <td>NaN</td>\n",
       "      <td>[]</td>\n",
       "      <td>136</td>\n",
       "      <td>4.96</td>\n",
       "      <td>False</td>\n",
       "      <td>30</td>\n",
       "      <td>300</td>\n",
       "      <td>500</td>\n",
       "      <td>False</td>\n",
       "      <td>PUBLISHED</td>\n",
       "      <td>1392</td>\n",
       "      <td>5</td>\n",
       "      <td>1</td>\n",
       "    </tr>\n",
       "    <tr>\n",
       "      <th>178</th>\n",
       "      <td>178</td>\n",
       "      <td>240 分鐘 - 忘掉拍照，學會攝影</td>\n",
       "      <td>子雍 Tzu-Yung</td>\n",
       "      <td>2018-03-28</td>\n",
       "      <td>2018-02-27</td>\n",
       "      <td>2018-05-27</td>\n",
       "      <td>NaN</td>\n",
       "      <td>[]</td>\n",
       "      <td>170</td>\n",
       "      <td>4.96</td>\n",
       "      <td>False</td>\n",
       "      <td>120</td>\n",
       "      <td>1490</td>\n",
       "      <td>2049</td>\n",
       "      <td>False</td>\n",
       "      <td>PUBLISHED</td>\n",
       "      <td>2512</td>\n",
       "      <td>3</td>\n",
       "      <td>1</td>\n",
       "    </tr>\n",
       "    <tr>\n",
       "      <th>207</th>\n",
       "      <td>207</td>\n",
       "      <td>小資族理財的第一堂入門課</td>\n",
       "      <td>李柏鋒</td>\n",
       "      <td>2017-10-31</td>\n",
       "      <td>2017-10-02</td>\n",
       "      <td>2017-12-30</td>\n",
       "      <td>NaN</td>\n",
       "      <td>[]</td>\n",
       "      <td>218</td>\n",
       "      <td>4.96</td>\n",
       "      <td>False</td>\n",
       "      <td>60</td>\n",
       "      <td>888</td>\n",
       "      <td>1688</td>\n",
       "      <td>False</td>\n",
       "      <td>PUBLISHED</td>\n",
       "      <td>1647</td>\n",
       "      <td>10</td>\n",
       "      <td>1</td>\n",
       "    </tr>\n",
       "    <tr>\n",
       "      <th>108</th>\n",
       "      <td>108</td>\n",
       "      <td>興趣變副業！打造自己的手作品牌</td>\n",
       "      <td>張譯蓁</td>\n",
       "      <td>2018-11-28</td>\n",
       "      <td>2018-10-30</td>\n",
       "      <td>2019-01-27</td>\n",
       "      <td>NaN</td>\n",
       "      <td>[]</td>\n",
       "      <td>120</td>\n",
       "      <td>4.95</td>\n",
       "      <td>False</td>\n",
       "      <td>30</td>\n",
       "      <td>1500</td>\n",
       "      <td>2500</td>\n",
       "      <td>False</td>\n",
       "      <td>PUBLISHED</td>\n",
       "      <td>806</td>\n",
       "      <td>11</td>\n",
       "      <td>1</td>\n",
       "    </tr>\n",
       "    <tr>\n",
       "      <th>206</th>\n",
       "      <td>206</td>\n",
       "      <td>社群力：30 堂課突破你的內容行銷盲點！</td>\n",
       "      <td>圖文不符</td>\n",
       "      <td>2017-11-15</td>\n",
       "      <td>2017-10-17</td>\n",
       "      <td>2018-01-14</td>\n",
       "      <td>NaN</td>\n",
       "      <td>[]</td>\n",
       "      <td>129</td>\n",
       "      <td>4.95</td>\n",
       "      <td>False</td>\n",
       "      <td>100</td>\n",
       "      <td>1880</td>\n",
       "      <td>2400</td>\n",
       "      <td>False</td>\n",
       "      <td>PUBLISHED</td>\n",
       "      <td>5508</td>\n",
       "      <td>11</td>\n",
       "      <td>1</td>\n",
       "    </tr>\n",
       "    <tr>\n",
       "      <th>212</th>\n",
       "      <td>212</td>\n",
       "      <td>資料庫設計 - 有效的使用系統資料</td>\n",
       "      <td>Ryan</td>\n",
       "      <td>2017-10-20</td>\n",
       "      <td>2017-09-21</td>\n",
       "      <td>2017-12-19</td>\n",
       "      <td>NaN</td>\n",
       "      <td>[]</td>\n",
       "      <td>104</td>\n",
       "      <td>4.94</td>\n",
       "      <td>False</td>\n",
       "      <td>50</td>\n",
       "      <td>980</td>\n",
       "      <td>1890</td>\n",
       "      <td>False</td>\n",
       "      <td>PUBLISHED</td>\n",
       "      <td>449</td>\n",
       "      <td>10</td>\n",
       "      <td>1</td>\n",
       "    </tr>\n",
       "    <tr>\n",
       "      <th>189</th>\n",
       "      <td>189</td>\n",
       "      <td>台科 EMBA 年年爆滿的一門 Word 課（A系列）</td>\n",
       "      <td>Tina Wu</td>\n",
       "      <td>2018-01-18</td>\n",
       "      <td>2017-12-20</td>\n",
       "      <td>2018-03-19</td>\n",
       "      <td>NaN</td>\n",
       "      <td>[]</td>\n",
       "      <td>112</td>\n",
       "      <td>4.94</td>\n",
       "      <td>False</td>\n",
       "      <td>30</td>\n",
       "      <td>550</td>\n",
       "      <td>950</td>\n",
       "      <td>False</td>\n",
       "      <td>PUBLISHED</td>\n",
       "      <td>1100</td>\n",
       "      <td>1</td>\n",
       "      <td>1</td>\n",
       "    </tr>\n",
       "    <tr>\n",
       "      <th>210</th>\n",
       "      <td>210</td>\n",
       "      <td>【Illustrator / Ai 入門】五小時保證上手</td>\n",
       "      <td>李宇哲｜蒟蒻</td>\n",
       "      <td>2017-10-24</td>\n",
       "      <td>2017-09-25</td>\n",
       "      <td>2017-12-23</td>\n",
       "      <td>NaN</td>\n",
       "      <td>[]</td>\n",
       "      <td>117</td>\n",
       "      <td>4.94</td>\n",
       "      <td>False</td>\n",
       "      <td>30</td>\n",
       "      <td>990</td>\n",
       "      <td>1590</td>\n",
       "      <td>False</td>\n",
       "      <td>PUBLISHED</td>\n",
       "      <td>1573</td>\n",
       "      <td>10</td>\n",
       "      <td>1</td>\n",
       "    </tr>\n",
       "    <tr>\n",
       "      <th>61</th>\n",
       "      <td>61</td>\n",
       "      <td>15 單元看懂經濟運行，掌握全球投資趨勢</td>\n",
       "      <td>Rachel Chen</td>\n",
       "      <td>2019-05-15</td>\n",
       "      <td>2019-04-16</td>\n",
       "      <td>2019-07-14</td>\n",
       "      <td>2019-04-16T04:00:00.000Z</td>\n",
       "      <td>['DIGITAL']</td>\n",
       "      <td>235</td>\n",
       "      <td>4.94</td>\n",
       "      <td>False</td>\n",
       "      <td>100</td>\n",
       "      <td>2490</td>\n",
       "      <td>3600</td>\n",
       "      <td>False</td>\n",
       "      <td>PUBLISHED</td>\n",
       "      <td>3706</td>\n",
       "      <td>5</td>\n",
       "      <td>1</td>\n",
       "    </tr>\n",
       "    <tr>\n",
       "      <th>133</th>\n",
       "      <td>133</td>\n",
       "      <td>啾啾鞋的資料彙整術 - 別淹沒在資訊海！</td>\n",
       "      <td>chuchushoe</td>\n",
       "      <td>2018-08-31</td>\n",
       "      <td>2018-08-02</td>\n",
       "      <td>2018-10-30</td>\n",
       "      <td>NaN</td>\n",
       "      <td>[]</td>\n",
       "      <td>105</td>\n",
       "      <td>4.93</td>\n",
       "      <td>False</td>\n",
       "      <td>100</td>\n",
       "      <td>1000</td>\n",
       "      <td>1500</td>\n",
       "      <td>False</td>\n",
       "      <td>PUBLISHED</td>\n",
       "      <td>1495</td>\n",
       "      <td>8</td>\n",
       "      <td>1</td>\n",
       "    </tr>\n",
       "    <tr>\n",
       "      <th>47</th>\n",
       "      <td>47</td>\n",
       "      <td>職場必備的批判思考力：基礎篇</td>\n",
       "      <td>Weihang Lidance Chou</td>\n",
       "      <td>2019-06-21</td>\n",
       "      <td>2019-05-23</td>\n",
       "      <td>2019-07-21</td>\n",
       "      <td>NaN</td>\n",
       "      <td>[]</td>\n",
       "      <td>127</td>\n",
       "      <td>4.92</td>\n",
       "      <td>False</td>\n",
       "      <td>100</td>\n",
       "      <td>399</td>\n",
       "      <td>499</td>\n",
       "      <td>False</td>\n",
       "      <td>PUBLISHED</td>\n",
       "      <td>1098</td>\n",
       "      <td>6</td>\n",
       "      <td>1</td>\n",
       "    </tr>\n",
       "    <tr>\n",
       "      <th>75</th>\n",
       "      <td>75</td>\n",
       "      <td>百萬 YouTuber 阿滴－攻心剪輯術！</td>\n",
       "      <td>阿滴 x 圖文不符</td>\n",
       "      <td>2019-03-19</td>\n",
       "      <td>2019-02-18</td>\n",
       "      <td>2019-05-18</td>\n",
       "      <td>2019-02-18T04:00:00.000Z</td>\n",
       "      <td>['PHYSICAL', 'DIGITAL']</td>\n",
       "      <td>237</td>\n",
       "      <td>4.92</td>\n",
       "      <td>False</td>\n",
       "      <td>100</td>\n",
       "      <td>1200</td>\n",
       "      <td>1800</td>\n",
       "      <td>False</td>\n",
       "      <td>PUBLISHED</td>\n",
       "      <td>7619</td>\n",
       "      <td>3</td>\n",
       "      <td>1</td>\n",
       "    </tr>\n",
       "    <tr>\n",
       "      <th>164</th>\n",
       "      <td>164</td>\n",
       "      <td>獵頭顧問 S 姐帶你健檢人生職涯</td>\n",
       "      <td>江湖人稱S姐</td>\n",
       "      <td>2018-05-25</td>\n",
       "      <td>2018-04-26</td>\n",
       "      <td>2018-07-24</td>\n",
       "      <td>NaN</td>\n",
       "      <td>[]</td>\n",
       "      <td>101</td>\n",
       "      <td>4.89</td>\n",
       "      <td>False</td>\n",
       "      <td>50</td>\n",
       "      <td>1200</td>\n",
       "      <td>1888</td>\n",
       "      <td>False</td>\n",
       "      <td>PUBLISHED</td>\n",
       "      <td>769</td>\n",
       "      <td>5</td>\n",
       "      <td>1</td>\n",
       "    </tr>\n",
       "    <tr>\n",
       "      <th>217</th>\n",
       "      <td>217</td>\n",
       "      <td>Python 資料分析＆機器學習入門</td>\n",
       "      <td>Yeh James</td>\n",
       "      <td>2017-09-23</td>\n",
       "      <td>2017-08-25</td>\n",
       "      <td>2017-11-22</td>\n",
       "      <td>NaN</td>\n",
       "      <td>[]</td>\n",
       "      <td>104</td>\n",
       "      <td>4.88</td>\n",
       "      <td>False</td>\n",
       "      <td>50</td>\n",
       "      <td>1000</td>\n",
       "      <td>2500</td>\n",
       "      <td>False</td>\n",
       "      <td>PUBLISHED</td>\n",
       "      <td>1287</td>\n",
       "      <td>9</td>\n",
       "      <td>1</td>\n",
       "    </tr>\n",
       "    <tr>\n",
       "      <th>242</th>\n",
       "      <td>242</td>\n",
       "      <td>如何練習動漫速寫</td>\n",
       "      <td>空罐王</td>\n",
       "      <td>2017-05-29</td>\n",
       "      <td>2017-04-29</td>\n",
       "      <td>2017-07-28</td>\n",
       "      <td>NaN</td>\n",
       "      <td>[]</td>\n",
       "      <td>120</td>\n",
       "      <td>4.88</td>\n",
       "      <td>False</td>\n",
       "      <td>30</td>\n",
       "      <td>500</td>\n",
       "      <td>600</td>\n",
       "      <td>False</td>\n",
       "      <td>PUBLISHED</td>\n",
       "      <td>1521</td>\n",
       "      <td>5</td>\n",
       "      <td>1</td>\n",
       "    </tr>\n",
       "    <tr>\n",
       "      <th>278</th>\n",
       "      <td>278</td>\n",
       "      <td>邊走邊畫，帶著手帳旅行去！</td>\n",
       "      <td>Reiko Chen</td>\n",
       "      <td>2016-11-13</td>\n",
       "      <td>2016-10-14</td>\n",
       "      <td>2016-12-13</td>\n",
       "      <td>NaN</td>\n",
       "      <td>[]</td>\n",
       "      <td>128</td>\n",
       "      <td>4.88</td>\n",
       "      <td>False</td>\n",
       "      <td>30</td>\n",
       "      <td>700</td>\n",
       "      <td>850</td>\n",
       "      <td>False</td>\n",
       "      <td>PUBLISHED</td>\n",
       "      <td>1288</td>\n",
       "      <td>11</td>\n",
       "      <td>1</td>\n",
       "    </tr>\n",
       "    <tr>\n",
       "      <th>352</th>\n",
       "      <td>352</td>\n",
       "      <td>旅行中手繪建築插畫，你也可以！</td>\n",
       "      <td>Peichi Wu</td>\n",
       "      <td>2016-01-07</td>\n",
       "      <td>2015-12-08</td>\n",
       "      <td>2016-02-06</td>\n",
       "      <td>NaN</td>\n",
       "      <td>[]</td>\n",
       "      <td>110</td>\n",
       "      <td>4.88</td>\n",
       "      <td>False</td>\n",
       "      <td>35</td>\n",
       "      <td>400</td>\n",
       "      <td>500</td>\n",
       "      <td>False</td>\n",
       "      <td>PUBLISHED</td>\n",
       "      <td>929</td>\n",
       "      <td>1</td>\n",
       "      <td>1</td>\n",
       "    </tr>\n",
       "    <tr>\n",
       "      <th>339</th>\n",
       "      <td>339</td>\n",
       "      <td>AE/MG || 動畫特效 Vol.1</td>\n",
       "      <td>Yan-K</td>\n",
       "      <td>2016-03-24</td>\n",
       "      <td>2016-02-23</td>\n",
       "      <td>2016-04-30</td>\n",
       "      <td>NaN</td>\n",
       "      <td>[]</td>\n",
       "      <td>149</td>\n",
       "      <td>4.86</td>\n",
       "      <td>False</td>\n",
       "      <td>50</td>\n",
       "      <td>1000</td>\n",
       "      <td>1500</td>\n",
       "      <td>False</td>\n",
       "      <td>PUBLISHED</td>\n",
       "      <td>3395</td>\n",
       "      <td>3</td>\n",
       "      <td>1</td>\n",
       "    </tr>\n",
       "    <tr>\n",
       "      <th>106</th>\n",
       "      <td>106</td>\n",
       "      <td>用手機捕捉瞬息美好-IPPA 冠軍的攝影心法</td>\n",
       "      <td>Paddy Chao 趙培均</td>\n",
       "      <td>2018-11-30</td>\n",
       "      <td>2018-11-01</td>\n",
       "      <td>2019-01-29</td>\n",
       "      <td>2018-11-01T04:00:00.000Z</td>\n",
       "      <td>['DIGITAL']</td>\n",
       "      <td>138</td>\n",
       "      <td>4.85</td>\n",
       "      <td>False</td>\n",
       "      <td>50</td>\n",
       "      <td>1400</td>\n",
       "      <td>1800</td>\n",
       "      <td>False</td>\n",
       "      <td>PUBLISHED</td>\n",
       "      <td>926</td>\n",
       "      <td>11</td>\n",
       "      <td>1</td>\n",
       "    </tr>\n",
       "    <tr>\n",
       "      <th>234</th>\n",
       "      <td>234</td>\n",
       "      <td>履歷面試大剖析－網路科技外商求職技巧</td>\n",
       "      <td>Coey Lam</td>\n",
       "      <td>2017-07-21</td>\n",
       "      <td>2017-06-21</td>\n",
       "      <td>2017-08-20</td>\n",
       "      <td>NaN</td>\n",
       "      <td>[]</td>\n",
       "      <td>101</td>\n",
       "      <td>4.82</td>\n",
       "      <td>False</td>\n",
       "      <td>30</td>\n",
       "      <td>699</td>\n",
       "      <td>899</td>\n",
       "      <td>False</td>\n",
       "      <td>PUBLISHED</td>\n",
       "      <td>529</td>\n",
       "      <td>7</td>\n",
       "      <td>1</td>\n",
       "    </tr>\n",
       "    <tr>\n",
       "      <th>213</th>\n",
       "      <td>213</td>\n",
       "      <td>給對 Premiere 毫無頭緒的你：最完整的 8 堂課</td>\n",
       "      <td>李歐</td>\n",
       "      <td>2017-10-14</td>\n",
       "      <td>2017-09-15</td>\n",
       "      <td>2017-11-13</td>\n",
       "      <td>NaN</td>\n",
       "      <td>[]</td>\n",
       "      <td>111</td>\n",
       "      <td>4.80</td>\n",
       "      <td>False</td>\n",
       "      <td>50</td>\n",
       "      <td>800</td>\n",
       "      <td>1200</td>\n",
       "      <td>False</td>\n",
       "      <td>PUBLISHED</td>\n",
       "      <td>959</td>\n",
       "      <td>10</td>\n",
       "      <td>1</td>\n",
       "    </tr>\n",
       "    <tr>\n",
       "      <th>317</th>\n",
       "      <td>317</td>\n",
       "      <td>用隨處可得的平價筆寫一手美字</td>\n",
       "      <td>葉曄</td>\n",
       "      <td>2016-06-11</td>\n",
       "      <td>2016-05-12</td>\n",
       "      <td>2016-06-26</td>\n",
       "      <td>NaN</td>\n",
       "      <td>[]</td>\n",
       "      <td>153</td>\n",
       "      <td>4.80</td>\n",
       "      <td>False</td>\n",
       "      <td>50</td>\n",
       "      <td>650</td>\n",
       "      <td>800</td>\n",
       "      <td>False</td>\n",
       "      <td>PUBLISHED</td>\n",
       "      <td>1645</td>\n",
       "      <td>6</td>\n",
       "      <td>1</td>\n",
       "    </tr>\n",
       "    <tr>\n",
       "      <th>320</th>\n",
       "      <td>320</td>\n",
       "      <td>讓圖不只是好看的－資訊設計思考力！</td>\n",
       "      <td>圖文不符</td>\n",
       "      <td>2016-06-08</td>\n",
       "      <td>2016-05-09</td>\n",
       "      <td>2016-08-07</td>\n",
       "      <td>NaN</td>\n",
       "      <td>[]</td>\n",
       "      <td>213</td>\n",
       "      <td>4.60</td>\n",
       "      <td>False</td>\n",
       "      <td>100</td>\n",
       "      <td>990</td>\n",
       "      <td>1800</td>\n",
       "      <td>False</td>\n",
       "      <td>PUBLISHED</td>\n",
       "      <td>13581</td>\n",
       "      <td>6</td>\n",
       "      <td>1</td>\n",
       "    </tr>\n",
       "  </tbody>\n",
       "</table>\n",
       "</div>"
      ],
      "text/plain": [
       "     Unnamed: 0                         title                author  \\\n",
       "209         209           打動人心的創作秘密，畫出個性的角色設計                   水晶孔   \n",
       "240         240           不必下蠱的人心攻略術 — 小說實戰技術                   朱宥勳   \n",
       "180         180         用 Python 理財：打造小資族選股策略                FinLab   \n",
       "314         314      動畫互動網頁程式入門 (HTML/CSS/JS)                   吳哲宇   \n",
       "216         216            當個水彩甜點師 — 雪莉的午茶繪畫課              Sherry雪莉   \n",
       "329         329        Cartoon 插畫 - 人物篇 (●—●)              JUN CHIU   \n",
       "178         178            240 分鐘 - 忘掉拍照，學會攝影           子雍 Tzu-Yung   \n",
       "207         207                  小資族理財的第一堂入門課                   李柏鋒   \n",
       "108         108               興趣變副業！打造自己的手作品牌                   張譯蓁   \n",
       "206         206          社群力：30 堂課突破你的內容行銷盲點！                  圖文不符   \n",
       "212         212             資料庫設計 - 有效的使用系統資料                  Ryan   \n",
       "189         189   台科 EMBA 年年爆滿的一門 Word 課（A系列）               Tina Wu   \n",
       "210         210  【Illustrator / Ai 入門】五小時保證上手                李宇哲｜蒟蒻   \n",
       "61           61          15 單元看懂經濟運行，掌握全球投資趨勢           Rachel Chen   \n",
       "133         133          啾啾鞋的資料彙整術 - 別淹沒在資訊海！            chuchushoe   \n",
       "47           47                職場必備的批判思考力：基礎篇  Weihang Lidance Chou   \n",
       "75           75         百萬 YouTuber 阿滴－攻心剪輯術！             阿滴 x 圖文不符   \n",
       "164         164              獵頭顧問 S 姐帶你健檢人生職涯                江湖人稱S姐   \n",
       "217         217            Python 資料分析＆機器學習入門             Yeh James   \n",
       "242         242                      如何練習動漫速寫                   空罐王   \n",
       "278         278                 邊走邊畫，帶著手帳旅行去！            Reiko Chen   \n",
       "352         352               旅行中手繪建築插畫，你也可以！             Peichi Wu   \n",
       "339         339           AE/MG || 動畫特效 Vol.1                 Yan-K   \n",
       "106         106        用手機捕捉瞬息美好-IPPA 冠軍的攝影心法        Paddy Chao 趙培均   \n",
       "234         234            履歷面試大剖析－網路科技外商求職技巧              Coey Lam   \n",
       "213         213  給對 Premiere 毫無頭緒的你：最完整的 8 堂課                    李歐   \n",
       "317         317                用隨處可得的平價筆寫一手美字                    葉曄   \n",
       "320         320             讓圖不只是好看的－資訊設計思考力！                  圖文不符   \n",
       "\n",
       "       proposal    incubate estimateStart              startCapital  \\\n",
       "209  2017-10-25  2017-09-26    2017-11-30                       NaN   \n",
       "240  2017-06-04  2017-05-05    2017-08-03                       NaN   \n",
       "180  2018-03-23  2018-02-22    2018-05-22                       NaN   \n",
       "314  2016-07-03  2016-06-03    2016-09-01                       NaN   \n",
       "216  2017-09-27  2017-08-29    2017-11-26                       NaN   \n",
       "329  2016-05-09  2016-04-09    2016-07-08                       NaN   \n",
       "178  2018-03-28  2018-02-27    2018-05-27                       NaN   \n",
       "207  2017-10-31  2017-10-02    2017-12-30                       NaN   \n",
       "108  2018-11-28  2018-10-30    2019-01-27                       NaN   \n",
       "206  2017-11-15  2017-10-17    2018-01-14                       NaN   \n",
       "212  2017-10-20  2017-09-21    2017-12-19                       NaN   \n",
       "189  2018-01-18  2017-12-20    2018-03-19                       NaN   \n",
       "210  2017-10-24  2017-09-25    2017-12-23                       NaN   \n",
       "61   2019-05-15  2019-04-16    2019-07-14  2019-04-16T04:00:00.000Z   \n",
       "133  2018-08-31  2018-08-02    2018-10-30                       NaN   \n",
       "47   2019-06-21  2019-05-23    2019-07-21                       NaN   \n",
       "75   2019-03-19  2019-02-18    2019-05-18  2019-02-18T04:00:00.000Z   \n",
       "164  2018-05-25  2018-04-26    2018-07-24                       NaN   \n",
       "217  2017-09-23  2017-08-25    2017-11-22                       NaN   \n",
       "242  2017-05-29  2017-04-29    2017-07-28                       NaN   \n",
       "278  2016-11-13  2016-10-14    2016-12-13                       NaN   \n",
       "352  2016-01-07  2015-12-08    2016-02-06                       NaN   \n",
       "339  2016-03-24  2016-02-23    2016-04-30                       NaN   \n",
       "106  2018-11-30  2018-11-01    2019-01-29  2018-11-01T04:00:00.000Z   \n",
       "234  2017-07-21  2017-06-21    2017-08-20                       NaN   \n",
       "213  2017-10-14  2017-09-15    2017-11-13                       NaN   \n",
       "317  2016-06-11  2016-05-12    2016-06-26                       NaN   \n",
       "320  2016-06-08  2016-05-09    2016-08-07                       NaN   \n",
       "\n",
       "                       types  ratings  avg_ratings  isReject  successCriti  \\\n",
       "209                       []      168         4.99     False           100   \n",
       "240                       []      101         4.98     False            30   \n",
       "180                       []      425         4.98     False            30   \n",
       "314                       []      262         4.97     False            50   \n",
       "216                       []      139         4.96     False            30   \n",
       "329                       []      136         4.96     False            30   \n",
       "178                       []      170         4.96     False           120   \n",
       "207                       []      218         4.96     False            60   \n",
       "108                       []      120         4.95     False            30   \n",
       "206                       []      129         4.95     False           100   \n",
       "212                       []      104         4.94     False            50   \n",
       "189                       []      112         4.94     False            30   \n",
       "210                       []      117         4.94     False            30   \n",
       "61               ['DIGITAL']      235         4.94     False           100   \n",
       "133                       []      105         4.93     False           100   \n",
       "47                        []      127         4.92     False           100   \n",
       "75   ['PHYSICAL', 'DIGITAL']      237         4.92     False           100   \n",
       "164                       []      101         4.89     False            50   \n",
       "217                       []      104         4.88     False            50   \n",
       "242                       []      120         4.88     False            30   \n",
       "278                       []      128         4.88     False            30   \n",
       "352                       []      110         4.88     False            35   \n",
       "339                       []      149         4.86     False            50   \n",
       "106              ['DIGITAL']      138         4.85     False            50   \n",
       "234                       []      101         4.82     False            30   \n",
       "213                       []      111         4.80     False            50   \n",
       "317                       []      153         4.80     False            50   \n",
       "320                       []      213         4.60     False           100   \n",
       "\n",
       "     prePrice  price  review     status  solidTickets  pro_month  have  \n",
       "209       880   1280   False  PUBLISHED          3262         10     1  \n",
       "240       800   1500   False  PUBLISHED          1642          6     1  \n",
       "180      1999   3200   False  PUBLISHED          5529          3     1  \n",
       "314      1000   2000   False  PUBLISHED          5933          7     1  \n",
       "216       880   1200   False  PUBLISHED          1135          9     1  \n",
       "329       300    500   False  PUBLISHED          1392          5     1  \n",
       "178      1490   2049   False  PUBLISHED          2512          3     1  \n",
       "207       888   1688   False  PUBLISHED          1647         10     1  \n",
       "108      1500   2500   False  PUBLISHED           806         11     1  \n",
       "206      1880   2400   False  PUBLISHED          5508         11     1  \n",
       "212       980   1890   False  PUBLISHED           449         10     1  \n",
       "189       550    950   False  PUBLISHED          1100          1     1  \n",
       "210       990   1590   False  PUBLISHED          1573         10     1  \n",
       "61       2490   3600   False  PUBLISHED          3706          5     1  \n",
       "133      1000   1500   False  PUBLISHED          1495          8     1  \n",
       "47        399    499   False  PUBLISHED          1098          6     1  \n",
       "75       1200   1800   False  PUBLISHED          7619          3     1  \n",
       "164      1200   1888   False  PUBLISHED           769          5     1  \n",
       "217      1000   2500   False  PUBLISHED          1287          9     1  \n",
       "242       500    600   False  PUBLISHED          1521          5     1  \n",
       "278       700    850   False  PUBLISHED          1288         11     1  \n",
       "352       400    500   False  PUBLISHED           929          1     1  \n",
       "339      1000   1500   False  PUBLISHED          3395          3     1  \n",
       "106      1400   1800   False  PUBLISHED           926         11     1  \n",
       "234       699    899   False  PUBLISHED           529          7     1  \n",
       "213       800   1200   False  PUBLISHED           959         10     1  \n",
       "317       650    800   False  PUBLISHED          1645          6     1  \n",
       "320       990   1800   False  PUBLISHED         13581          6     1  "
      ]
     },
     "execution_count": 97,
     "metadata": {},
     "output_type": "execute_result"
    }
   ],
   "source": [
    "#線上回饋單的填寫率\n",
    "#一個互動高的課程有什麼特質呢？把評論數大於100則的課程篩出來：\n",
    "df[df.ratings>100].sort_values('avg_ratings',ascending=False)#看平均每人留言數\n"
   ]
  },
  {
   "cell_type": "code",
   "execution_count": 101,
   "metadata": {},
   "outputs": [
    {
     "data": {
      "text/html": [
       "<div>\n",
       "<style scoped>\n",
       "    .dataframe tbody tr th:only-of-type {\n",
       "        vertical-align: middle;\n",
       "    }\n",
       "\n",
       "    .dataframe tbody tr th {\n",
       "        vertical-align: top;\n",
       "    }\n",
       "\n",
       "    .dataframe thead th {\n",
       "        text-align: right;\n",
       "    }\n",
       "</style>\n",
       "<table border=\"1\" class=\"dataframe\">\n",
       "  <thead>\n",
       "    <tr style=\"text-align: right;\">\n",
       "      <th></th>\n",
       "      <th>Unnamed: 0</th>\n",
       "      <th>title</th>\n",
       "      <th>author</th>\n",
       "      <th>proposal</th>\n",
       "      <th>incubate</th>\n",
       "      <th>estimateStart</th>\n",
       "      <th>startCapital</th>\n",
       "      <th>types</th>\n",
       "      <th>ratings</th>\n",
       "      <th>avg_ratings</th>\n",
       "      <th>isReject</th>\n",
       "      <th>successCriti</th>\n",
       "      <th>prePrice</th>\n",
       "      <th>price</th>\n",
       "      <th>review</th>\n",
       "      <th>status</th>\n",
       "      <th>solidTickets</th>\n",
       "      <th>pro_month</th>\n",
       "      <th>have</th>\n",
       "    </tr>\n",
       "  </thead>\n",
       "  <tbody>\n",
       "    <tr>\n",
       "      <th>75</th>\n",
       "      <td>75</td>\n",
       "      <td>百萬 YouTuber 阿滴－攻心剪輯術！</td>\n",
       "      <td>阿滴 x 圖文不符</td>\n",
       "      <td>2019-03-19</td>\n",
       "      <td>2019-02-18</td>\n",
       "      <td>2019-05-18</td>\n",
       "      <td>2019-02-18T04:00:00.000Z</td>\n",
       "      <td>['PHYSICAL', 'DIGITAL']</td>\n",
       "      <td>237</td>\n",
       "      <td>4.92</td>\n",
       "      <td>False</td>\n",
       "      <td>100</td>\n",
       "      <td>1200</td>\n",
       "      <td>1800</td>\n",
       "      <td>False</td>\n",
       "      <td>PUBLISHED</td>\n",
       "      <td>7619</td>\n",
       "      <td>3</td>\n",
       "      <td>1</td>\n",
       "    </tr>\n",
       "    <tr>\n",
       "      <th>180</th>\n",
       "      <td>180</td>\n",
       "      <td>用 Python 理財：打造小資族選股策略</td>\n",
       "      <td>FinLab</td>\n",
       "      <td>2018-03-23</td>\n",
       "      <td>2018-02-22</td>\n",
       "      <td>2018-05-22</td>\n",
       "      <td>NaN</td>\n",
       "      <td>[]</td>\n",
       "      <td>425</td>\n",
       "      <td>4.98</td>\n",
       "      <td>False</td>\n",
       "      <td>30</td>\n",
       "      <td>1999</td>\n",
       "      <td>3200</td>\n",
       "      <td>False</td>\n",
       "      <td>PUBLISHED</td>\n",
       "      <td>5529</td>\n",
       "      <td>3</td>\n",
       "      <td>1</td>\n",
       "    </tr>\n",
       "    <tr>\n",
       "      <th>206</th>\n",
       "      <td>206</td>\n",
       "      <td>社群力：30 堂課突破你的內容行銷盲點！</td>\n",
       "      <td>圖文不符</td>\n",
       "      <td>2017-11-15</td>\n",
       "      <td>2017-10-17</td>\n",
       "      <td>2018-01-14</td>\n",
       "      <td>NaN</td>\n",
       "      <td>[]</td>\n",
       "      <td>129</td>\n",
       "      <td>4.95</td>\n",
       "      <td>False</td>\n",
       "      <td>100</td>\n",
       "      <td>1880</td>\n",
       "      <td>2400</td>\n",
       "      <td>False</td>\n",
       "      <td>PUBLISHED</td>\n",
       "      <td>5508</td>\n",
       "      <td>11</td>\n",
       "      <td>1</td>\n",
       "    </tr>\n",
       "    <tr>\n",
       "      <th>314</th>\n",
       "      <td>314</td>\n",
       "      <td>動畫互動網頁程式入門 (HTML/CSS/JS)</td>\n",
       "      <td>吳哲宇</td>\n",
       "      <td>2016-07-03</td>\n",
       "      <td>2016-06-03</td>\n",
       "      <td>2016-09-01</td>\n",
       "      <td>NaN</td>\n",
       "      <td>[]</td>\n",
       "      <td>262</td>\n",
       "      <td>4.97</td>\n",
       "      <td>False</td>\n",
       "      <td>50</td>\n",
       "      <td>1000</td>\n",
       "      <td>2000</td>\n",
       "      <td>False</td>\n",
       "      <td>PUBLISHED</td>\n",
       "      <td>5933</td>\n",
       "      <td>7</td>\n",
       "      <td>1</td>\n",
       "    </tr>\n",
       "    <tr>\n",
       "      <th>320</th>\n",
       "      <td>320</td>\n",
       "      <td>讓圖不只是好看的－資訊設計思考力！</td>\n",
       "      <td>圖文不符</td>\n",
       "      <td>2016-06-08</td>\n",
       "      <td>2016-05-09</td>\n",
       "      <td>2016-08-07</td>\n",
       "      <td>NaN</td>\n",
       "      <td>[]</td>\n",
       "      <td>213</td>\n",
       "      <td>4.60</td>\n",
       "      <td>False</td>\n",
       "      <td>100</td>\n",
       "      <td>990</td>\n",
       "      <td>1800</td>\n",
       "      <td>False</td>\n",
       "      <td>PUBLISHED</td>\n",
       "      <td>13581</td>\n",
       "      <td>6</td>\n",
       "      <td>1</td>\n",
       "    </tr>\n",
       "  </tbody>\n",
       "</table>\n",
       "</div>"
      ],
      "text/plain": [
       "     Unnamed: 0                     title     author    proposal    incubate  \\\n",
       "75           75     百萬 YouTuber 阿滴－攻心剪輯術！  阿滴 x 圖文不符  2019-03-19  2019-02-18   \n",
       "180         180     用 Python 理財：打造小資族選股策略     FinLab  2018-03-23  2018-02-22   \n",
       "206         206      社群力：30 堂課突破你的內容行銷盲點！       圖文不符  2017-11-15  2017-10-17   \n",
       "314         314  動畫互動網頁程式入門 (HTML/CSS/JS)        吳哲宇  2016-07-03  2016-06-03   \n",
       "320         320         讓圖不只是好看的－資訊設計思考力！       圖文不符  2016-06-08  2016-05-09   \n",
       "\n",
       "    estimateStart              startCapital                    types  ratings  \\\n",
       "75     2019-05-18  2019-02-18T04:00:00.000Z  ['PHYSICAL', 'DIGITAL']      237   \n",
       "180    2018-05-22                       NaN                       []      425   \n",
       "206    2018-01-14                       NaN                       []      129   \n",
       "314    2016-09-01                       NaN                       []      262   \n",
       "320    2016-08-07                       NaN                       []      213   \n",
       "\n",
       "     avg_ratings  isReject  successCriti  prePrice  price  review     status  \\\n",
       "75          4.92     False           100      1200   1800   False  PUBLISHED   \n",
       "180         4.98     False            30      1999   3200   False  PUBLISHED   \n",
       "206         4.95     False           100      1880   2400   False  PUBLISHED   \n",
       "314         4.97     False            50      1000   2000   False  PUBLISHED   \n",
       "320         4.60     False           100       990   1800   False  PUBLISHED   \n",
       "\n",
       "     solidTickets  pro_month  have  \n",
       "75           7619          3     1  \n",
       "180          5529          3     1  \n",
       "206          5508         11     1  \n",
       "314          5933          7     1  \n",
       "320         13581          6     1  "
      ]
     },
     "execution_count": 101,
     "metadata": {},
     "output_type": "execute_result"
    }
   ],
   "source": [
    "#修課人數call出來\n",
    "#比對評分項目與修課人數\n",
    "#修課人數越多，當然評價越多,簡單做個線性迴歸看看：\n",
    "df[df.solidTickets>5000]"
   ]
  },
  {
   "cell_type": "code",
   "execution_count": 108,
   "metadata": {},
   "outputs": [
    {
     "name": "stdout",
     "output_type": "stream",
     "text": [
      "修課人數與評價的相關係數: \n",
      " 0.7469550876856969\n"
     ]
    },
    {
     "name": "stderr",
     "output_type": "stream",
     "text": [
      "C:\\Users\\user\\anaconda3\\lib\\site-packages\\seaborn\\_decorators.py:36: FutureWarning:\n",
      "\n",
      "Pass the following variables as keyword args: x, y. From version 0.12, the only valid positional argument will be `data`, and passing other arguments without an explicit keyword will result in an error or misinterpretation.\n",
      "\n"
     ]
    },
    {
     "data": {
      "text/plain": [
       "Text(0.5, 0, '修課人數')"
      ]
     },
     "execution_count": 108,
     "metadata": {},
     "output_type": "execute_result"
    },
    {
     "data": {
      "image/png": "[encoded data removed]",
      "text/plain": [
       "<Figure size 1296x432 with 1 Axes>"
      ]
     },
     "metadata": {},
     "output_type": "display_data"
    }
   ],
   "source": [
    "import numpy as np\n",
    "plt.figure(figsize=(18,6))\n",
    "print('修課人數與評價的相關係數: \\n',np.corrcoef(df.solidTickets,df.ratings)[1,0])\n",
    "sns.lineplot(df.solidTickets,df.ratings)\n",
    "plt.scatter(df.solidTickets,df.ratings)\n",
    "plt.title('修課人數不全然為一切',fontsize=20,family=\"SimSun\")\n",
    "plt.xlabel('修課人數',fontsize=15,family=\"SimSun\")"
   ]
  },
  {
   "cell_type": "code",
   "execution_count": 109,
   "metadata": {},
   "outputs": [
    {
     "data": {
      "text/html": [
       "<div>\n",
       "<style scoped>\n",
       "    .dataframe tbody tr th:only-of-type {\n",
       "        vertical-align: middle;\n",
       "    }\n",
       "\n",
       "    .dataframe tbody tr th {\n",
       "        vertical-align: top;\n",
       "    }\n",
       "\n",
       "    .dataframe thead th {\n",
       "        text-align: right;\n",
       "    }\n",
       "</style>\n",
       "<table border=\"1\" class=\"dataframe\">\n",
       "  <thead>\n",
       "    <tr style=\"text-align: right;\">\n",
       "      <th></th>\n",
       "      <th>Unnamed: 0</th>\n",
       "      <th>title</th>\n",
       "      <th>author</th>\n",
       "      <th>proposal</th>\n",
       "      <th>incubate</th>\n",
       "      <th>estimateStart</th>\n",
       "      <th>startCapital</th>\n",
       "      <th>types</th>\n",
       "      <th>ratings</th>\n",
       "      <th>avg_ratings</th>\n",
       "      <th>isReject</th>\n",
       "      <th>successCriti</th>\n",
       "      <th>prePrice</th>\n",
       "      <th>price</th>\n",
       "      <th>review</th>\n",
       "      <th>status</th>\n",
       "      <th>solidTickets</th>\n",
       "      <th>pro_month</th>\n",
       "      <th>have</th>\n",
       "      <th>feedback_ratio</th>\n",
       "    </tr>\n",
       "  </thead>\n",
       "  <tbody>\n",
       "    <tr>\n",
       "      <th>369</th>\n",
       "      <td>369</td>\n",
       "      <td>火箭發射飛行中 Rocket 1</td>\n",
       "      <td>Rainie Chiang</td>\n",
       "      <td>2015-08-23</td>\n",
       "      <td>2015-07-24</td>\n",
       "      <td>2015-08-24</td>\n",
       "      <td>NaN</td>\n",
       "      <td>[]</td>\n",
       "      <td>14</td>\n",
       "      <td>4.71</td>\n",
       "      <td>False</td>\n",
       "      <td>30</td>\n",
       "      <td>250</td>\n",
       "      <td>1200</td>\n",
       "      <td>False</td>\n",
       "      <td>PUBLISHED</td>\n",
       "      <td>53</td>\n",
       "      <td>8</td>\n",
       "      <td>1</td>\n",
       "      <td>0.264151</td>\n",
       "    </tr>\n",
       "    <tr>\n",
       "      <th>212</th>\n",
       "      <td>212</td>\n",
       "      <td>資料庫設計 - 有效的使用系統資料</td>\n",
       "      <td>Ryan</td>\n",
       "      <td>2017-10-20</td>\n",
       "      <td>2017-09-21</td>\n",
       "      <td>2017-12-19</td>\n",
       "      <td>NaN</td>\n",
       "      <td>[]</td>\n",
       "      <td>104</td>\n",
       "      <td>4.94</td>\n",
       "      <td>False</td>\n",
       "      <td>50</td>\n",
       "      <td>980</td>\n",
       "      <td>1890</td>\n",
       "      <td>False</td>\n",
       "      <td>PUBLISHED</td>\n",
       "      <td>449</td>\n",
       "      <td>10</td>\n",
       "      <td>1</td>\n",
       "      <td>0.231626</td>\n",
       "    </tr>\n",
       "    <tr>\n",
       "      <th>368</th>\n",
       "      <td>368</td>\n",
       "      <td>火箭飛船遊太空 Rocket 2</td>\n",
       "      <td>Rainie Chiang</td>\n",
       "      <td>2015-08-23</td>\n",
       "      <td>2015-07-24</td>\n",
       "      <td>2015-08-24</td>\n",
       "      <td>NaN</td>\n",
       "      <td>[]</td>\n",
       "      <td>10</td>\n",
       "      <td>5.00</td>\n",
       "      <td>False</td>\n",
       "      <td>30</td>\n",
       "      <td>250</td>\n",
       "      <td>1200</td>\n",
       "      <td>False</td>\n",
       "      <td>PUBLISHED</td>\n",
       "      <td>45</td>\n",
       "      <td>8</td>\n",
       "      <td>1</td>\n",
       "      <td>0.222222</td>\n",
       "    </tr>\n",
       "    <tr>\n",
       "      <th>37</th>\n",
       "      <td>37</td>\n",
       "      <td>手作乾燥花 - 創造植感生活</td>\n",
       "      <td>Irene Hsu</td>\n",
       "      <td>2019-07-19</td>\n",
       "      <td>2019-06-20</td>\n",
       "      <td>2019-09-17</td>\n",
       "      <td>NaN</td>\n",
       "      <td>[]</td>\n",
       "      <td>23</td>\n",
       "      <td>5.00</td>\n",
       "      <td>False</td>\n",
       "      <td>30</td>\n",
       "      <td>1200</td>\n",
       "      <td>1800</td>\n",
       "      <td>False</td>\n",
       "      <td>PUBLISHED</td>\n",
       "      <td>111</td>\n",
       "      <td>7</td>\n",
       "      <td>1</td>\n",
       "      <td>0.207207</td>\n",
       "    </tr>\n",
       "    <tr>\n",
       "      <th>186</th>\n",
       "      <td>186</td>\n",
       "      <td>【不會畫圖】也能學會動態LINE貼圖製作</td>\n",
       "      <td>阿狗阿貓</td>\n",
       "      <td>2018-02-16</td>\n",
       "      <td>2018-01-18</td>\n",
       "      <td>2018-04-17</td>\n",
       "      <td>NaN</td>\n",
       "      <td>[]</td>\n",
       "      <td>36</td>\n",
       "      <td>4.97</td>\n",
       "      <td>False</td>\n",
       "      <td>30</td>\n",
       "      <td>988</td>\n",
       "      <td>1488</td>\n",
       "      <td>False</td>\n",
       "      <td>PUBLISHED</td>\n",
       "      <td>182</td>\n",
       "      <td>2</td>\n",
       "      <td>1</td>\n",
       "      <td>0.197802</td>\n",
       "    </tr>\n",
       "  </tbody>\n",
       "</table>\n",
       "</div>"
      ],
      "text/plain": [
       "     Unnamed: 0                 title         author    proposal    incubate  \\\n",
       "369         369      火箭發射飛行中 Rocket 1  Rainie Chiang  2015-08-23  2015-07-24   \n",
       "212         212     資料庫設計 - 有效的使用系統資料           Ryan  2017-10-20  2017-09-21   \n",
       "368         368      火箭飛船遊太空 Rocket 2  Rainie Chiang  2015-08-23  2015-07-24   \n",
       "37           37        手作乾燥花 - 創造植感生活      Irene Hsu  2019-07-19  2019-06-20   \n",
       "186         186  【不會畫圖】也能學會動態LINE貼圖製作           阿狗阿貓  2018-02-16  2018-01-18   \n",
       "\n",
       "    estimateStart startCapital types  ratings  avg_ratings  isReject  \\\n",
       "369    2015-08-24          NaN    []       14         4.71     False   \n",
       "212    2017-12-19          NaN    []      104         4.94     False   \n",
       "368    2015-08-24          NaN    []       10         5.00     False   \n",
       "37     2019-09-17          NaN    []       23         5.00     False   \n",
       "186    2018-04-17          NaN    []       36         4.97     False   \n",
       "\n",
       "     successCriti  prePrice  price  review     status  solidTickets  \\\n",
       "369            30       250   1200   False  PUBLISHED            53   \n",
       "212            50       980   1890   False  PUBLISHED           449   \n",
       "368            30       250   1200   False  PUBLISHED            45   \n",
       "37             30      1200   1800   False  PUBLISHED           111   \n",
       "186            30       988   1488   False  PUBLISHED           182   \n",
       "\n",
       "     pro_month  have  feedback_ratio  \n",
       "369          8     1        0.264151  \n",
       "212         10     1        0.231626  \n",
       "368          8     1        0.222222  \n",
       "37           7     1        0.207207  \n",
       "186          2     1        0.197802  "
      ]
     },
     "execution_count": 109,
     "metadata": {},
     "output_type": "execute_result"
    }
   ],
   "source": [
    "#回饋率 = 評論數 / 學生人數 feedback_ratio\n",
    "df['feedback_ratio'] = df.ratings/df.solidTickets\n",
    "df.sort_values('feedback_ratio',ascending = False).head()"
   ]
  },
  {
   "cell_type": "code",
   "execution_count": 114,
   "metadata": {},
   "outputs": [
    {
     "name": "stdout",
     "output_type": "stream",
     "text": [
      "count     384.000000\n",
      "mean     1103.903646\n",
      "std       676.481790\n",
      "min        99.000000\n",
      "25%       600.000000\n",
      "50%       990.000000\n",
      "75%      1500.000000\n",
      "max      4800.000000\n",
      "Name: prePrice, dtype: float64\n"
     ]
    },
    {
     "name": "stderr",
     "output_type": "stream",
     "text": [
      "C:\\Users\\user\\anaconda3\\lib\\site-packages\\seaborn\\distributions.py:2557: FutureWarning:\n",
      "\n",
      "`distplot` is a deprecated function and will be removed in a future version. Please adapt your code to use either `displot` (a figure-level function with similar flexibility) or `histplot` (an axes-level function for histograms).\n",
      "\n"
     ]
    },
    {
     "data": {
      "text/plain": [
       "Text(0.5, 0, '預購價格')"
      ]
     },
     "execution_count": 114,
     "metadata": {},
     "output_type": "execute_result"
    },
    {
     "data": {
      "image/png": "[encoded data removed]",
      "text/plain": [
       "<Figure size 1080x432 with 1 Axes>"
      ]
     },
     "metadata": {},
     "output_type": "display_data"
    }
   ],
   "source": [
    "#課程價錢怎麼訂？\n",
    "#describe()統計pre_price(預購價格)變量的統計量\n",
    "plt.style.use('ggplot')\n",
    "print(df.prePrice.describe())\n",
    "plt.figure(figsize=(15,6))\n",
    "sns.distplot(df.prePrice,kde=True)\n",
    "plt.title('Hahow的課程算是便優惠',fontsize = 30,family=\"SimSun\")\n",
    "plt.xlabel('預購價格',fontsize = 20,family=\"SimSun\")"
   ]
  },
  {
   "cell_type": "code",
   "execution_count": 117,
   "metadata": {},
   "outputs": [
    {
     "name": "stdout",
     "output_type": "stream",
     "text": [
      "count     384.000000\n",
      "mean     1673.153646\n",
      "std       964.759503\n",
      "min       150.000000\n",
      "25%       996.750000\n",
      "50%      1595.000000\n",
      "75%      2200.000000\n",
      "max      7680.000000\n",
      "Name: price, dtype: float64\n"
     ]
    },
    {
     "name": "stderr",
     "output_type": "stream",
     "text": [
      "C:\\Users\\user\\anaconda3\\lib\\site-packages\\seaborn\\distributions.py:2557: FutureWarning:\n",
      "\n",
      "`distplot` is a deprecated function and will be removed in a future version. Please adapt your code to use either `displot` (a figure-level function with similar flexibility) or `histplot` (an axes-level function for histograms).\n",
      "\n"
     ]
    },
    {
     "data": {
      "text/plain": [
       "Text(0.5, 0, '實際價格')"
      ]
     },
     "execution_count": 117,
     "metadata": {},
     "output_type": "execute_result"
    },
    {
     "data": {
      "image/png": "[encoded data removed]",
      "text/plain": [
       "<Figure size 1080x432 with 1 Axes>"
      ]
     },
     "metadata": {},
     "output_type": "display_data"
    }
   ],
   "source": [
    "plt.style.use('ggplot')\n",
    "print(df.price.describe())\n",
    "plt.figure(figsize=(15,6))\n",
    "sns.distplot(df.price,kde=True)\n",
    "plt.title('一個月買一門課程',fontsize = 30,family=\"SimSun\")\n",
    "plt.xlabel('實際價格',fontsize = 20,family=\"SimSun\")"
   ]
  },
  {
   "cell_type": "code",
   "execution_count": null,
   "metadata": {},
   "outputs": [],
   "source": []
  },
  {
   "cell_type": "code",
   "execution_count": null,
   "metadata": {},
   "outputs": [],
   "source": []
  }
 ],
 "metadata": {
  "kernelspec": {
   "display_name": "Python 3",
   "language": "python",
   "name": "python3"
  },
  "language_info": {
   "codemirror_mode": {
    "name": "ipython",
    "version": 3
   },
   "file_extension": ".py",
   "mimetype": "text/x-python",
   "name": "python",
   "nbconvert_exporter": "python",
   "pygments_lexer": "ipython3",
   "version": "3.8.3"
  }
 },
 "nbformat": 4,
 "nbformat_minor": 4
}
