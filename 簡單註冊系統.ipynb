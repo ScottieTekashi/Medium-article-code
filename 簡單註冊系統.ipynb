{
 "cells": [
  {
   "cell_type": "code",
   "execution_count": 1,
   "metadata": {
    "colab": {
     "base_uri": "https://localhost:8080/"
    },
    "executionInfo": {
     "elapsed": 47466,
     "status": "ok",
     "timestamp": 1610460570842,
     "user": {
      "displayName": "scottie lin",
      "photoUrl": "https://lh3.googleusercontent.com/a-/AOh14GjHgAg8f435wi9RzLRXK0slfKMeoyXNrJt66P-k6A=s64",
      "userId": "04400360475248421777"
     },
     "user_tz": -480
    },
    "id": "fybqV0vDqT2L",
    "outputId": "7bc50e71-b8c0-4876-a6d1-49911aa1fe70"
   },
   "outputs": [
    {
     "name": "stdout",
     "output_type": "stream",
     "text": [
      "註冊開始\n",
      "是否結束(y/n):n\n",
      "請輸入學生姓名:n\n",
      "who'name is n ?\n",
      "Plese check your eyes!!\n",
      "是否結束(y/n):12\n",
      "輸入錯誤請輸入y/n:\n",
      "是否結束(y/n):n\n",
      "請輸入學生姓名:kelly\n",
      "是否結束(y/n):n\n",
      "請輸入學生姓名:alise\n",
      "是否結束(y/n):n\n",
      "請輸入學生姓名:y\n",
      "who'name is y ?\n",
      "Plese check your eyes!!\n",
      "是否結束(y/n):  \n",
      "輸入錯誤請輸入y/n:\n",
      "是否結束(y/n):n\n",
      "請輸入學生姓名:  \n",
      "是否結束(y/n):\n",
      "輸入錯誤請輸入y/n:\n",
      "是否結束(y/n):n\n",
      "請輸入學生姓名:\n",
      "who'name is  ?\n",
      "Plese check your eyes!!\n",
      "是否結束(y/n):n\n",
      "請輸入學生姓名: \n",
      "who'name is   ?\n",
      "Plese check your eyes!!\n",
      "是否結束(y/n):rock\n",
      "輸入錯誤請輸入y/n:\n",
      "是否結束(y/n):y\n",
      "註冊結束\n",
      "班級共3人名稱為 ['kelly', 'alise', '  ']\n"
     ]
    }
   ],
   "source": [
    "#回家作業\n",
    "# 註冊開始\n",
    "# 是否結束(y/n):n\n",
    "# 請輸入學生姓名:小王\n",
    "# 是否結束(y/n):n\n",
    "# 請輸入學生姓名:小李\n",
    "# 是否結束(y/n):p\n",
    "# 輸入錯誤請輸入y/n:y\n",
    "# 註冊結束\n",
    "# 班級共2人,名稱為小王 小李\n",
    "print('註冊開始')\n",
    "contral = False\n",
    "class_number = []\n",
    "n =0\n",
    "while contral != True:\n",
    "  user_enter = input('是否結束(y/n):')\n",
    "  if user_enter == 'n':\n",
    "    student_name = input('請輸入學生姓名:')\n",
    "    if (student_name=='y') or (student_name=='n') or (student_name=='') or (student_name==' '):\n",
    "      #防呆機制以免有人手殘學生姓名輸入成n/y\n",
    "      print('who\\'name is %s ?'%student_name+'\\n'+'Plese check your eyes!!')\n",
    "      \n",
    "      continue \n",
    "    class_number.append(student_name)\n",
    "    n+=1\n",
    "  elif user_enter == 'y':\n",
    "    print('註冊結束')\n",
    "    print('班級共%d人'%n + '名稱為',class_number[:])\n",
    "    \n",
    "    contral = True\n",
    "  else:\n",
    "    print('輸入錯誤請輸入y/n:')\n"
   ]
  },
  {
   "cell_type": "code",
   "execution_count": 78,
   "metadata": {
    "colab": {
     "base_uri": "https://localhost:8080/"
    },
    "executionInfo": {
     "elapsed": 895,
     "status": "ok",
     "timestamp": 1610460594691,
     "user": {
      "displayName": "scottie lin",
      "photoUrl": "https://lh3.googleusercontent.com/a-/AOh14GjHgAg8f435wi9RzLRXK0slfKMeoyXNrJt66P-k6A=s64",
      "userId": "04400360475248421777"
     },
     "user_tz": -480
    },
    "id": "CsLwd_cFqcY6",
    "outputId": "8deb18ab-ae0f-449c-b04f-e7cb35a47573"
   },
   "outputs": [
    {
     "name": "stdout",
     "output_type": "stream",
     "text": [
      "[38, 61, 86, 62, 46, 17, 90, 1, 79, 99]\n",
      "[99, 90, 86, 79, 62, 61, 46, 38, 17, 1]\n"
     ]
    }
   ],
   "source": [
    "# 回家作業:1~100 ;隨機取 10個數字 用for 迴圈排序(不能用sort)\n",
    "import numpy as np\n",
    "number = np.random.randint(0,100,10)\n",
    "x = []\n",
    "j = []\n",
    "for i in number:\n",
    "    x.append(i)\n",
    "\n",
    "print(x)\n",
    "for i in range(10):\n",
    "   #最大值加入新list同時remove舊數列\n",
    "   j.append(max(x))  \n",
    "   x.remove(max(x))  \n",
    "print(j)\n",
    "\n"
   ]
  },
  {
   "cell_type": "code",
   "execution_count": null,
   "metadata": {
    "id": "rqXWrSVwqc5b"
   },
   "outputs": [],
   "source": []
  },
  {
   "cell_type": "code",
   "execution_count": null,
   "metadata": {
    "id": "7YAHDjuXqc_G"
   },
   "outputs": [],
   "source": []
  },
  {
   "cell_type": "code",
   "execution_count": null,
   "metadata": {
    "id": "-YxRyHgJqdGG"
   },
   "outputs": [],
   "source": []
  }
 ],
 "metadata": {
  "colab": {
   "authorship_tag": "ABX9TyPACmR50FNlxYkZtcO3kjEX",
   "collapsed_sections": [],
   "name": "T大使_109C1041林家賢.ipynb",
   "provenance": []
  },
  "kernelspec": {
   "display_name": "Python 3",
   "language": "python",
   "name": "python3"
  },
  "language_info": {
   "codemirror_mode": {
    "name": "ipython",
    "version": 3
   },
   "file_extension": ".py",
   "mimetype": "text/x-python",
   "name": "python",
   "nbconvert_exporter": "python",
   "pygments_lexer": "ipython3",
   "version": "3.8.3"
  }
 },
 "nbformat": 4,
 "nbformat_minor": 1
}
