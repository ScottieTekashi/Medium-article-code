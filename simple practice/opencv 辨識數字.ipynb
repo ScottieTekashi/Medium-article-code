{
 "cells": [
  {
   "cell_type": "code",
   "execution_count": 50,
   "metadata": {
    "id": "U6VZ_Acw-Gal"
   },
   "outputs": [],
   "source": [
    "import matplotlib.pyplot as plt\n",
    "from sklearn import datasets, svm, metrics\n",
    "from sklearn.model_selection import train_test_split\n",
    "#metrics是評估辨識準確度集報表"
   ]
  },
  {
   "cell_type": "markdown",
   "metadata": {},
   "source": [
    "Fit():求得訓練集X的平均值、平方差、最大/小值等固有屬性，可以理解為一個訓練過程\n",
    "\n",
    "Transform():在fit()的基礎上進行標準化、降維等操作(如 PCA)\n",
    "\n",
    "Fit_transform():包括了訓練及轉換(即上述兩個總和)"
   ]
  },
  {
   "cell_type": "code",
   "execution_count": 34,
   "metadata": {
    "colab": {
     "base_uri": "https://localhost:8080/",
     "height": 211
    },
    "id": "GQQbFtWwuvQF",
    "outputId": "e5772e70-8c24-44af-cb52-b0eea9eac385"
   },
   "outputs": [
    {
     "data": {
      "image/png": "[encoded data removed]",
      "text/plain": [
       "<Figure size 216x216 with 1 Axes>"
      ]
     },
     "metadata": {
      "needs_background": "light",
      "tags": []
     },
     "output_type": "display_data"
    }
   ],
   "source": [
    "digits = datasets.load_digits()\n",
    "\n",
    "plt.figure(1, figsize=(3, 3))\n",
    "plt.imshow(digits.images[-1], cmap=plt.cm.gray_r, interpolation='nearest')\n",
    "plt.show()\n"
   ]
  },
  {
   "cell_type": "markdown",
   "metadata": {
    "id": "KTBsI4om5VDS"
   },
   "source": [
    "利用以下code觀察資料集   \n",
    "8*8張影像,有1797張   \n",
    "名字就是1~10(資料集就是在判斷圖片上數字)    \n",
    "target就是正確答案   "
   ]
  },
  {
   "cell_type": "code",
   "execution_count": 35,
   "metadata": {
    "colab": {
     "base_uri": "https://localhost:8080/"
    },
    "id": "S17vPb2FvFgh",
    "outputId": "9c8e65f9-8b20-40aa-eb72-54b5c0eba41b"
   },
   "outputs": [
    {
     "name": "stdout",
     "output_type": "stream",
     "text": [
      "data (1797, 64)\n",
      "target (1797,)\n",
      "target_names (10,)\n",
      "images (1797, 8, 8)\n",
      "DESCR\n"
     ]
    }
   ],
   "source": [
    "for key,value in digits.items():\n",
    "   try:\n",
    "    print(key,value.shape)\n",
    "   except:\n",
    "    print(key)  \n"
   ]
  },
  {
   "cell_type": "code",
   "execution_count": 36,
   "metadata": {
    "colab": {
     "base_uri": "https://localhost:8080/"
    },
    "id": "xYAniOGT6ejS",
    "outputId": "3a4f1471-f8b9-4dd0-ca28-cf569366d0cf"
   },
   "outputs": [
    {
     "name": "stdout",
     "output_type": "stream",
     "text": [
      ".. _digits_dataset:\n",
      "\n",
      "Optical recognition of handwritten digits dataset\n",
      "--------------------------------------------------\n",
      "\n",
      "**Data Set Characteristics:**\n",
      "\n",
      "    :Number of Instances: 5620\n",
      "    :Number of Attributes: 64\n",
      "    :Attribute Information: 8x8 image of integer pixels in the range 0..16.\n",
      "    :Missing Attribute Values: None\n",
      "    :Creator: E. Alpaydin (alpaydin '@' boun.edu.tr)\n",
      "    :Date: July; 1998\n",
      "\n",
      "This is a copy of the test set of the UCI ML hand-written digits datasets\n",
      "https://archive.ics.uci.edu/ml/datasets/Optical+Recognition+of+Handwritten+Digits\n",
      "\n",
      "The data set contains images of hand-written digits: 10 classes where\n",
      "each class refers to a digit.\n",
      "\n",
      "Preprocessing programs made available by NIST were used to extract\n",
      "normalized bitmaps of handwritten digits from a preprinted form. From a\n",
      "total of 43 people, 30 contributed to the training set and different 13\n",
      "to the test set. 32x32 bitmaps are divided into nonoverlapping blocks of\n",
      "4x4 and the number of on pixels are counted in each block. This generates\n",
      "an input matrix of 8x8 where each element is an integer in the range\n",
      "0..16. This reduces dimensionality and gives invariance to small\n",
      "distortions.\n",
      "\n",
      "For info on NIST preprocessing routines, see M. D. Garris, J. L. Blue, G.\n",
      "T. Candela, D. L. Dimmick, J. Geist, P. J. Grother, S. A. Janet, and C.\n",
      "L. Wilson, NIST Form-Based Handprint Recognition System, NISTIR 5469,\n",
      "1994.\n",
      "\n",
      ".. topic:: References\n",
      "\n",
      "  - C. Kaynak (1995) Methods of Combining Multiple Classifiers and Their\n",
      "    Applications to Handwritten Digit Recognition, MSc Thesis, Institute of\n",
      "    Graduate Studies in Science and Engineering, Bogazici University.\n",
      "  - E. Alpaydin, C. Kaynak (1998) Cascading Classifiers, Kybernetika.\n",
      "  - Ken Tang and Ponnuthurai N. Suganthan and Xi Yao and A. Kai Qin.\n",
      "    Linear dimensionalityreduction using relevance weighted LDA. School of\n",
      "    Electrical and Electronic Engineering Nanyang Technological University.\n",
      "    2005.\n",
      "  - Claudio Gentile. A New Approximate Maximal Margin Classification\n",
      "    Algorithm. NIPS. 2000.\n"
     ]
    }
   ],
   "source": [
    "print(digits['DESCR']) #直接 digits.DESCR很醜看不懂"
   ]
  },
  {
   "cell_type": "code",
   "execution_count": 48,
   "metadata": {
    "colab": {
     "base_uri": "https://localhost:8080/",
     "height": 120
    },
    "id": "laQ3iF28vFeY",
    "outputId": "07a21761-2330-4a6c-dca7-1bb89ab27677"
   },
   "outputs": [
    {
     "data": {
      "image/png": "[encoded data removed]",
      "text/plain": [
       "<Figure size 432x288 with 4 Axes>"
      ]
     },
     "metadata": {
      "needs_background": "light",
      "tags": []
     },
     "output_type": "display_data"
    }
   ],
   "source": [
    "#觀察一下train data\n",
    "images_and_labels = list(zip(digits.images, digits.target))\n",
    "for index,(image,label) in enumerate(images_and_labels[:4]):\n",
    "    plt.subplot(2,4,index+1)\n",
    "    plt.axis('off')\n",
    "    plt.imshow(image,cmap=plt.cm.gray_r, interpolation='nearest')\n",
    "    plt.title('Training: %i' % label)"
   ]
  },
  {
   "cell_type": "code",
   "execution_count": 53,
   "metadata": {
    "colab": {
     "base_uri": "https://localhost:8080/",
     "height": 168
    },
    "id": "zHIOCqzDvFMy",
    "outputId": "7d58bdd7-228c-4f9d-8da9-5a98194ad262"
   },
   "outputs": [
    {
     "data": {
      "image/png": "[encoded data removed]",
      "text/plain": [
       "<Figure size 720x216 with 4 Axes>"
      ]
     },
     "metadata": {
      "needs_background": "light",
      "tags": []
     },
     "output_type": "display_data"
    }
   ],
   "source": [
    "#train and classify\n",
    "n_samples = len(digits.images)\n",
    "# 資料攤平:1797 x 8 x 8 -> 1797 x 64\n",
    "# 這裏的-1代表自動計算，相當於 (n_samples, 64)\n",
    "data = digits.images.reshape((n_samples,-1))\n",
    "# 產生SVC分類器\n",
    "clf  = svm.SVC(gamma=0.001)\n",
    "#這裡kernel function 是RBF (radial basis function):exp(-γ|x-x'|^2)\n",
    "#上面gamma 參數就是數學式中的γ,γ>0\n",
    "\n",
    "#切分資料,切0.8, 0.2\n",
    "\n",
    "X_train, X_test, y_train, y_test = train_test_split(\n",
    "    data, digits.target, test_size=0.8, shuffle=False)\n",
    "\n",
    "clf.fit(X_train, y_train)\n",
    "predicted = clf.predict(X_test)\n",
    "_, axes = plt.subplots(nrows=1, ncols=4, figsize=(10, 3))\n",
    "\n",
    "#呈現預測結果\n",
    "for ax, image, prediction in zip(axes, X_test, predicted):\n",
    "    ax.set_axis_off()\n",
    "    image = image.reshape(8, 8)\n",
    "    ax.imshow(image, cmap=plt.cm.gray_r, interpolation='nearest')\n",
    "    ax.set_title(f'Prediction: {prediction}')"
   ]
  },
  {
   "cell_type": "markdown",
   "metadata": {
    "id": "BhSKVnlJAekq"
   },
   "source": [
    "機器學習: Kernel 函數   \n",
    "\n",
    "https://chih-sheng-huang821.medium.com/%E6%A9%9F%E5%99%A8%E5%AD%B8%E7%BF%92-kernel-%E5%87%BD%E6%95%B8-47c94095171"
   ]
  },
  {
   "cell_type": "code",
   "execution_count": 43,
   "metadata": {
    "colab": {
     "base_uri": "https://localhost:8080/"
    },
    "id": "NLrnMeqhvFIz",
    "outputId": "9ea452f0-9b30-41f9-cb8e-1139c37aeeb7"
   },
   "outputs": [
    {
     "name": "stdout",
     "output_type": "stream",
     "text": [
      "[8 8 4 9 0 8 9 8 1 2]\n",
      "[8 8 4 9 0 8 9 8 1 2]\n"
     ]
    }
   ],
   "source": [
    "#看來預測結果至少前10個是對的,\n",
    "print(expected[:10])\n",
    "print(predicted[:10])"
   ]
  },
  {
   "cell_type": "code",
   "execution_count": 44,
   "metadata": {
    "colab": {
     "base_uri": "https://localhost:8080/"
    },
    "id": "RKtGwMbnAaE4",
    "outputId": "fc1351c8-4151-4587-fc43-2007c135ec57"
   },
   "outputs": [
    {
     "name": "stdout",
     "output_type": "stream",
     "text": [
      "Confusion matrix:\n",
      "[[87  0  0  0  1  0  0  0  0  0]\n",
      " [ 0 88  1  0  0  0  0  0  1  1]\n",
      " [ 0  0 85  1  0  0  0  0  0  0]\n",
      " [ 0  0  0 79  0  3  0  4  5  0]\n",
      " [ 0  0  0  0 88  0  0  0  0  4]\n",
      " [ 0  0  0  0  0 88  1  0  0  2]\n",
      " [ 0  1  0  0  0  0 90  0  0  0]\n",
      " [ 0  0  0  0  0  1  0 88  0  0]\n",
      " [ 0  0  0  0  0  0  0  0 88  0]\n",
      " [ 0  0  0  1  0  1  0  0  0 90]]\n"
     ]
    }
   ],
   "source": [
    "#利用 Confusion matrix 來分類準確度統計\n",
    "print(\"Confusion matrix:\\n%s\"% metrics.confusion_matrix(expected, predicted))\n",
    "#解讀邏輯\n",
    "#row1為針對數字0的預測與真實的差異,row1 list中的位置[0~9]分別代表數字0~9,第一個87是判斷為0的次數,其他出現的數字是指判斷錯誤的次數,\n",
    "#因此row1可以解讀為預測為0正確87次 判斷錯誤:判斷為4 >>>1次"
   ]
  },
  {
   "cell_type": "code",
   "execution_count": 45,
   "metadata": {
    "colab": {
     "base_uri": "https://localhost:8080/",
     "height": 311
    },
    "id": "aFpRP-QkAZ7X",
    "outputId": "3fa5639b-45db-4ecd-e8c4-8c75f6d9ae65"
   },
   "outputs": [
    {
     "data": {
      "image/png": "[encoded data removed]",
      "text/plain": [
       "<Figure size 432x288 with 2 Axes>"
      ]
     },
     "metadata": {
      "needs_background": "light",
      "tags": []
     },
     "output_type": "display_data"
    }
   ],
   "source": [
    "#將上面的矩陣視覺化吧~~~\n",
    "def plot_confusion_matrix(cm, title='Confusion matrix', cmap=plt.cm.Blues):\n",
    "    import numpy as np\n",
    "    plt.imshow(cm, interpolation='nearest', cmap=cmap)\n",
    "    plt.title(title)\n",
    "    plt.colorbar()\n",
    "    tick_marks = np.arange(len(digits.target_names))\n",
    "    plt.xticks(tick_marks, digits.target_names, rotation=45)\n",
    "    plt.yticks(tick_marks, digits.target_names)\n",
    "    plt.tight_layout()\n",
    "    plt.ylabel('True label')\n",
    "    plt.xlabel('Predicted label')\n",
    "\n",
    "plt.figure()\n",
    "plot_confusion_matrix(metrics.confusion_matrix(expected, predicted))"
   ]
  },
  {
   "cell_type": "markdown",
   "metadata": {
    "id": "azRvK0E8IlYt"
   },
   "source": [
    "True Positive | False Positive | False Negative | True Negative|\n",
    "--- | --- | --- | ----|\n",
    "實際為3且判斷為3，共79個|判斷為3但判斷錯誤，共2個|實際為3但判斷錯誤，共12個|實際不為3，且判斷正確,899-79-2-12=885個"
   ]
  },
  {
   "cell_type": "markdown",
   "metadata": {
    "id": "P4UDHcVtJgSN"
   },
   "source": [
    "precision, recall, f1-score來評估精確度  \n",
    "計算邏輯如下以3為例:   \n",
    "precision = TP/(TP+FP) = 79/81 = 0.98   \n",
    "判斷為3且實際為3的比例為0.98   \n",
    "recall = TP/(TP+FN) = 79/91 = 0.87   \n",
    "實際為3且判斷為3的比例為0.87   \n",
    "f1-score 則為以上兩者之「harmonic mean 調和平均數」   \n",
    "f1-score= 2 x precision x recall/(recision + recall) = 0.92   "
   ]
  },
  {
   "cell_type": "code",
   "execution_count": 46,
   "metadata": {
    "colab": {
     "base_uri": "https://localhost:8080/"
    },
    "id": "Gv7BjCxVAZyS",
    "outputId": "a459803e-ea5f-4676-868a-2f4e3009c912"
   },
   "outputs": [
    {
     "name": "stdout",
     "output_type": "stream",
     "text": [
      "Classification report for classifier SVC(C=1.0, break_ties=False, cache_size=200, class_weight=None, coef0=0.0,\n",
      "    decision_function_shape='ovr', degree=3, gamma=0.001, kernel='rbf',\n",
      "    max_iter=-1, probability=False, random_state=None, shrinking=True,\n",
      "    tol=0.001, verbose=False):\n",
      "              precision    recall  f1-score   support\n",
      "\n",
      "           0       1.00      0.99      0.99        88\n",
      "           1       0.99      0.97      0.98        91\n",
      "           2       0.99      0.99      0.99        86\n",
      "           3       0.98      0.87      0.92        91\n",
      "           4       0.99      0.96      0.97        92\n",
      "           5       0.95      0.97      0.96        91\n",
      "           6       0.99      0.99      0.99        91\n",
      "           7       0.96      0.99      0.97        89\n",
      "           8       0.94      1.00      0.97        88\n",
      "           9       0.93      0.98      0.95        92\n",
      "\n",
      "    accuracy                           0.97       899\n",
      "   macro avg       0.97      0.97      0.97       899\n",
      "weighted avg       0.97      0.97      0.97       899\n",
      "\n",
      "\n"
     ]
    }
   ],
   "source": [
    "#以程式碼表示\n",
    "print(\"Classification report for classifier %s:\\n%s\\n\"\n",
    "    % (classifier, metrics.classification_report(expected, predicted)))"
   ]
  },
  {
   "cell_type": "code",
   "execution_count": 47,
   "metadata": {
    "colab": {
     "base_uri": "https://localhost:8080/",
     "height": 120
    },
    "id": "CZqleVveAjkU",
    "outputId": "aa057741-c6e3-4ca1-e2b8-6b51e50f2263"
   },
   "outputs": [
    {
     "data": {
      "image/png": "[encoded data removed]",
      "text/plain": [
       "<Figure size 432x288 with 4 Axes>"
      ]
     },
     "metadata": {
      "needs_background": "light",
      "tags": []
     },
     "output_type": "display_data"
    }
   ],
   "source": [
    "images_and_predictions = list(\n",
    "                        zip(digits.images[n_samples // 2:], predicted))\n",
    "for index, (image, prediction) in enumerate(images_and_predictions[:4]):\n",
    "    plt.subplot(2, 4, index + 5)\n",
    "    plt.axis('off')\n",
    "    plt.imshow(image, cmap=plt.cm.gray_r, interpolation='nearest')\n",
    "    plt.title('Prediction: %i' % prediction)\n",
    "\n",
    "plt.show()"
   ]
  },
  {
   "cell_type": "markdown",
   "metadata": {
    "id": "wmdCz7VFEzSk"
   },
   "source": [
    "reference:  \n",
    "Recognizing hand-written digits    \n",
    "https://machine-learning-python.kspax.io/   \n",
    "https://machinelearningmastery.com/handwritten-digit-recognition-using-convolutional-neural-networks-python-keras/   \n"
   ]
  }
 ],
 "metadata": {
  "colab": {
   "collapsed_sections": [],
   "name": "109C1041林家賢 第六週作業.ipynb",
   "provenance": []
  },
  "kernelspec": {
   "display_name": "Python 3",
   "language": "python",
   "name": "python3"
  },
  "language_info": {
   "codemirror_mode": {
    "name": "ipython",
    "version": 3
   },
   "file_extension": ".py",
   "mimetype": "text/x-python",
   "name": "python",
   "nbconvert_exporter": "python",
   "pygments_lexer": "ipython3",
   "version": "3.8.3"
  }
 },
 "nbformat": 4,
 "nbformat_minor": 1
}
