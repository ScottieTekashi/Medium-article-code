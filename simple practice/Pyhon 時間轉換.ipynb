{
 "cells": [
  {
   "cell_type": "markdown",
   "metadata": {
    "id": "Tirk_6bcSxMW"
   },
   "source": [
    "時間轉換"
   ]
  },
  {
   "cell_type": "code",
   "execution_count": null,
   "metadata": {
    "colab": {
     "base_uri": "https://localhost:8080/"
    },
    "id": "XIiT7aaOfTwW",
    "outputId": "e4a88b5b-3bd0-4068-c6dd-fef765709e1e"
   },
   "outputs": [
    {
     "name": "stdout",
     "output_type": "stream",
     "text": [
      "2021-01-22 14:01:31\n"
     ]
    }
   ],
   "source": [
    "from datetime import * #datetime,timezone,timedelta\n",
    "time = datetime.utcnow().replace(tzinfo=timezone.utc)\n",
    "now = time.astimezone(timezone(timedelta(hours=8))) # 轉換時區 -> 東八區\n",
    "\n",
    "#print('UTC \\t%s\\nUTC+8\\t%s'%(time,now))\n",
    "print(now.strftime(\"%Y-%m-%d %H:%M:%S\")) # 將時間轉換為 str\n"
   ]
  },
  {
   "cell_type": "markdown",
   "metadata": {
    "id": "jnyRaDx9YdFF"
   },
   "source": [
    "|轉譯字符||描述|\n",
    "|--------||:----|\n",
    "|\\(在行尾时)||续行符|\n",
    "|\\\\||\t反斜杠符号|\n",
    "|\\’||\t单引号|\n",
    "|\\”||\t双引号|\n",
    "|\\a||\t响铃|\n",
    "|\\b||退格(Backspace)|\n",
    "|\\e||\t转义|\n",
    "|\\000||\t空|\n",
    "|\\n\t||换行|\n",
    "|\\v\t||纵向制表符|\n",
    "|\\t\t||横向制表符|\n",
    "|\\r\t||回车|\n",
    "|\\f\t||换页|\n",
    "|\\oyy||\t八进制数yy代表的字符，例如：\\o12代表换行|\n",
    "|\\xyy||\t十进制数yy代表的字符，例如：\\x0a代表换行|\n",
    "|\\other||\t其它的字符以普通格式输出|"
   ]
  },
  {
   "cell_type": "code",
   "execution_count": null,
   "metadata": {
    "id": "dFJ6FSI6YdFG",
    "outputId": "3be606c6-49d7-4be9-e283-562053343cb4"
   },
   "outputs": [
    {
     "name": "stdout",
     "output_type": "stream",
     "text": [
      "UTC \t2021-01-22 06:17:13.596387+00:00\n",
      "UTC+8\t2021-01-22 14:17:13.596387+08:00\n",
      "2021-01-22 14:17:13\n"
     ]
    }
   ],
   "source": [
    "\n",
    "from datetime import datetime,timezone,timedelta\n",
    "dt1 = datetime.utcnow().replace(tzinfo=timezone.utc)\n",
    "dt2 = dt1.astimezone(timezone(timedelta(hours=8))) # 轉換時區 -> 東八區\n",
    "\n",
    "print('UTC \\t%s\\nUTC+8\\t%s'%(dt1,dt2))\n",
    "print(dt2.strftime(\"%Y-%m-%d %H:%M:%S\")) # 將時間轉換為 string\n",
    "\n",
    "\n",
    "# UTC \t2019-11-25 03:40:41.993796+00:00\n",
    "# UTC+8\t2019-11-25 11:40:41.993796+08:00\n",
    "# 2019-11-25 11:40:41"
   ]
  },
  {
   "cell_type": "markdown",
   "metadata": {
    "id": "oqO2DEf5U3nm"
   },
   "source": [
    "相關模塊練習"
   ]
  },
  {
   "cell_type": "code",
   "execution_count": null,
   "metadata": {
    "colab": {
     "base_uri": "https://localhost:8080/"
    },
    "id": "DVf2cY-BSrux",
    "outputId": "f5147355-2ad3-4456-a8a8-4219d7c39af3"
   },
   "outputs": [
    {
     "data": {
      "text/plain": [
       "[datetime.datetime(2020, 12, 25, 0, 0), datetime.datetime(2021, 1, 10, 0, 0)]"
      ]
     },
     "execution_count": 79,
     "metadata": {
      "tags": []
     },
     "output_type": "execute_result"
    }
   ],
   "source": [
    "now = datetime.now()\n",
    "National_founding_day = now - datetime(1911,10,10) #\n",
    "\n",
    "National_founding_day.days\n",
    "#time>str\n",
    "date = datetime(2020,1,18)\n",
    "str(date)\n",
    "date.strftime('%Y-%m-%d')  #%F  #%D  簡寫\n",
    "\n",
    "# analysis time \n",
    "date =['2020-12-25','2021-1-10']\n",
    "datetime2 =[datetime.strptime(x,'%Y-%m-%d') for x in date]  #這裡不能用簡寫噴ERROR\n",
    "\n",
    "datetime2 \n"
   ]
  },
  {
   "cell_type": "code",
   "execution_count": null,
   "metadata": {
    "colab": {
     "base_uri": "https://localhost:8080/"
    },
    "id": "SWkKHQOrYFfa",
    "outputId": "55e5b1f8-a6ac-4c2d-c523-f41a4b68439a"
   },
   "outputs": [
    {
     "data": {
      "text/plain": [
       "2020-12-25   -0.798495\n",
       "2021-01-21    0.851277\n",
       "2020-05-15   -0.799206\n",
       "2020-07-02    0.546955\n",
       "2020-03-31   -0.164728\n",
       "2020-02-15    0.449512\n",
       "2020-01-23   -0.826213\n",
       "dtype: float64"
      ]
     },
     "execution_count": 62,
     "metadata": {
      "tags": []
     },
     "output_type": "execute_result"
    }
   ],
   "source": [
    "import pandas as pd\n",
    "import numpy as np\n",
    "#pd.to_datetime(date)\n",
    "date2 = ['2020-05-15','2020-07-02','2020-03-31','2020-02-15','2020-01-23']\n",
    "date =['2020-12-25','20210121']\n",
    "date.extend(date2)\n",
    "ts = pd.Series(np.random.randn(7),index= pd.to_datetime(date))\n",
    "ts\n",
    "#ts.index"
   ]
  },
  {
   "cell_type": "code",
   "execution_count": null,
   "metadata": {
    "colab": {
     "base_uri": "https://localhost:8080/"
    },
    "id": "pgFuiVECfgE_",
    "outputId": "48602999-a204-4ef0-a35d-a7e1aeb9741a"
   },
   "outputs": [
    {
     "data": {
      "text/plain": [
       "2020-01-23   -1.652427\n",
       "2020-02-15         NaN\n",
       "2020-03-31   -0.329455\n",
       "2020-05-15   -1.598412\n",
       "2020-07-02         NaN\n",
       "2020-12-25   -1.596990\n",
       "2021-01-21         NaN\n",
       "dtype: float64"
      ]
     },
     "execution_count": 71,
     "metadata": {
      "tags": []
     },
     "output_type": "execute_result"
    }
   ],
   "source": [
    "#ts index\n",
    "ts[::2]  #從前每隔2取值\n",
    "ts[:5]\n",
    "ts[:-2]\n",
    "ts[::-2] #從後往前每隔2取值\n",
    "ts+ts[::2] #日期按先後順序\n"
   ]
  },
  {
   "cell_type": "code",
   "execution_count": null,
   "metadata": {
    "colab": {
     "base_uri": "https://localhost:8080/"
    },
    "id": "I-PBLJwmSivx",
    "outputId": "9a90e79a-c13a-4633-a55c-48afb31ceae6"
   },
   "outputs": [
    {
     "data": {
      "text/plain": [
       "2020-12-25   -0.798495\n",
       "2021-01-21    0.851277\n",
       "2020-05-15   -0.799206\n",
       "2020-07-02    0.546955\n",
       "2020-03-31   -0.164728\n",
       "2020-02-15    0.449512\n",
       "2020-01-23   -0.826213\n",
       "dtype: float64"
      ]
     },
     "execution_count": 72,
     "metadata": {
      "tags": []
     },
     "output_type": "execute_result"
    }
   ],
   "source": [
    "ts"
   ]
  },
  {
   "cell_type": "code",
   "execution_count": null,
   "metadata": {
    "colab": {
     "base_uri": "https://localhost:8080/"
    },
    "id": "vfN_9y05SZwD",
    "outputId": "65f5ccea-25a5-4cbb-ef6d-5fdb1621b8c6"
   },
   "outputs": [
    {
     "data": {
      "text/plain": [
       "Timestamp('2020-05-15 00:00:00')"
      ]
     },
     "execution_count": 83,
     "metadata": {
      "tags": []
     },
     "output_type": "execute_result"
    }
   ],
   "source": [
    "ts[2]\n",
    "ts.index[2]\n"
   ]
  },
  {
   "cell_type": "code",
   "execution_count": null,
   "metadata": {
    "colab": {
     "base_uri": "https://localhost:8080/"
    },
    "id": "72P94dVzSvlw",
    "outputId": "ce4eb49e-7151-4bd5-bbda-ebdb51027b9a"
   },
   "outputs": [
    {
     "data": {
      "text/plain": [
       "2020-12-25   -0.798495\n",
       "2021-01-21    0.851277\n",
       "2020-05-15   -0.799206\n",
       "2020-07-02    0.546955\n",
       "dtype: float64"
      ]
     },
     "execution_count": 84,
     "metadata": {
      "tags": []
     },
     "output_type": "execute_result"
    }
   ],
   "source": [
    "ts['2020-05':'2021-1']"
   ]
  },
  {
   "cell_type": "markdown",
   "metadata": {
    "id": "ZS3pk90kUeXD"
   },
   "source": [
    "利用datetime 產生隨機日期\n"
   ]
  },
  {
   "cell_type": "code",
   "execution_count": null,
   "metadata": {
    "colab": {
     "base_uri": "https://localhost:8080/"
    },
    "id": "Z_s7RI5aVE3q",
    "outputId": "67e6a5cc-1fa1-4aac-d986-3f655b3a37da"
   },
   "outputs": [
    {
     "name": "stdout",
     "output_type": "stream",
     "text": [
      "['2017-06-19 05:04:55', '2003-07-31 07:14:00', '2000-08-01 18:27:29', '1981-11-04 04:06:05', '2004-09-06 04:32:16', '1985-04-28 13:26:44', '2017-01-22 10:52:47', '1988-03-23 05:32:52', '2013-02-22 10:55:45', '1995-04-09 08:00:44']\n"
     ]
    }
   ],
   "source": [
    "import time\n",
    "import datetime\n",
    "import random\n",
    "\n",
    "end_time = datetime.datetime.now()\n",
    "#start_time = datetime.datetime.now() + datetime.timedelta(weeks=-4368) #設定隨機時間抓取範圍(當前~多久以前) #約1930年開始\n",
    "start_time = datetime.datetime.now() + datetime.timedelta(weeks=-2664)#windows的極限\n",
    "#datetime.timedelta((days=0, seconds=0, microseconds=0, milliseconds=0, minutes=0, hours=0, weeks=0))\n",
    "\n",
    "a1 = tuple(start_time.timetuple()[0:9])  #start_time.timetuple是時間資料結構,[:]取值,在用tuple包裝起來,產生乾淨時間放進tuple\n",
    "a2 = tuple(end_time.timetuple()[0:9])\n",
    "start = time.mktime(a1) #時間範圍的邊界上限下限 生成值為秒\n",
    "end = time.mktime(a2)\n",
    "\n",
    "#隨機生成時間\n",
    "random_time = []\n",
    "for i in range(10): #random.randint(1,10)\n",
    "  t = random.randint(start,end) #設定越久以前值越小\n",
    "  date_touple=time.localtime(t)\n",
    "  date=time.strftime(\"%Y-%m-%d %H:%M:%S\",date_touple) \n",
    "  random_time.append(date)\n",
    "  \n",
    "print(random_time)\n"
   ]
  },
  {
   "cell_type": "code",
   "execution_count": null,
   "metadata": {
    "colab": {
     "base_uri": "https://localhost:8080/"
    },
    "id": "H6xAkI2AZ6xB",
    "outputId": "370d99e8-f5f5-4f99-9d65-c651c52e09df"
   },
   "outputs": [
    {
     "data": {
      "text/plain": [
       "'2021-01-22 16:33:28'"
      ]
     },
     "execution_count": 141,
     "metadata": {
      "tags": []
     },
     "output_type": "execute_result"
    }
   ],
   "source": [
    "t = (1970, 1, 1, 8, 0, 0, 0, 1, 0)\n",
    "time.mktime(t) #(output數值,每個時間會有一個值)最小單位\"秒\"  *1970/1/1/00 為 0\n",
    "#windows 時間戳有範圍限制\n"
   ]
  },
  {
   "cell_type": "code",
   "execution_count": null,
   "metadata": {
    "colab": {
     "base_uri": "https://localhost:8080/"
    },
    "id": "fI2FNwlfh9nb",
    "outputId": "d742ac4a-cbb0-4110-bef1-931e6d9455d0"
   },
   "outputs": [
    {
     "name": "stdout",
     "output_type": "stream",
     "text": [
      "['2021-01-19 16:40:21', '2021-01-20 10:08:40', '2021-01-17 06:49:28', '2021-01-19 22:44:11', '2021-01-17 14:54:46', '2021-01-19 13:09:27', '2021-01-18 01:36:33', '2021-01-21 20:40:19', '2021-01-19 15:39:46', '2021-01-20 00:59:28']\n"
     ]
    }
   ],
   "source": [
    "import time\n",
    "import datetime\n",
    "import random\n",
    "\n",
    "end_time = datetime.datetime.now()\n",
    "start_time = datetime.datetime.now() + datetime.timedelta(days=-6) #設定隨機時間抓取範圍(當前~多久以前) #約1930年開始\n",
    "#datetime.timedelta((days=0, seconds=0, microseconds=0, milliseconds=0, minutes=0, hours=0, weeks=0))\n",
    "\n",
    "a1 = tuple(start_time.timetuple()[0:9])  #start_time.timetuple是時間資料結構,[:]取值,在用tuple包裝起來,產生乾淨時間放進tuple\n",
    "a2 = tuple(end_time.timetuple()[0:9])\n",
    "\n",
    "start = time.mktime(a1) #時間範圍的邊界上限下限 生成值為秒\n",
    "end = time.mktime(a2) #mktime 定要tuple(9)\n",
    "\n",
    "#隨機生成時間\n",
    "random_time = []\n",
    "for i in range(10): #random.randint(1,10)\n",
    "  t = random.randint(start,end) #設定越久以前值越小\n",
    "  date_touple=time.localtime(t)\n",
    "  date=time.strftime(\"%Y-%m-%d %H:%M:%S\",date_touple) \n",
    "  random_time.append(date)\n",
    "  \n",
    "print(random_time)  "
   ]
  },
  {
   "cell_type": "markdown",
   "metadata": {
    "id": "enByUDyHT1Lo"
   },
   "source": [
    "資料  \n",
    "index.is_unique檢查索引日期是否唯一  \n",
    "利用pandas 的 groupby 合併level = 0\n",
    "把資料相同的值去除"
   ]
  },
  {
   "cell_type": "code",
   "execution_count": null,
   "metadata": {
    "colab": {
     "base_uri": "https://localhost:8080/"
    },
    "id": "CS8vnsWqkipE",
    "outputId": "16e06c1d-f194-4418-f3cb-dd07a4e503be"
   },
   "outputs": [
    {
     "name": "stdout",
     "output_type": "stream",
     "text": [
      "DatetimeIndex(['2021-01-19', '2021-01-20', '2021-01-17', '2021-01-19',\n",
      "               '2021-01-17', '2021-01-19', '2021-01-18', '2021-01-21',\n",
      "               '2021-01-19', '2021-01-20'],\n",
      "              dtype='datetime64[ns]', freq=None)\n",
      "False\n",
      "2021-01-19    0\n",
      "2021-01-20    1\n",
      "2021-01-17    2\n",
      "2021-01-19    3\n",
      "2021-01-17    4\n",
      "2021-01-19    5\n",
      "2021-01-18    6\n",
      "2021-01-21    7\n",
      "2021-01-19    8\n",
      "2021-01-20    9\n",
      "dtype: int32\n"
     ]
    },
    {
     "data": {
      "text/plain": [
       "2021-01-17    4\n",
       "2021-01-18    6\n",
       "2021-01-19    8\n",
       "2021-01-20    9\n",
       "2021-01-21    7\n",
       "dtype: int32"
      ]
     },
     "execution_count": 146,
     "metadata": {
      "tags": []
     },
     "output_type": "execute_result"
    }
   ],
   "source": [
    "random_short_time = []\n",
    "for i in random_time:\n",
    "  a = i.split(\" \")\n",
    "  a = a[0] #取值好用\n",
    "  random_short_time.append(a)\n",
    "\n",
    "dates = pd.DatetimeIndex(random_short_time)\n",
    "print(dates)\n",
    "dup_ts = pd.Series(np.arange(10),index = random_short_time )\n",
    "\n",
    "print(dup_ts.index.is_unique) #duplicate time series is unique\n",
    "\n",
    "#以下步驟檢查是哪些日期重複了\n",
    "print(dup_ts)\n",
    "grouped = dup_ts.groupby(level=0).max() #groupby \".\" 後面的功能隨意,能去除資料就好  \n",
    "\n",
    "#min,max,sum,mean,median,std,var,count\n",
    "grouped                  #邏輯比較像是給予dataframe數值利用統計特性把重複的資料去除"
   ]
  },
  {
   "cell_type": "code",
   "execution_count": null,
   "metadata": {
    "colab": {
     "base_uri": "https://localhost:8080/",
     "height": 343
    },
    "id": "X7XqrMuwsNm0",
    "outputId": "2aec6adc-b7ce-4c1b-d812-84f76b81cbd4"
   },
   "outputs": [
    {
     "data": {
      "text/html": [
       "<div>\n",
       "<style scoped>\n",
       "    .dataframe tbody tr th:only-of-type {\n",
       "        vertical-align: middle;\n",
       "    }\n",
       "\n",
       "    .dataframe tbody tr th {\n",
       "        vertical-align: top;\n",
       "    }\n",
       "\n",
       "    .dataframe thead th {\n",
       "        text-align: right;\n",
       "    }\n",
       "</style>\n",
       "<table border=\"1\" class=\"dataframe\">\n",
       "  <thead>\n",
       "    <tr style=\"text-align: right;\">\n",
       "      <th></th>\n",
       "      <th>0</th>\n",
       "      <th>1</th>\n",
       "      <th>2</th>\n",
       "      <th>3</th>\n",
       "      <th>4</th>\n",
       "    </tr>\n",
       "  </thead>\n",
       "  <tbody>\n",
       "    <tr>\n",
       "      <th>2021-01-19</th>\n",
       "      <td>0</td>\n",
       "      <td>1</td>\n",
       "      <td>2</td>\n",
       "      <td>3</td>\n",
       "      <td>4</td>\n",
       "    </tr>\n",
       "    <tr>\n",
       "      <th>2021-01-20</th>\n",
       "      <td>5</td>\n",
       "      <td>6</td>\n",
       "      <td>7</td>\n",
       "      <td>8</td>\n",
       "      <td>9</td>\n",
       "    </tr>\n",
       "    <tr>\n",
       "      <th>2021-01-17</th>\n",
       "      <td>10</td>\n",
       "      <td>11</td>\n",
       "      <td>12</td>\n",
       "      <td>13</td>\n",
       "      <td>14</td>\n",
       "    </tr>\n",
       "    <tr>\n",
       "      <th>2021-01-19</th>\n",
       "      <td>15</td>\n",
       "      <td>16</td>\n",
       "      <td>17</td>\n",
       "      <td>18</td>\n",
       "      <td>19</td>\n",
       "    </tr>\n",
       "    <tr>\n",
       "      <th>2021-01-17</th>\n",
       "      <td>20</td>\n",
       "      <td>21</td>\n",
       "      <td>22</td>\n",
       "      <td>23</td>\n",
       "      <td>24</td>\n",
       "    </tr>\n",
       "    <tr>\n",
       "      <th>2021-01-19</th>\n",
       "      <td>25</td>\n",
       "      <td>26</td>\n",
       "      <td>27</td>\n",
       "      <td>28</td>\n",
       "      <td>29</td>\n",
       "    </tr>\n",
       "    <tr>\n",
       "      <th>2021-01-18</th>\n",
       "      <td>30</td>\n",
       "      <td>31</td>\n",
       "      <td>32</td>\n",
       "      <td>33</td>\n",
       "      <td>34</td>\n",
       "    </tr>\n",
       "    <tr>\n",
       "      <th>2021-01-21</th>\n",
       "      <td>35</td>\n",
       "      <td>36</td>\n",
       "      <td>37</td>\n",
       "      <td>38</td>\n",
       "      <td>39</td>\n",
       "    </tr>\n",
       "    <tr>\n",
       "      <th>2021-01-19</th>\n",
       "      <td>40</td>\n",
       "      <td>41</td>\n",
       "      <td>42</td>\n",
       "      <td>43</td>\n",
       "      <td>44</td>\n",
       "    </tr>\n",
       "    <tr>\n",
       "      <th>2021-01-20</th>\n",
       "      <td>45</td>\n",
       "      <td>46</td>\n",
       "      <td>47</td>\n",
       "      <td>48</td>\n",
       "      <td>49</td>\n",
       "    </tr>\n",
       "  </tbody>\n",
       "</table>\n",
       "</div>"
      ],
      "text/plain": [
       "             0   1   2   3   4\n",
       "2021-01-19   0   1   2   3   4\n",
       "2021-01-20   5   6   7   8   9\n",
       "2021-01-17  10  11  12  13  14\n",
       "2021-01-19  15  16  17  18  19\n",
       "2021-01-17  20  21  22  23  24\n",
       "2021-01-19  25  26  27  28  29\n",
       "2021-01-18  30  31  32  33  34\n",
       "2021-01-21  35  36  37  38  39\n",
       "2021-01-19  40  41  42  43  44\n",
       "2021-01-20  45  46  47  48  49"
      ]
     },
     "execution_count": 263,
     "metadata": {
      "tags": []
     },
     "output_type": "execute_result"
    }
   ],
   "source": [
    "dup_df = pd.DataFrame(np.arange(50).reshape((10,5)),index =dates)\n",
    "dup_df"
   ]
  },
  {
   "cell_type": "code",
   "execution_count": null,
   "metadata": {
    "colab": {
     "base_uri": "https://localhost:8080/",
     "height": 195
    },
    "id": "zHX4hRxmVFgX",
    "outputId": "60d5b10c-5b89-4042-8edd-0fedcc4a46b1"
   },
   "outputs": [
    {
     "name": "stdout",
     "output_type": "stream",
     "text": [
      "['s', 'e', 2, 3, 4]\n",
      "             s  e  x   2   3   4\n",
      "2021-01-17  20  2  0  22  23  24\n",
      "2021-01-18  30  2  1  32  33  34\n",
      "2021-01-19  40  2  2  42  43  44\n",
      "2021-01-20  45  2  3  47  48  49\n",
      "2021-01-21  35  2  4  37  38  39\n"
     ]
    },
    {
     "data": {
      "text/plain": [
       "20"
      ]
     },
     "execution_count": 316,
     "metadata": {
      "tags": []
     },
     "output_type": "execute_result"
    }
   ],
   "source": [
    "grouped_df = dup_df.groupby(level=0).max()\n",
    "grouped_df = grouped_df.rename(columns={0:\"s\",1:\"e\"})\n",
    "col_name = grouped_df.columns.tolist()\n",
    "print(col_name)\n",
    "col_name.insert(2,\"x\")\n",
    "\n",
    "grouped_df = grouped_df.reindex(columns = col_name)\n",
    "\n",
    "\n",
    "grouped_df['x'] = [i for i in range(5)]\n",
    "grouped_df[\"e\"] = int(\"2\") \n",
    "print(grouped_df)\n",
    "#grouped_df.iloc[4]\n",
    "#grouped_df.loc[\"2021-01-17\"]\n",
    "grouped_df[\"s\"][0]"
   ]
  },
  {
   "cell_type": "markdown",
   "metadata": {
    "id": "r0mHbnmisOaO"
   },
   "source": [
    "4 useful tips of Pandas GroupBy  \n",
    "https://towardsdatascience.com/4-useful-tips-of-pandas-groupby-3744eefb1852"
   ]
  },
  {
   "cell_type": "code",
   "execution_count": null,
   "metadata": {
    "colab": {
     "base_uri": "https://localhost:8080/",
     "height": 225
    },
    "id": "5wdOzVFTsNkn",
    "outputId": "f0512696-01f2-4c91-bbff-7d23ca16fbf3"
   },
   "outputs": [
    {
     "data": {
      "text/html": [
       "<div>\n",
       "<style scoped>\n",
       "    .dataframe tbody tr th:only-of-type {\n",
       "        vertical-align: middle;\n",
       "    }\n",
       "\n",
       "    .dataframe tbody tr th {\n",
       "        vertical-align: top;\n",
       "    }\n",
       "\n",
       "    .dataframe thead th {\n",
       "        text-align: right;\n",
       "    }\n",
       "</style>\n",
       "<table border=\"1\" class=\"dataframe\">\n",
       "  <thead>\n",
       "    <tr style=\"text-align: right;\">\n",
       "      <th></th>\n",
       "      <th>week</th>\n",
       "      <th>day</th>\n",
       "      <th>sales</th>\n",
       "    </tr>\n",
       "  </thead>\n",
       "  <tbody>\n",
       "    <tr>\n",
       "      <th>0</th>\n",
       "      <td>A</td>\n",
       "      <td>1_monday</td>\n",
       "      <td>10</td>\n",
       "    </tr>\n",
       "    <tr>\n",
       "      <th>1</th>\n",
       "      <td>A</td>\n",
       "      <td>5_friday</td>\n",
       "      <td>8</td>\n",
       "    </tr>\n",
       "    <tr>\n",
       "      <th>2</th>\n",
       "      <td>B</td>\n",
       "      <td>1_monday</td>\n",
       "      <td>15</td>\n",
       "    </tr>\n",
       "    <tr>\n",
       "      <th>3</th>\n",
       "      <td>B</td>\n",
       "      <td>5_friday</td>\n",
       "      <td>7</td>\n",
       "    </tr>\n",
       "    <tr>\n",
       "      <th>4</th>\n",
       "      <td>C</td>\n",
       "      <td>1_monday</td>\n",
       "      <td>9</td>\n",
       "    </tr>\n",
       "    <tr>\n",
       "      <th>5</th>\n",
       "      <td>C</td>\n",
       "      <td>5_friday</td>\n",
       "      <td>3</td>\n",
       "    </tr>\n",
       "  </tbody>\n",
       "</table>\n",
       "</div>"
      ],
      "text/plain": [
       "  week       day  sales\n",
       "0    A  1_monday     10\n",
       "1    A  5_friday      8\n",
       "2    B  1_monday     15\n",
       "3    B  5_friday      7\n",
       "4    C  1_monday      9\n",
       "5    C  5_friday      3"
      ]
     },
     "execution_count": 270,
     "metadata": {
      "tags": []
     },
     "output_type": "execute_result"
    }
   ],
   "source": [
    "df = pd.DataFrame([{\"week\": \"A\", \"day\": \"1_monday\", \"sales\": 10},\n",
    "    {\"week\": \"A\", \"day\": \"5_friday\", \"sales\": 8},\n",
    "    {\"week\": \"B\", \"day\": \"1_monday\", \"sales\": 15},\n",
    "    {\"week\": \"B\", \"day\": \"5_friday\", \"sales\": 7},\n",
    "    {\"week\": \"C\", \"day\": \"1_monday\", \"sales\": 9},\n",
    "    {\"week\": \"C\", \"day\": \"5_friday\", \"sales\": 3},])\n",
    "df[[\"week\",'day','sales']]"
   ]
  },
  {
   "cell_type": "code",
   "execution_count": null,
   "metadata": {
    "colab": {
     "base_uri": "https://localhost:8080/",
     "height": 254
    },
    "id": "CspSCW-gsNf_",
    "outputId": "1a487441-a810-4316-e8be-a2bf4b5898f8"
   },
   "outputs": [
    {
     "data": {
      "text/html": [
       "<div>\n",
       "<style scoped>\n",
       "    .dataframe tbody tr th:only-of-type {\n",
       "        vertical-align: middle;\n",
       "    }\n",
       "\n",
       "    .dataframe tbody tr th {\n",
       "        vertical-align: top;\n",
       "    }\n",
       "\n",
       "    .dataframe thead th {\n",
       "        text-align: right;\n",
       "    }\n",
       "</style>\n",
       "<table border=\"1\" class=\"dataframe\">\n",
       "  <thead>\n",
       "    <tr style=\"text-align: right;\">\n",
       "      <th></th>\n",
       "      <th></th>\n",
       "      <th>sales</th>\n",
       "      <th>%</th>\n",
       "    </tr>\n",
       "    <tr>\n",
       "      <th>week</th>\n",
       "      <th>day</th>\n",
       "      <th></th>\n",
       "      <th></th>\n",
       "    </tr>\n",
       "  </thead>\n",
       "  <tbody>\n",
       "    <tr>\n",
       "      <th rowspan=\"2\" valign=\"top\">A</th>\n",
       "      <th>1_monday</th>\n",
       "      <td>10</td>\n",
       "      <td>19.230769</td>\n",
       "    </tr>\n",
       "    <tr>\n",
       "      <th>5_friday</th>\n",
       "      <td>8</td>\n",
       "      <td>15.384615</td>\n",
       "    </tr>\n",
       "    <tr>\n",
       "      <th rowspan=\"2\" valign=\"top\">B</th>\n",
       "      <th>1_monday</th>\n",
       "      <td>15</td>\n",
       "      <td>28.846154</td>\n",
       "    </tr>\n",
       "    <tr>\n",
       "      <th>5_friday</th>\n",
       "      <td>7</td>\n",
       "      <td>13.461538</td>\n",
       "    </tr>\n",
       "    <tr>\n",
       "      <th rowspan=\"2\" valign=\"top\">C</th>\n",
       "      <th>1_monday</th>\n",
       "      <td>9</td>\n",
       "      <td>17.307692</td>\n",
       "    </tr>\n",
       "    <tr>\n",
       "      <th>5_friday</th>\n",
       "      <td>3</td>\n",
       "      <td>5.769231</td>\n",
       "    </tr>\n",
       "  </tbody>\n",
       "</table>\n",
       "</div>"
      ],
      "text/plain": [
       "               sales          %\n",
       "week day                       \n",
       "A    1_monday     10  19.230769\n",
       "     5_friday      8  15.384615\n",
       "B    1_monday     15  28.846154\n",
       "     5_friday      7  13.461538\n",
       "C    1_monday      9  17.307692\n",
       "     5_friday      3   5.769231"
      ]
     },
     "execution_count": 280,
     "metadata": {
      "tags": []
     },
     "output_type": "execute_result"
    }
   ],
   "source": [
    "groupped_data = df.groupby(['week','day']).agg({'sales':'sum'})\n",
    "groupped_data[\"%\"] = groupped_data.apply(lambda x: 100*x /x.sum())\n",
    "groupped_data  #計算出銷售百分比"
   ]
  },
  {
   "cell_type": "code",
   "execution_count": null,
   "metadata": {
    "colab": {
     "base_uri": "https://localhost:8080/",
     "height": 254
    },
    "id": "AJXa6cS5sNVA",
    "outputId": "f6964e7c-b6c9-4549-d849-1e3d7315ba6f"
   },
   "outputs": [
    {
     "data": {
      "text/html": [
       "<div>\n",
       "<style scoped>\n",
       "    .dataframe tbody tr th:only-of-type {\n",
       "        vertical-align: middle;\n",
       "    }\n",
       "\n",
       "    .dataframe tbody tr th {\n",
       "        vertical-align: top;\n",
       "    }\n",
       "\n",
       "    .dataframe thead th {\n",
       "        text-align: right;\n",
       "    }\n",
       "</style>\n",
       "<table border=\"1\" class=\"dataframe\">\n",
       "  <thead>\n",
       "    <tr style=\"text-align: right;\">\n",
       "      <th></th>\n",
       "      <th></th>\n",
       "      <th>sales</th>\n",
       "      <th>%</th>\n",
       "    </tr>\n",
       "    <tr>\n",
       "      <th>week</th>\n",
       "      <th>day</th>\n",
       "      <th></th>\n",
       "      <th></th>\n",
       "    </tr>\n",
       "  </thead>\n",
       "  <tbody>\n",
       "    <tr>\n",
       "      <th rowspan=\"2\" valign=\"top\">A</th>\n",
       "      <th>1_monday</th>\n",
       "      <td>10</td>\n",
       "      <td>55.555556</td>\n",
       "    </tr>\n",
       "    <tr>\n",
       "      <th>5_friday</th>\n",
       "      <td>8</td>\n",
       "      <td>44.444444</td>\n",
       "    </tr>\n",
       "    <tr>\n",
       "      <th rowspan=\"2\" valign=\"top\">B</th>\n",
       "      <th>1_monday</th>\n",
       "      <td>15</td>\n",
       "      <td>68.181818</td>\n",
       "    </tr>\n",
       "    <tr>\n",
       "      <th>5_friday</th>\n",
       "      <td>7</td>\n",
       "      <td>31.818182</td>\n",
       "    </tr>\n",
       "    <tr>\n",
       "      <th rowspan=\"2\" valign=\"top\">C</th>\n",
       "      <th>1_monday</th>\n",
       "      <td>9</td>\n",
       "      <td>75.000000</td>\n",
       "    </tr>\n",
       "    <tr>\n",
       "      <th>5_friday</th>\n",
       "      <td>3</td>\n",
       "      <td>25.000000</td>\n",
       "    </tr>\n",
       "  </tbody>\n",
       "</table>\n",
       "</div>"
      ],
      "text/plain": [
       "               sales          %\n",
       "week day                       \n",
       "A    1_monday     10  55.555556\n",
       "     5_friday      8  44.444444\n",
       "B    1_monday     15  68.181818\n",
       "     5_friday      7  31.818182\n",
       "C    1_monday      9  75.000000\n",
       "     5_friday      3  25.000000"
      ]
     },
     "execution_count": 169,
     "metadata": {
      "tags": []
     },
     "output_type": "execute_result"
    }
   ],
   "source": [
    "groupped_data[\"%\"] = groupped_data.groupby(level=0).apply(lambda x: 100* x/x.sum())\n",
    "groupped_data  #個別產品不同日銷售占比"
   ]
  },
  {
   "cell_type": "code",
   "execution_count": null,
   "metadata": {
    "colab": {
     "base_uri": "https://localhost:8080/",
     "height": 254
    },
    "id": "84ddXDU5Appb",
    "outputId": "5fc4818a-bedd-45f1-e57f-5a06efdea5bd"
   },
   "outputs": [
    {
     "data": {
      "text/html": [
       "<div>\n",
       "<style scoped>\n",
       "    .dataframe tbody tr th:only-of-type {\n",
       "        vertical-align: middle;\n",
       "    }\n",
       "\n",
       "    .dataframe tbody tr th {\n",
       "        vertical-align: top;\n",
       "    }\n",
       "\n",
       "    .dataframe thead th {\n",
       "        text-align: right;\n",
       "    }\n",
       "</style>\n",
       "<table border=\"1\" class=\"dataframe\">\n",
       "  <thead>\n",
       "    <tr style=\"text-align: right;\">\n",
       "      <th></th>\n",
       "      <th></th>\n",
       "      <th>sales</th>\n",
       "    </tr>\n",
       "    <tr>\n",
       "      <th>week</th>\n",
       "      <th>day</th>\n",
       "      <th></th>\n",
       "    </tr>\n",
       "  </thead>\n",
       "  <tbody>\n",
       "    <tr>\n",
       "      <th rowspan=\"2\" valign=\"top\">A</th>\n",
       "      <th>1_monday</th>\n",
       "      <td>10</td>\n",
       "    </tr>\n",
       "    <tr>\n",
       "      <th>5_friday</th>\n",
       "      <td>18</td>\n",
       "    </tr>\n",
       "    <tr>\n",
       "      <th rowspan=\"2\" valign=\"top\">B</th>\n",
       "      <th>1_monday</th>\n",
       "      <td>33</td>\n",
       "    </tr>\n",
       "    <tr>\n",
       "      <th>5_friday</th>\n",
       "      <td>40</td>\n",
       "    </tr>\n",
       "    <tr>\n",
       "      <th rowspan=\"2\" valign=\"top\">C</th>\n",
       "      <th>1_monday</th>\n",
       "      <td>49</td>\n",
       "    </tr>\n",
       "    <tr>\n",
       "      <th>5_friday</th>\n",
       "      <td>52</td>\n",
       "    </tr>\n",
       "  </tbody>\n",
       "</table>\n",
       "</div>"
      ],
      "text/plain": [
       "               sales\n",
       "week day            \n",
       "A    1_monday     10\n",
       "     5_friday     18\n",
       "B    1_monday     33\n",
       "     5_friday     40\n",
       "C    1_monday     49\n",
       "     5_friday     52"
      ]
     },
     "execution_count": 170,
     "metadata": {
      "tags": []
     },
     "output_type": "execute_result"
    }
   ],
   "source": [
    "groupped_data = df.groupby(['week','day']).agg({'sales':'sum'})\n",
    "groupped_data.cumsum() #可以累計加總"
   ]
  },
  {
   "cell_type": "code",
   "execution_count": null,
   "metadata": {
    "colab": {
     "base_uri": "https://localhost:8080/",
     "height": 254
    },
    "id": "UED4gCPOApaF",
    "outputId": "ac1cf04b-96f9-48e7-faef-9608140e91e3"
   },
   "outputs": [
    {
     "data": {
      "text/html": [
       "<div>\n",
       "<style scoped>\n",
       "    .dataframe tbody tr th:only-of-type {\n",
       "        vertical-align: middle;\n",
       "    }\n",
       "\n",
       "    .dataframe tbody tr th {\n",
       "        vertical-align: top;\n",
       "    }\n",
       "\n",
       "    .dataframe thead th {\n",
       "        text-align: right;\n",
       "    }\n",
       "</style>\n",
       "<table border=\"1\" class=\"dataframe\">\n",
       "  <thead>\n",
       "    <tr style=\"text-align: right;\">\n",
       "      <th></th>\n",
       "      <th></th>\n",
       "      <th>sales</th>\n",
       "    </tr>\n",
       "    <tr>\n",
       "      <th>week</th>\n",
       "      <th>day</th>\n",
       "      <th></th>\n",
       "    </tr>\n",
       "  </thead>\n",
       "  <tbody>\n",
       "    <tr>\n",
       "      <th rowspan=\"2\" valign=\"top\">A</th>\n",
       "      <th>1_monday</th>\n",
       "      <td>10</td>\n",
       "    </tr>\n",
       "    <tr>\n",
       "      <th>5_friday</th>\n",
       "      <td>18</td>\n",
       "    </tr>\n",
       "    <tr>\n",
       "      <th rowspan=\"2\" valign=\"top\">B</th>\n",
       "      <th>1_monday</th>\n",
       "      <td>15</td>\n",
       "    </tr>\n",
       "    <tr>\n",
       "      <th>5_friday</th>\n",
       "      <td>22</td>\n",
       "    </tr>\n",
       "    <tr>\n",
       "      <th rowspan=\"2\" valign=\"top\">C</th>\n",
       "      <th>1_monday</th>\n",
       "      <td>9</td>\n",
       "    </tr>\n",
       "    <tr>\n",
       "      <th>5_friday</th>\n",
       "      <td>12</td>\n",
       "    </tr>\n",
       "  </tbody>\n",
       "</table>\n",
       "</div>"
      ],
      "text/plain": [
       "               sales\n",
       "week day            \n",
       "A    1_monday     10\n",
       "     5_friday     18\n",
       "B    1_monday     15\n",
       "     5_friday     22\n",
       "C    1_monday      9\n",
       "     5_friday     12"
      ]
     },
     "execution_count": 171,
     "metadata": {
      "tags": []
     },
     "output_type": "execute_result"
    }
   ],
   "source": [
    "groupped_data.groupby(level=0).cumsum()"
   ]
  },
  {
   "cell_type": "code",
   "execution_count": null,
   "metadata": {
    "colab": {
     "base_uri": "https://localhost:8080/",
     "height": 195
    },
    "id": "_ShYG-QLCJWk",
    "outputId": "2d1da852-172d-4a5c-e55f-b08a4d7da628"
   },
   "outputs": [
    {
     "data": {
      "text/html": [
       "<div>\n",
       "<style scoped>\n",
       "    .dataframe tbody tr th:only-of-type {\n",
       "        vertical-align: middle;\n",
       "    }\n",
       "\n",
       "    .dataframe tbody tr th {\n",
       "        vertical-align: top;\n",
       "    }\n",
       "\n",
       "    .dataframe thead tr th {\n",
       "        text-align: left;\n",
       "    }\n",
       "\n",
       "    .dataframe thead tr:last-of-type th {\n",
       "        text-align: right;\n",
       "    }\n",
       "</style>\n",
       "<table border=\"1\" class=\"dataframe\">\n",
       "  <thead>\n",
       "    <tr>\n",
       "      <th></th>\n",
       "      <th colspan=\"2\" halign=\"left\">sales</th>\n",
       "    </tr>\n",
       "    <tr>\n",
       "      <th></th>\n",
       "      <th>max_sales</th>\n",
       "      <th>mean_sales</th>\n",
       "    </tr>\n",
       "    <tr>\n",
       "      <th>week</th>\n",
       "      <th></th>\n",
       "      <th></th>\n",
       "    </tr>\n",
       "  </thead>\n",
       "  <tbody>\n",
       "    <tr>\n",
       "      <th>A</th>\n",
       "      <td>10</td>\n",
       "      <td>9</td>\n",
       "    </tr>\n",
       "    <tr>\n",
       "      <th>B</th>\n",
       "      <td>15</td>\n",
       "      <td>11</td>\n",
       "    </tr>\n",
       "    <tr>\n",
       "      <th>C</th>\n",
       "      <td>9</td>\n",
       "      <td>6</td>\n",
       "    </tr>\n",
       "  </tbody>\n",
       "</table>\n",
       "</div>"
      ],
      "text/plain": [
       "         sales           \n",
       "     max_sales mean_sales\n",
       "week                     \n",
       "A           10          9\n",
       "B           15         11\n",
       "C            9          6"
      ]
     },
     "execution_count": 172,
     "metadata": {
      "tags": []
     },
     "output_type": "execute_result"
    }
   ],
   "source": [
    "groupped_data = df.groupby(\"week\").agg({\"sales\":[(\"max_sales\",'max'),(\"mean_sales\",\"mean\")]})\n",
    "groupped_data"
   ]
  },
  {
   "cell_type": "code",
   "execution_count": null,
   "metadata": {
    "id": "ctUsHF16YdFb",
    "outputId": "49cfc3f6-bd3f-4c6a-98f7-9f99051abc6f"
   },
   "outputs": [
    {
     "data": {
      "text/html": [
       "<div>\n",
       "<style scoped>\n",
       "    .dataframe tbody tr th:only-of-type {\n",
       "        vertical-align: middle;\n",
       "    }\n",
       "\n",
       "    .dataframe tbody tr th {\n",
       "        vertical-align: top;\n",
       "    }\n",
       "\n",
       "    .dataframe thead tr th {\n",
       "        text-align: left;\n",
       "    }\n",
       "\n",
       "    .dataframe thead tr:last-of-type th {\n",
       "        text-align: right;\n",
       "    }\n",
       "</style>\n",
       "<table border=\"1\" class=\"dataframe\">\n",
       "  <thead>\n",
       "    <tr>\n",
       "      <th></th>\n",
       "      <th colspan=\"2\" halign=\"left\">sales</th>\n",
       "    </tr>\n",
       "    <tr>\n",
       "      <th></th>\n",
       "      <th>max_sales</th>\n",
       "      <th>mean_sales</th>\n",
       "    </tr>\n",
       "    <tr>\n",
       "      <th>week</th>\n",
       "      <th></th>\n",
       "      <th></th>\n",
       "    </tr>\n",
       "  </thead>\n",
       "  <tbody>\n",
       "    <tr>\n",
       "      <th>A</th>\n",
       "      <td>10</td>\n",
       "      <td>9</td>\n",
       "    </tr>\n",
       "    <tr>\n",
       "      <th>B</th>\n",
       "      <td>15</td>\n",
       "      <td>11</td>\n",
       "    </tr>\n",
       "    <tr>\n",
       "      <th>C</th>\n",
       "      <td>9</td>\n",
       "      <td>6</td>\n",
       "    </tr>\n",
       "  </tbody>\n",
       "</table>\n",
       "</div>"
      ],
      "text/plain": [
       "         sales           \n",
       "     max_sales mean_sales\n",
       "week                     \n",
       "A           10          9\n",
       "B           15         11\n",
       "C            9          6"
      ]
     },
     "execution_count": 330,
     "metadata": {
      "tags": []
     },
     "output_type": "execute_result"
    }
   ],
   "source": [
    "groupped_data = df.groupby(\"week\").agg({\"sales\":[(\"max_sales\",\"max\"),(\"mean_sales\",\"mean\")]})\n",
    "groupped_data"
   ]
  },
  {
   "cell_type": "code",
   "execution_count": null,
   "metadata": {
    "colab": {
     "base_uri": "https://localhost:8080/",
     "height": 166
    },
    "id": "xQWJOMtGCKXI",
    "outputId": "3e0a51e1-ef2a-486d-d1df-1d0c3ebad3fa"
   },
   "outputs": [
    {
     "data": {
      "text/html": [
       "<div>\n",
       "<style scoped>\n",
       "    .dataframe tbody tr th:only-of-type {\n",
       "        vertical-align: middle;\n",
       "    }\n",
       "\n",
       "    .dataframe tbody tr th {\n",
       "        vertical-align: top;\n",
       "    }\n",
       "\n",
       "    .dataframe thead th {\n",
       "        text-align: right;\n",
       "    }\n",
       "</style>\n",
       "<table border=\"1\" class=\"dataframe\">\n",
       "  <thead>\n",
       "    <tr style=\"text-align: right;\">\n",
       "      <th></th>\n",
       "      <th>max_sales</th>\n",
       "      <th>mean_sales</th>\n",
       "    </tr>\n",
       "    <tr>\n",
       "      <th>week</th>\n",
       "      <th></th>\n",
       "      <th></th>\n",
       "    </tr>\n",
       "  </thead>\n",
       "  <tbody>\n",
       "    <tr>\n",
       "      <th>A</th>\n",
       "      <td>10</td>\n",
       "      <td>9</td>\n",
       "    </tr>\n",
       "    <tr>\n",
       "      <th>B</th>\n",
       "      <td>15</td>\n",
       "      <td>11</td>\n",
       "    </tr>\n",
       "    <tr>\n",
       "      <th>C</th>\n",
       "      <td>9</td>\n",
       "      <td>6</td>\n",
       "    </tr>\n",
       "  </tbody>\n",
       "</table>\n",
       "</div>"
      ],
      "text/plain": [
       "      max_sales  mean_sales\n",
       "week                       \n",
       "A            10           9\n",
       "B            15          11\n",
       "C             9           6"
      ]
     },
     "execution_count": 175,
     "metadata": {
      "tags": []
     },
     "output_type": "execute_result"
    }
   ],
   "source": [
    "groupped_data.columns = groupped_data.columns.droplevel()\n",
    "groupped_data"
   ]
  },
  {
   "cell_type": "code",
   "execution_count": null,
   "metadata": {
    "colab": {
     "base_uri": "https://localhost:8080/",
     "height": 166
    },
    "id": "EwFhV3qlCLZI",
    "outputId": "827c2cb6-6706-4d8d-8ace-3e058d17c47a"
   },
   "outputs": [
    {
     "data": {
      "text/html": [
       "<div>\n",
       "<style scoped>\n",
       "    .dataframe tbody tr th:only-of-type {\n",
       "        vertical-align: middle;\n",
       "    }\n",
       "\n",
       "    .dataframe tbody tr th {\n",
       "        vertical-align: top;\n",
       "    }\n",
       "\n",
       "    .dataframe thead th {\n",
       "        text-align: right;\n",
       "    }\n",
       "</style>\n",
       "<table border=\"1\" class=\"dataframe\">\n",
       "  <thead>\n",
       "    <tr style=\"text-align: right;\">\n",
       "      <th></th>\n",
       "      <th>sales</th>\n",
       "    </tr>\n",
       "    <tr>\n",
       "      <th>week</th>\n",
       "      <th></th>\n",
       "    </tr>\n",
       "  </thead>\n",
       "  <tbody>\n",
       "    <tr>\n",
       "      <th>A</th>\n",
       "      <td>[10, 8]</td>\n",
       "    </tr>\n",
       "    <tr>\n",
       "      <th>B</th>\n",
       "      <td>[15, 7]</td>\n",
       "    </tr>\n",
       "    <tr>\n",
       "      <th>C</th>\n",
       "      <td>[9, 3]</td>\n",
       "    </tr>\n",
       "  </tbody>\n",
       "</table>\n",
       "</div>"
      ],
      "text/plain": [
       "        sales\n",
       "week         \n",
       "A     [10, 8]\n",
       "B     [15, 7]\n",
       "C      [9, 3]"
      ]
     },
     "execution_count": 176,
     "metadata": {
      "tags": []
     },
     "output_type": "execute_result"
    }
   ],
   "source": [
    "pd.DataFrame(df.groupby('week')['sales'].apply(list))"
   ]
  }
 ],
 "metadata": {
  "colab": {
   "collapsed_sections": [],
   "name": "109C1041林家賢.ipynb",
   "provenance": []
  },
  "kernelspec": {
   "display_name": "Python 3",
   "language": "python",
   "name": "python3"
  },
  "language_info": {
   "codemirror_mode": {
    "name": "ipython",
    "version": 3
   },
   "file_extension": ".py",
   "mimetype": "text/x-python",
   "name": "python",
   "nbconvert_exporter": "python",
   "pygments_lexer": "ipython3",
   "version": "3.8.3"
  }
 },
 "nbformat": 4,
 "nbformat_minor": 1
}
