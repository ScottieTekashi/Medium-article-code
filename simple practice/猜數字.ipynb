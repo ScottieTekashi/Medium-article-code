{
 "cells": [
  {
   "cell_type": "markdown",
   "metadata": {
    "id": "wJ_61gTchSES"
   },
   "source": [
    "  情境:    \n",
    "請輸入3個數字:223   \n",
    "第1次猜測(正解224):目前結果2A0B  \n",
    "請輸入3個數字:2254   \n",
    "輸入錯誤請輸入3個數字   \n",
    "請輸入3個數字:225   \n",
    "第2次猜測(正解224):目前結果2A0B  \n",
    "請輸入3個數字:224   \n",
    "恭喜通關答案:224    "
   ]
  },
  {
   "cell_type": "code",
   "execution_count": 1,
   "metadata": {
    "colab": {
     "base_uri": "https://localhost:8080/"
    },
    "executionInfo": {
     "elapsed": 1062,
     "status": "ok",
     "timestamp": 1614094482712,
     "user": {
      "displayName": "scottie lin",
      "photoUrl": "https://lh3.googleusercontent.com/a-/AOh14GjHgAg8f435wi9RzLRXK0slfKMeoyXNrJt66P-k6A=s64",
      "userId": "04400360475248421777"
     },
     "user_tz": -480
    },
    "id": "FK0PJ_0QhBBo",
    "outputId": "e536686a-5f3d-47bc-a556-3a3e31cd00b0"
   },
   "outputs": [
    {
     "name": "stdout",
     "output_type": "stream",
     "text": [
      "[1, 2, 3, 4]\n"
     ]
    }
   ],
   "source": [
    "#原本想設計適用於所有位數的判別A,B的function,有空再回來想,先交作業\n",
    "#以下為判斷猜數字的不同數字的個數統計\n",
    "s = [1,2,2,2,2,3,3,3,4,4,4,4]\n",
    "def gess_count(List):\n",
    "\n",
    "    a = {}\n",
    "    for i in List:\n",
    "        if List.count(i) >= 1:\n",
    "            a[i] = List.count(i)\n",
    "    return a\n",
    "g = gess_count(s)\n",
    "b = []\n",
    "for i in g.keys():\n",
    "    b.append(i)\n",
    "print(b)"
   ]
  },
  {
   "cell_type": "code",
   "execution_count": 2,
   "metadata": {
    "colab": {
     "base_uri": "https://localhost:8080/"
    },
    "executionInfo": {
     "elapsed": 1009,
     "status": "ok",
     "timestamp": 1614094507579,
     "user": {
      "displayName": "scottie lin",
      "photoUrl": "https://lh3.googleusercontent.com/a-/AOh14GjHgAg8f435wi9RzLRXK0slfKMeoyXNrJt66P-k6A=s64",
      "userId": "04400360475248421777"
     },
     "user_tz": -480
    },
    "id": "wXuy7bbPhlai",
    "outputId": "c5481c62-7748-4f54-cd4d-2ad040e89da6"
   },
   "outputs": [
    {
     "name": "stdout",
     "output_type": "stream",
     "text": [
      "1 A 0 B\n"
     ]
    }
   ],
   "source": [
    "#判別A,B的Function\n",
    "#隨著猜數字的位數越多,判別式會需要調整,以下僅以猜3個數字做判別\n",
    "def hint(guess,anwser):\n",
    "     guess = [i for i in str(guess)]\n",
    "     anwser = [i for i in str(anwser)]\n",
    "     count_guess = gess_count(guess)\n",
    "     sort_list =0\n",
    "     A = 0\n",
    "     B = 0\n",
    "     recordA = []\n",
    "     recordB = []\n",
    "     for i in guess:\n",
    "         if (i == anwser[sort_list]) :\n",
    "             A+=1\n",
    "             sort_list +=1\n",
    "             recordA.append(i)\n",
    "         elif (i in set(anwser)) and (i not in recordB): #(guess.count(i)==1)\n",
    "            B+=1\n",
    "            sort_list +=1 \n",
    "            recordB.append(i)\n",
    "         else:\n",
    "            sort_list +=1\n",
    "     if (len(set(guess)) == 1) & (A != 0):\n",
    "        B-=1 \n",
    "     return print(A,\"A\",B,\"B\",)\n",
    "hint(332,442) "
   ]
  },
  {
   "cell_type": "code",
   "execution_count": 3,
   "metadata": {
    "colab": {
     "base_uri": "https://localhost:8080/"
    },
    "executionInfo": {
     "elapsed": 35168,
     "status": "ok",
     "timestamp": 1614094546527,
     "user": {
      "displayName": "scottie lin",
      "photoUrl": "https://lh3.googleusercontent.com/a-/AOh14GjHgAg8f435wi9RzLRXK0slfKMeoyXNrJt66P-k6A=s64",
      "userId": "04400360475248421777"
     },
     "user_tz": -480
    },
    "id": "UN-XYIyNhte7",
    "outputId": "3fe19b60-3cc5-4c2d-92fb-441b6f59e52e"
   },
   "outputs": [
    {
     "name": "stdout",
     "output_type": "stream",
     "text": [
      "請輸入3個數字:123\n",
      "第 1 次猜測:目前結果\n",
      "2 A 0 B\n",
      "請輸入3個數字:jkl\n",
      "輸入3個數字好嗎?\n",
      "請輸入3個數字:jkluio\n",
      "輸入3個數字好嗎?\n",
      "請輸入3個數字:225\n",
      "第 2 次猜測:目前結果\n",
      "2 A 0 B\n",
      "請輸入3個數字:223\n",
      "Bingo!!\n"
     ]
    }
   ],
   "source": [
    "#執行猜數字的程式迴圈\n",
    "anwser = 223\n",
    "contral = False\n",
    "count = 0\n",
    "while contral != True:\n",
    "    user_input = input(\"請輸入3個數字:\")\n",
    "    try:\n",
    "        num = int(user_input) \n",
    "        \n",
    "    except:\n",
    "        \n",
    "        print(\"輸入3個數字好嗎?\")\n",
    "        continue\n",
    "    \n",
    "    if len(user_input) != 3  :\n",
    "        print(\"輸入錯誤請輸入3個數字:\")\n",
    "\n",
    "    elif user_input != str(anwser):\n",
    "        count+=1       \n",
    "        \n",
    "        print('第' , count ,'次猜測:目前結果') \n",
    "        hint(user_input,str(anwser))\n",
    "\n",
    "    elif num == anwser:\n",
    "        print(\"Bingo!!\")\n",
    "        contral = True\n"
   ]
  }
 ],
 "metadata": {
  "colab": {
   "authorship_tag": "ABX9TyM1jlhZGAp/Pd+XApPj2Ykc",
   "collapsed_sections": [],
   "name": "109C1041 林家賢 2/23.ipynb",
   "provenance": []
  },
  "kernelspec": {
   "display_name": "Python 3",
   "language": "python",
   "name": "python3"
  },
  "language_info": {
   "codemirror_mode": {
    "name": "ipython",
    "version": 3
   },
   "file_extension": ".py",
   "mimetype": "text/x-python",
   "name": "python",
   "nbconvert_exporter": "python",
   "pygments_lexer": "ipython3",
   "version": "3.8.3"
  }
 },
 "nbformat": 4,
 "nbformat_minor": 1
}
