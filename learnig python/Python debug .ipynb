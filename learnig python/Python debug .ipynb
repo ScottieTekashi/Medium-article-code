{
 "cells": [
  {
   "cell_type": "markdown",
   "metadata": {},
   "source": [
    "# Python 無痛 Debug\n",
    "Python 跑出執行錯誤非常的麻煩，要如何看懂錯誤在表達甚麼，學會不要怕一行一行了解報錯訊息才能將問題迎刃而解  \n",
    "以下先做一個範例帶大家讀懂報錯訊息，之後再舉出新手常見錯誤範例示範，寫python已經很辛苦了，因此我們範例均以娛樂  \n",
    "產業舉例為主，讓客官有共鳴的學習python~~\n"
   ]
  },
  {
   "cell_type": "markdown",
   "metadata": {},
   "source": [
    "|目錄|\n",
    "|:--|\n",
    "|SyntaxError: EOL while scanning string literal|\n",
    "|AttributeError:'list' object has no attribute 'split'|\n",
    "|NameError:NameError: name 'NETFLIX' is not defined|\n",
    "|SyntaxError: invalid syntax|\n",
    "|FileNotFoundError:[Errno 2] No such file or directory: 'C:\\Users\\user\\Desktop\\medium文案\\the movie list'|\n",
    "|KeyError： 'Justin Bieber'|\n",
    "|IndexError：list index out of range|\n",
    "|TypeError：'str' object does not support item assignment|\n",
    "|ZeroDivisionError: division by zero|\n",
    "|ValueError：invalid literal for int() with base 10: 'lottery'|"
   ]
  },
  {
   "attachments": {},
   "cell_type": "markdown",
   "metadata": {},
   "source": [
    "<img src= \"https://media.geeksforgeeks.org/wp-content/uploads/20191218200140/pt.jpg\" width=\"500\" height=\"500\">\n"
   ]
  },
  {
   "cell_type": "markdown",
   "metadata": {},
   "source": [
    "綠色框:顯示發生了什麼類型的錯誤。  \n",
    "藍色框:顯示有​​關錯誤的相關信息  \n",
    "橘色框:python中呼叫(call)某個函式庫/模組(Package/Module)\n",
    "出現問題的回朔指出源頭  \n",
    "帶紅色下劃線的部分:顯示了發生異常執行的位置。"
   ]
  },
  {
   "cell_type": "markdown",
   "metadata": {},
   "source": [
    "## SyntaxError: EOL while scanning string literal"
   ]
  },
  {
   "cell_type": "code",
   "execution_count": 1,
   "metadata": {},
   "outputs": [
    {
     "ename": "SyntaxError",
     "evalue": "EOL while scanning string literal (<ipython-input-1-14c68fcc48b9>, line 1)",
     "output_type": "error",
     "traceback": [
      "\u001b[1;36m  File \u001b[1;32m\"<ipython-input-1-14c68fcc48b9>\"\u001b[1;36m, line \u001b[1;32m1\u001b[0m\n\u001b[1;33m    print(\"Wentworth Miller is so handsome!)\u001b[0m\n\u001b[1;37m                                            ^\u001b[0m\n\u001b[1;31mSyntaxError\u001b[0m\u001b[1;31m:\u001b[0m EOL while scanning string literal\n"
     ]
    }
   ],
   "source": [
    "print(\"Wentworth Miller is so handsome!)\n",
    "      # Prison Break 的 Wentworth Miller 是真低帥啊~~"
   ]
  },
  {
   "cell_type": "markdown",
   "metadata": {},
   "source": [
    "### 發生原因及解決方案\n",
    "打印字串的時候將 \"\" 打成 \" 句尾的引號不見了，補上即可\n"
   ]
  },
  {
   "cell_type": "code",
   "execution_count": 3,
   "metadata": {},
   "outputs": [
    {
     "name": "stdout",
     "output_type": "stream",
     "text": [
      "Wentworth Miller is so handsome!\n"
     ]
    }
   ],
   "source": [
    "print(\"Wentworth Miller is so handsome!\")\n",
    "# Prison Break 的 Wentworth Miller 是真低帥啊~~"
   ]
  },
  {
   "cell_type": "markdown",
   "metadata": {},
   "source": [
    "## AttributeError:'list' object has no attribute 'split'"
   ]
  },
  {
   "cell_type": "code",
   "execution_count": 4,
   "metadata": {},
   "outputs": [
    {
     "ename": "AttributeError",
     "evalue": "'list' object has no attribute 'split'",
     "output_type": "error",
     "traceback": [
      "\u001b[1;31m---------------------------------------------------------------------------\u001b[0m",
      "\u001b[1;31mAttributeError\u001b[0m                            Traceback (most recent call last)",
      "\u001b[1;32m<ipython-input-4-4390be32de3e>\u001b[0m in \u001b[0;36m<module>\u001b[1;34m\u001b[0m\n\u001b[0;32m      1\u001b[0m \u001b[0msexy_actors\u001b[0m \u001b[1;33m=\u001b[0m \u001b[1;33m[\u001b[0m\u001b[1;34m\"Margot Robbie\"\u001b[0m\u001b[1;33m,\u001b[0m\u001b[1;34m\"Megan Fox\"\u001b[0m\u001b[1;33m,\u001b[0m\u001b[1;34m\"Yvonne Strahovski\"\u001b[0m\u001b[1;33m,\u001b[0m\u001b[1;34m\"Olivia Wilde\"\u001b[0m\u001b[1;33m,\u001b[0m\u001b[1;34m\"Keira Knightley\"\u001b[0m\u001b[1;33m,\u001b[0m\u001b[1;34m\"Melissa Benoist\"\u001b[0m\u001b[1;33m]\u001b[0m\u001b[1;33m\u001b[0m\u001b[1;33m\u001b[0m\u001b[0m\n\u001b[0;32m      2\u001b[0m \u001b[1;31m#把電影依照女演員做分類標準\u001b[0m\u001b[1;33m\u001b[0m\u001b[1;33m\u001b[0m\u001b[1;33m\u001b[0m\u001b[0m\n\u001b[1;32m----> 3\u001b[1;33m \u001b[0msexy_actors\u001b[0m\u001b[1;33m.\u001b[0m\u001b[0msplit\u001b[0m\u001b[1;33m(\u001b[0m\u001b[1;33m)\u001b[0m\u001b[1;33m\u001b[0m\u001b[1;33m\u001b[0m\u001b[0m\n\u001b[0m",
      "\u001b[1;31mAttributeError\u001b[0m: 'list' object has no attribute 'split'"
     ]
    }
   ],
   "source": [
    "sexy_actors = [\"Margot Robbie\",\"Megan Fox\",\"Yvonne Strahovski\",\"Olivia Wilde\",\"Keira Knightley\",\"Melissa Benoist\"]\n",
    "#把電影依照女演員做分類標準\n",
    "sexy_actors.split()"
   ]
  },
  {
   "cell_type": "markdown",
   "metadata": {},
   "source": [
    "### 發生原因及解決方案\n",
    "python的方法拼字錯誤或是這個datatype沒有這個屬性或方法\n",
    "###### ps python程式後面  python.   .後面+tab鍵會列出方法或屬性(methods or Attribute)"
   ]
  },
  {
   "cell_type": "markdown",
   "metadata": {},
   "source": [
    "## NameError:NameError: name 'NETFLIX' is not defined"
   ]
  },
  {
   "cell_type": "code",
   "execution_count": 5,
   "metadata": {},
   "outputs": [
    {
     "ename": "NameError",
     "evalue": "name 'NETFLIX' is not defined",
     "output_type": "error",
     "traceback": [
      "\u001b[1;31m---------------------------------------------------------------------------\u001b[0m",
      "\u001b[1;31mNameError\u001b[0m                                 Traceback (most recent call last)",
      "\u001b[1;32m<ipython-input-5-8b35fc9a76cf>\u001b[0m in \u001b[0;36m<module>\u001b[1;34m\u001b[0m\n\u001b[0;32m      2\u001b[0m \u001b[0mNetflix\u001b[0m \u001b[1;33m=\u001b[0m \u001b[1;33m[\u001b[0m\u001b[1;34m'Emily In Paris'\u001b[0m\u001b[1;33m,\u001b[0m\u001b[1;34m\"The Boys\"\u001b[0m\u001b[1;33m,\u001b[0m\u001b[1;34m\"The Umbrella Academy\"\u001b[0m\u001b[1;33m,\u001b[0m\u001b[1;34m\"Reality Z\"\u001b[0m\u001b[1;33m,\u001b[0m\u001b[1;34m\"The Woods\"\u001b[0m\u001b[1;33m,\u001b[0m\u001b[1;34m\"The Head\"\u001b[0m\u001b[1;33m,\u001b[0m\u001b[1;34m\"Dark\"\u001b[0m\u001b[1;33m,\u001b[0m\u001b[1;34m\"Stateless\"\u001b[0m\u001b[1;33m]\u001b[0m\u001b[1;33m\u001b[0m\u001b[1;33m\u001b[0m\u001b[0m\n\u001b[0;32m      3\u001b[0m \u001b[1;31m#sorted依照字母排序\u001b[0m\u001b[1;33m\u001b[0m\u001b[1;33m\u001b[0m\u001b[1;33m\u001b[0m\u001b[0m\n\u001b[1;32m----> 4\u001b[1;33m \u001b[0mprint\u001b[0m\u001b[1;33m(\u001b[0m\u001b[0msorted\u001b[0m\u001b[1;33m(\u001b[0m\u001b[0mNETFLIX\u001b[0m\u001b[1;33m)\u001b[0m\u001b[1;33m)\u001b[0m\u001b[1;33m\u001b[0m\u001b[1;33m\u001b[0m\u001b[0m\n\u001b[0m",
      "\u001b[1;31mNameError\u001b[0m: name 'NETFLIX' is not defined"
     ]
    }
   ],
   "source": [
    "#2020下半年NETFLIX追劇大推薦~~~經典好劇我們來排一下觀看順序吧\n",
    "Netflix = ['Emily In Paris',\"The Boys\",\"The Umbrella Academy\",\"Reality Z\",\"The Woods\",\"The Head\",\"Dark\",\"Stateless\"]\n",
    "#sorted依照字母排序\n",
    "print(sorted(NETFLIX))"
   ]
  },
  {
   "cell_type": "markdown",
   "metadata": {},
   "source": [
    "### 發生原因及解決方案\n",
    "通常發生在打錯變數名稱，或是使用了未宣告過的變數。\n",
    "##### python的命名規則有區分大小寫分"
   ]
  },
  {
   "cell_type": "code",
   "execution_count": 6,
   "metadata": {},
   "outputs": [
    {
     "name": "stdout",
     "output_type": "stream",
     "text": [
      "['Dark', 'Emily In Paris', 'Reality Z', 'Stateless', 'The Boys', 'The Head', 'The Umbrella Academy', 'The Woods']\n"
     ]
    }
   ],
   "source": [
    "#2020下半年NETFLIX追劇大推薦~~~經典好劇我們來排一下觀看順序吧\n",
    "Netflix = ['Emily In Paris',\"The Boys\",\"The Umbrella Academy\",\"Reality Z\",\"The Woods\",\"The Head\",\"Dark\",\"Stateless\"]\n",
    "#sorted依照字母排序\n",
    "print(sorted(Netflix))"
   ]
  },
  {
   "cell_type": "markdown",
   "metadata": {},
   "source": [
    "## SyntaxError: invalid syntax"
   ]
  },
  {
   "cell_type": "code",
   "execution_count": 7,
   "metadata": {},
   "outputs": [
    {
     "ename": "SyntaxError",
     "evalue": "invalid syntax (<ipython-input-7-57f6f336d812>, line 3)",
     "output_type": "error",
     "traceback": [
      "\u001b[1;36m  File \u001b[1;32m\"<ipython-input-7-57f6f336d812>\"\u001b[1;36m, line \u001b[1;32m3\u001b[0m\n\u001b[1;33m    for number in super_start\u001b[0m\n\u001b[1;37m                             ^\u001b[0m\n\u001b[1;31mSyntaxError\u001b[0m\u001b[1;31m:\u001b[0m invalid syntax\n"
     ]
    }
   ],
   "source": [
    "super_start = [\"Jensen Ackles\",\" Aaron Taylor-Johnson\",\"Chris Hemsworth\",\n",
    "               \"Tom Cruise\",\"Chad Michael Murray\",\"Johnny Depp\"]\n",
    "for number in super_start\n",
    "    #在奧斯卡頒獎典禮走星光大道時從後台把帥哥偷偷拉走\n",
    "    print(super_start.pop())\n"
   ]
  },
  {
   "cell_type": "markdown",
   "metadata": {},
   "source": [
    "### 發生原因及解決方案\n",
    "在 \n",
    "if...elif...else\n",
    "while\n",
    "for\n",
    "迴圈及條件式子或\n",
    "class\n",
    "def\n",
    "聲明末尾添加 ：(分號)\n"
   ]
  },
  {
   "cell_type": "code",
   "execution_count": 8,
   "metadata": {},
   "outputs": [
    {
     "name": "stdout",
     "output_type": "stream",
     "text": [
      "Johnny Depp\n",
      "Chad Michael Murray\n",
      "Tom Cruise\n"
     ]
    }
   ],
   "source": [
    "super_start = [\"Jensen Ackles\",\" Aaron Taylor-Johnson\",\"Chris Hemsworth\",\n",
    "               \"Tom Cruise\",\"Chad Michael Murray\",\"Johnny Depp\"]\n",
    "for number in super_start:\n",
    "    #在奧斯卡頒獎典禮走星光大道時從後台把帥哥偷偷拉走\n",
    "    print(super_start.pop())"
   ]
  },
  {
   "cell_type": "markdown",
   "metadata": {},
   "source": [
    "## FileNotFoundError:\n",
    "## [Errno 2] No such file or directory: 'C:\\\\Users\\\\user\\\\Desktop\\\\medium文案\\\\the movie list'\n",
    "\n"
   ]
  },
  {
   "cell_type": "code",
   "execution_count": 23,
   "metadata": {},
   "outputs": [
    {
     "ename": "FileNotFoundError",
     "evalue": "[Errno 2] No such file or directory: 'C:\\\\Users\\\\user\\\\Desktop\\\\medium文案\\\\the movie list'",
     "output_type": "error",
     "traceback": [
      "\u001b[1;31m---------------------------------------------------------------------------\u001b[0m",
      "\u001b[1;31mFileNotFoundError\u001b[0m                         Traceback (most recent call last)",
      "\u001b[1;32m<ipython-input-23-d8dcb5e4e4b0>\u001b[0m in \u001b[0;36m<module>\u001b[1;34m\u001b[0m\n\u001b[1;32m----> 1\u001b[1;33m \u001b[0mf\u001b[0m \u001b[1;33m=\u001b[0m \u001b[0mopen\u001b[0m\u001b[1;33m(\u001b[0m\u001b[1;34mr'C:\\Users\\user\\Desktop\\medium文案\\the movie list'\u001b[0m\u001b[1;33m,\u001b[0m\u001b[1;34m\"r\"\u001b[0m\u001b[1;33m,\u001b[0m\u001b[0mencoding\u001b[0m \u001b[1;33m=\u001b[0m \u001b[1;34m\"UTF-8\"\u001b[0m\u001b[1;33m)\u001b[0m\u001b[1;33m\u001b[0m\u001b[1;33m\u001b[0m\u001b[0m\n\u001b[0m\u001b[0;32m      2\u001b[0m \u001b[1;32mfor\u001b[0m \u001b[0mline\u001b[0m \u001b[1;32min\u001b[0m \u001b[0mf\u001b[0m\u001b[1;33m.\u001b[0m\u001b[0mreadlines\u001b[0m\u001b[1;33m(\u001b[0m\u001b[1;33m)\u001b[0m\u001b[1;33m:\u001b[0m\u001b[1;33m\u001b[0m\u001b[1;33m\u001b[0m\u001b[0m\n\u001b[0;32m      3\u001b[0m \u001b[1;31m#列出2021即將上映的強檔電影名單\u001b[0m\u001b[1;33m\u001b[0m\u001b[1;33m\u001b[0m\u001b[1;33m\u001b[0m\u001b[0m\n\u001b[0;32m      4\u001b[0m     \u001b[0mprint\u001b[0m\u001b[1;33m(\u001b[0m\u001b[0mline\u001b[0m\u001b[1;33m)\u001b[0m\u001b[1;33m\u001b[0m\u001b[1;33m\u001b[0m\u001b[0m\n\u001b[0;32m      5\u001b[0m \u001b[0mf\u001b[0m\u001b[1;33m.\u001b[0m\u001b[0mclose\u001b[0m\u001b[1;33m(\u001b[0m\u001b[1;33m)\u001b[0m\u001b[1;33m\u001b[0m\u001b[1;33m\u001b[0m\u001b[0m\n",
      "\u001b[1;31mFileNotFoundError\u001b[0m: [Errno 2] No such file or directory: 'C:\\\\Users\\\\user\\\\Desktop\\\\medium文案\\\\the movie list'"
     ]
    }
   ],
   "source": [
    "f = open(r'C:\\Users\\user\\Desktop\\medium文案\\the movie list',\"r\",encoding = \"UTF-8\")\n",
    "for line in f.readlines():\n",
    "#列出2021即將上映的強檔電影名單\n",
    "    print(line)\n",
    "f.close()\n"
   ]
  },
  {
   "cell_type": "markdown",
   "metadata": {},
   "source": [
    "## 發生原因及解決方案\n",
    "\n",
    "1. 文件確實不存在\n",
    "\n",
    "當錯誤的輸入了一個不存在的文件名，並試圖打開它的時候，程序會因為找不到這個文件名而引發IOError錯誤，這種情況就需要將輸入的文件名修改成正確的文件名！\n",
    "\n",
    "2. 文件寫入時遇到錯誤\n",
    "\n",
    "該錯誤引起的原因極有可能是以讀取方式打開了文件，並在讀取模式中寫入文件內容，所以引起錯誤，正確的方式應該是在讀取文件之後記得把文件關閉，當需要寫入文件時，要再將文件以W+方式寫入。\n",
    "\n",
    "3. 權限問題導致\n",
    "\n",
    "當不滿足訪問該文件的權限時，也會引發錯誤，要解決該問題，需要超級管理員設置相應的讀取和寫入權限即可！"
   ]
  },
  {
   "cell_type": "code",
   "execution_count": 24,
   "metadata": {},
   "outputs": [
    {
     "name": "stdout",
     "output_type": "stream",
     "text": [
      "Candyman\n",
      "\n",
      "The Forever Purge\n",
      "\n",
      "Fast & Furious 9\n",
      "\n",
      "A Quiet Place Part II\n",
      "\n",
      "Space Jam\n"
     ]
    }
   ],
   "source": [
    "f = open(r'C:\\Users\\user\\Desktop\\medium文案\\the movie list.txt',\"r\",encoding = \"UTF-8\")\n",
    "for line in f.readlines():\n",
    "#列出2021即將上映的強檔電影名單   \n",
    "    print(line)\n",
    "f.close()\n"
   ]
  },
  {
   "cell_type": "markdown",
   "metadata": {},
   "source": [
    "## KeyError： 'Justin Bieber'"
   ]
  },
  {
   "cell_type": "code",
   "execution_count": 22,
   "metadata": {},
   "outputs": [
    {
     "name": "stdout",
     "output_type": "stream",
     "text": [
      "輸入: Justin Bieber\n"
     ]
    },
    {
     "ename": "KeyError",
     "evalue": "'Justin Bieber'",
     "output_type": "error",
     "traceback": [
      "\u001b[1;31m---------------------------------------------------------------------------\u001b[0m",
      "\u001b[1;31mKeyError\u001b[0m                                  Traceback (most recent call last)",
      "\u001b[1;32m<ipython-input-22-b7899112ef1f>\u001b[0m in \u001b[0;36m<module>\u001b[1;34m\u001b[0m\n\u001b[0;32m     19\u001b[0m   \u001b[1;34m'Chris Hemsworth'\u001b[0m\u001b[1;33m:\u001b[0m \u001b[1;34m'Gabriella Brooks'\u001b[0m\u001b[1;33m\u001b[0m\u001b[1;33m\u001b[0m\u001b[0m\n\u001b[0;32m     20\u001b[0m }\n\u001b[1;32m---> 21\u001b[1;33m \u001b[0mprint\u001b[0m\u001b[1;33m(\u001b[0m\u001b[0mdict\u001b[0m\u001b[1;33m[\u001b[0m\u001b[0muser_input\u001b[0m\u001b[1;33m]\u001b[0m\u001b[1;33m)\u001b[0m\u001b[1;33m\u001b[0m\u001b[1;33m\u001b[0m\u001b[0m\n\u001b[0m",
      "\u001b[1;31mKeyError\u001b[0m: 'Justin Bieber'"
     ]
    }
   ],
   "source": [
    "#輸入以下男星名稱自動找出他老婆或女朋友是誰~~\n",
    "\n",
    "user_input = input('輸入: ')\n",
    "dict = {\n",
    "  'Christian Bale': 'Sibi Blazic',\n",
    "  'Matthew McConaughey': 'Camila Alves',\n",
    "  'Robert Downey Jr.': 'Susan Downey',\n",
    "  'Hugh Jackman': 'Deborra-Lee Furness',\n",
    "  'George Clooney': 'Sarah Larson',\n",
    "  'Ben Affleck': 'Ana de Armas',\n",
    "  'Matt Damon': 'Luciana Barroso',\n",
    "  'Brad Pitt': 'single',\n",
    "  'Leonardo DiCaprio': 'Camila Morrone',\n",
    "  'Chris Evans': 'Jenny Slate',\n",
    "  'Johnny Depp': 'Amber Heard',\n",
    "   'Tom Cruise': 'single',\n",
    "  'Robert Pattinson': 'Suki Waterhouse',\n",
    "  'James McAvoy': 'Lisa Liberati',\n",
    "  'Chris Hemsworth': 'Gabriella Brooks'\n",
    "}\n",
    "print(dict[user_input])"
   ]
  },
  {
   "cell_type": "markdown",
   "metadata": {},
   "source": [
    "## 發生原因及解決方案\n",
    "justin bieber 不在我們建立的{}字典當中，要就要把他加進去並且給予正確key-values\n",
    "或是輸入別人的名字"
   ]
  },
  {
   "cell_type": "code",
   "execution_count": 21,
   "metadata": {},
   "outputs": [
    {
     "name": "stdout",
     "output_type": "stream",
     "text": [
      "輸入: Justin Bieber\n",
      "Hailey Rhode Bieber\n"
     ]
    }
   ],
   "source": [
    "#輸入以下男星名稱自動找出他老婆或女朋友是誰~~\n",
    "\n",
    "user_input = input('輸入: ')\n",
    "dict = {\n",
    "  'Christian Bale': 'Sibi Blazic',\n",
    "  'Matthew McConaughey': 'Camila Alves',\n",
    "  'Robert Downey Jr.': 'Susan Downey',\n",
    "  'Hugh Jackman': 'Deborra-Lee Furness',\n",
    "  'George Clooney': 'Sarah Larson',\n",
    "  'Ben Affleck': 'Ana de Armas',\n",
    "  'Matt Damon': 'Luciana Barroso',\n",
    "  'Brad Pitt': 'single',\n",
    "  'Leonardo DiCaprio': 'Camila Morrone',\n",
    "  'Chris Evans': 'Jenny Slate',\n",
    "  'Johnny Depp': 'Amber Heard',\n",
    "   'Tom Cruise': 'single',\n",
    "  'Robert Pattinson': 'Suki Waterhouse',\n",
    "  'James McAvoy': 'Lisa Liberati',\n",
    "  'Chris Hemsworth': 'Gabriella Brooks',\n",
    "  \"Justin Bieber\":\"Hailey Rhode Bieber\"\n",
    "}\n",
    "print(dict[user_input])"
   ]
  },
  {
   "cell_type": "markdown",
   "metadata": {},
   "source": [
    "## IndexError：list index out of range\n",
    "\n"
   ]
  },
  {
   "cell_type": "code",
   "execution_count": 13,
   "metadata": {},
   "outputs": [
    {
     "ename": "IndexError",
     "evalue": "list index out of range",
     "output_type": "error",
     "traceback": [
      "\u001b[1;31m---------------------------------------------------------------------------\u001b[0m",
      "\u001b[1;31mIndexError\u001b[0m                                Traceback (most recent call last)",
      "\u001b[1;32m<ipython-input-13-711d6ebba07d>\u001b[0m in \u001b[0;36m<module>\u001b[1;34m\u001b[0m\n\u001b[0;32m      2\u001b[0m \u001b[0mNetflix\u001b[0m \u001b[1;33m=\u001b[0m \u001b[1;33m[\u001b[0m\u001b[1;34m'Emily In Paris'\u001b[0m\u001b[1;33m,\u001b[0m\u001b[1;34m\"The Boys\"\u001b[0m\u001b[1;33m,\u001b[0m\u001b[1;34m\"The Umbrella Academy\"\u001b[0m\u001b[1;33m,\u001b[0m\u001b[1;34m\"Reality Z\"\u001b[0m\u001b[1;33m,\u001b[0m\u001b[1;34m\"The Woods\"\u001b[0m\u001b[1;33m,\u001b[0m\u001b[1;34m\"The Head\"\u001b[0m\u001b[1;33m,\u001b[0m\u001b[1;34m\"Dark\"\u001b[0m\u001b[1;33m,\u001b[0m\u001b[1;34m\"Stateless\"\u001b[0m\u001b[1;33m]\u001b[0m\u001b[1;33m\u001b[0m\u001b[1;33m\u001b[0m\u001b[0m\n\u001b[0;32m      3\u001b[0m \u001b[1;31m#尋找2020推薦好片\u001b[0m\u001b[1;33m\u001b[0m\u001b[1;33m\u001b[0m\u001b[1;33m\u001b[0m\u001b[0m\n\u001b[1;32m----> 4\u001b[1;33m \u001b[0mprint\u001b[0m\u001b[1;33m(\u001b[0m\u001b[0mNetflix\u001b[0m\u001b[1;33m[\u001b[0m\u001b[1;36m9\u001b[0m\u001b[1;33m]\u001b[0m\u001b[1;33m)\u001b[0m\u001b[1;33m\u001b[0m\u001b[1;33m\u001b[0m\u001b[0m\n\u001b[0m",
      "\u001b[1;31mIndexError\u001b[0m: list index out of range"
     ]
    }
   ],
   "source": [
    "#2020下半年NETFLIX追劇大推薦~~~\n",
    "Netflix = ['Emily In Paris',\"The Boys\",\"The Umbrella Academy\",\"Reality Z\",\"The Woods\",\"The Head\",\"Dark\",\"Stateless\"]\n",
    "#尋找2020推薦好片\n",
    "print(Netflix[9])"
   ]
  },
  {
   "cell_type": "markdown",
   "metadata": {},
   "source": [
    "## 發生原因及解決方案\n",
    "list 或是其他可以索引(slice)的Container都會有這樣的問題\n",
    "索引值超出裡面有的元素"
   ]
  },
  {
   "cell_type": "code",
   "execution_count": 14,
   "metadata": {},
   "outputs": [
    {
     "name": "stdout",
     "output_type": "stream",
     "text": [
      "Dark\n"
     ]
    }
   ],
   "source": [
    "#2020下半年NETFLIX追劇大推薦~~~\n",
    "Netflix = ['Emily In Paris',\"The Boys\",\"The Umbrella Academy\",\"Reality Z\",\"The Woods\",\"The Head\",\"Dark\",\"Stateless\"]\n",
    "#尋找2020推薦好片\n",
    "print(Netflix[6])"
   ]
  },
  {
   "cell_type": "markdown",
   "metadata": {},
   "source": [
    "## TypeError：'str' object does not support item assignment\n",
    "\n",
    "\n"
   ]
  },
  {
   "cell_type": "code",
   "execution_count": 15,
   "metadata": {},
   "outputs": [
    {
     "ename": "TypeError",
     "evalue": "'str' object does not support item assignment",
     "output_type": "error",
     "traceback": [
      "\u001b[1;31m---------------------------------------------------------------------------\u001b[0m",
      "\u001b[1;31mTypeError\u001b[0m                                 Traceback (most recent call last)",
      "\u001b[1;32m<ipython-input-15-5eb21ef47e95>\u001b[0m in \u001b[0;36m<module>\u001b[1;34m\u001b[0m\n\u001b[0;32m      1\u001b[0m \u001b[1;31m#2020很火的電影我想試圖串改這部電影\u001b[0m\u001b[1;33m\u001b[0m\u001b[1;33m\u001b[0m\u001b[1;33m\u001b[0m\u001b[0m\n\u001b[0;32m      2\u001b[0m \u001b[0mthe_best_movie\u001b[0m \u001b[1;33m=\u001b[0m \u001b[1;34m\"刻在我心底的名字\"\u001b[0m\u001b[1;33m\u001b[0m\u001b[1;33m\u001b[0m\u001b[0m\n\u001b[1;32m----> 3\u001b[1;33m \u001b[0mthe_best_movie\u001b[0m\u001b[1;33m[\u001b[0m\u001b[1;33m:\u001b[0m\u001b[1;33m]\u001b[0m\u001b[1;33m=\u001b[0m\u001b[1;34m\"Birds of Prey\"\u001b[0m\u001b[1;33m\u001b[0m\u001b[1;33m\u001b[0m\u001b[0m\n\u001b[0m\u001b[0;32m      4\u001b[0m \u001b[1;33m\u001b[0m\u001b[0m\n\u001b[0;32m      5\u001b[0m \u001b[0mprint\u001b[0m\u001b[1;33m(\u001b[0m\u001b[0mthe_best_movie\u001b[0m\u001b[1;33m)\u001b[0m\u001b[1;33m\u001b[0m\u001b[1;33m\u001b[0m\u001b[0m\n",
      "\u001b[1;31mTypeError\u001b[0m: 'str' object does not support item assignment"
     ]
    }
   ],
   "source": [
    "#2020很火的電影我想試圖串改這部電影\n",
    "the_best_movie = \"刻在我心底的名字\"\n",
    "the_best_movie[:]=\"Birds of Prey\"\n",
    "\n",
    "print(the_best_movie)"
   ]
  },
  {
   "cell_type": "markdown",
   "metadata": {},
   "source": [
    "## 發生原因及解決方案\n",
    "當想用的方法(method)或datatype不支援,例如可能想嘗試修改'()'裡面的值,  \n",
    "或是本題想要修改string的值,string是一種不可變的數據類型,直接更改變數賦值就行\n",
    "簡而言之,如果你採用諸如print,+,-方法時若是輸入錯誤的object都會報這樣的錯誤(就是不符python規定的指定項目)"
   ]
  },
  {
   "cell_type": "code",
   "execution_count": 16,
   "metadata": {},
   "outputs": [
    {
     "name": "stdout",
     "output_type": "stream",
     "text": [
      "Birds of Prey\n"
     ]
    }
   ],
   "source": [
    "#2020很火的電影我想試圖串改這部電影\n",
    "the_best_movie = \"刻在我心底的名字\"\n",
    "the_best_movie =\"Birds of Prey\"\n",
    "\n",
    "print(the_best_movie)"
   ]
  },
  {
   "cell_type": "markdown",
   "metadata": {},
   "source": [
    "## ZeroDivisionError: division by zero"
   ]
  },
  {
   "cell_type": "code",
   "execution_count": 17,
   "metadata": {},
   "outputs": [
    {
     "ename": "ZeroDivisionError",
     "evalue": "division by zero",
     "output_type": "error",
     "traceback": [
      "\u001b[1;31m---------------------------------------------------------------------------\u001b[0m",
      "\u001b[1;31mZeroDivisionError\u001b[0m                         Traceback (most recent call last)",
      "\u001b[1;32m<ipython-input-17-adf7a39d84b3>\u001b[0m in \u001b[0;36m<module>\u001b[1;34m\u001b[0m\n\u001b[0;32m      1\u001b[0m \u001b[1;31m#這比較簡單分母不得為零,就無法舉例了哈哈~~~\u001b[0m\u001b[1;33m\u001b[0m\u001b[1;33m\u001b[0m\u001b[1;33m\u001b[0m\u001b[0m\n\u001b[1;32m----> 2\u001b[1;33m \u001b[1;36m5\u001b[0m\u001b[1;33m/\u001b[0m\u001b[1;36m0\u001b[0m\u001b[1;33m\u001b[0m\u001b[1;33m\u001b[0m\u001b[0m\n\u001b[0m",
      "\u001b[1;31mZeroDivisionError\u001b[0m: division by zero"
     ]
    }
   ],
   "source": [
    "#這比較簡單分母不得為零,就無法舉例了哈哈~~~\n",
    "5/0"
   ]
  },
  {
   "cell_type": "markdown",
   "metadata": {},
   "source": [
    "## ValueError：invalid literal for int() with base 10: 'lottery'"
   ]
  },
  {
   "cell_type": "code",
   "execution_count": 18,
   "metadata": {},
   "outputs": [
    {
     "ename": "ValueError",
     "evalue": "invalid literal for int() with base 10: 'lottery'",
     "output_type": "error",
     "traceback": [
      "\u001b[1;31m---------------------------------------------------------------------------\u001b[0m",
      "\u001b[1;31mValueError\u001b[0m                                Traceback (most recent call last)",
      "\u001b[1;32m<ipython-input-18-a522bcf1858d>\u001b[0m in \u001b[0;36m<module>\u001b[1;34m\u001b[0m\n\u001b[0;32m      5\u001b[0m \u001b[1;33m\u001b[0m\u001b[0m\n\u001b[0;32m      6\u001b[0m \u001b[0mlottery\u001b[0m \u001b[1;33m=\u001b[0m \u001b[0mnp\u001b[0m\u001b[1;33m.\u001b[0m\u001b[0mrandom\u001b[0m\u001b[1;33m.\u001b[0m\u001b[0mrandint\u001b[0m\u001b[1;33m(\u001b[0m\u001b[1;36m0\u001b[0m\u001b[1;33m,\u001b[0m\u001b[1;36m5\u001b[0m\u001b[1;33m,\u001b[0m\u001b[1;36m1\u001b[0m\u001b[1;33m)\u001b[0m\u001b[1;33m\u001b[0m\u001b[1;33m\u001b[0m\u001b[0m\n\u001b[1;32m----> 7\u001b[1;33m \u001b[0mlottery\u001b[0m \u001b[1;33m=\u001b[0m \u001b[0mint\u001b[0m\u001b[1;33m(\u001b[0m\u001b[1;34m\"lottery\"\u001b[0m\u001b[1;33m)\u001b[0m\u001b[1;33m\u001b[0m\u001b[1;33m\u001b[0m\u001b[0m\n\u001b[0m\u001b[0;32m      8\u001b[0m \u001b[0msecret_star\u001b[0m \u001b[1;33m=\u001b[0m \u001b[0msuper_star\u001b[0m\u001b[1;33m[\u001b[0m\u001b[0mlottery\u001b[0m\u001b[1;33m]\u001b[0m\u001b[1;33m\u001b[0m\u001b[1;33m\u001b[0m\u001b[0m\n\u001b[0;32m      9\u001b[0m \u001b[0mprint\u001b[0m\u001b[1;33m(\u001b[0m\u001b[0msecret_star\u001b[0m\u001b[1;33m)\u001b[0m\u001b[1;33m\u001b[0m\u001b[1;33m\u001b[0m\u001b[0m\n",
      "\u001b[1;31mValueError\u001b[0m: invalid literal for int() with base 10: 'lottery'"
     ]
    }
   ],
   "source": [
    "#今天是明星粉絲見面會有1位明星要來但不知道是哪位,預定是用抽籤的方式決定,但後來因為5位都沒空所以活動無法舉辦\n",
    "import numpy as np\n",
    "super_star = [\"Jensen Ackles\",\" Aaron Taylor-Johnson\",\"Chris Hemsworth\",\n",
    "               \"Tom Cruise\",\"Chad Michael Murray\",\"Johnny Depp\"]\n",
    "\n",
    "lottery = np.random.randint(0,5,1)\n",
    "lottery = int(\"lottery\")\n",
    "secret_star = super_star[lottery]\n",
    "print(secret_star)"
   ]
  },
  {
   "cell_type": "markdown",
   "metadata": {},
   "source": [
    "## 發生原因及解決方案\n",
    "值錯誤，傳給對象的參數類型不正確，給int()函數傳入了字符串數據類型的參數，應修改"
   ]
  },
  {
   "cell_type": "code",
   "execution_count": 19,
   "metadata": {},
   "outputs": [
    {
     "name": "stdout",
     "output_type": "stream",
     "text": [
      " Aaron Taylor-Johnson\n"
     ]
    }
   ],
   "source": [
    "#今天是明星粉絲見面會有1位明星要來但不知道是哪位,預定是用抽籤的方式決定,但後來因為5位都沒空所以活動無法舉辦\n",
    "import numpy as np\n",
    "super_star = [\"Jensen Ackles\",\" Aaron Taylor-Johnson\",\"Chris Hemsworth\",\n",
    "               \"Tom Cruise\",\"Chad Michael Murray\",\"Johnny Depp\"]\n",
    "\n",
    "lottery = np.random.randint(0,5,1)\n",
    "lottery = int(lottery)\n",
    "secret_star = super_star[lottery]\n",
    "print(secret_star)"
   ]
  }
 ],
 "metadata": {
  "kernelspec": {
   "display_name": "Python 3",
   "language": "python",
   "name": "python3"
  },
  "language_info": {
   "codemirror_mode": {
    "name": "ipython",
    "version": 3
   },
   "file_extension": ".py",
   "mimetype": "text/x-python",
   "name": "python",
   "nbconvert_exporter": "python",
   "pygments_lexer": "ipython3",
   "version": "3.8.3"
  }
 },
 "nbformat": 4,
 "nbformat_minor": 4
}
